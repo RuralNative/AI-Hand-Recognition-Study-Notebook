{
 "cells": [
  {
   "cell_type": "markdown",
   "id": "b900560b-6e2f-4cce-b729-597de8a684a5",
   "metadata": {},
   "source": [
    "# Machine Learning Development"
   ]
  },
  {
   "cell_type": "markdown",
   "id": "de196831-6b38-4944-84a4-ee5449775f50",
   "metadata": {},
   "source": [
    "In this module, we will discuss how we are going to develop the custom AI model for prediction following the proper lifecycle. "
   ]
  },
  {
   "cell_type": "markdown",
   "id": "79ee8388-9124-4625-8abb-3d73020d7795",
   "metadata": {},
   "source": [
    "To better understand and learn how to apply machine learning to create solutions, we will apply the concepts and knowledge we have learnt from the past notebooks towards the creation of a custom machine learning model that aims to do predict the price of a diamond based on its features."
   ]
  },
  {
   "cell_type": "markdown",
   "id": "7d8757b5-6eb0-4518-b603-2c490dbd2bc2",
   "metadata": {},
   "source": [
    "## Problem and Resources"
   ]
  },
  {
   "cell_type": "markdown",
   "id": "225b26d8-a34a-46ef-8b2b-931c917e91a2",
   "metadata": {},
   "source": [
    "Our task for this scenario would be to build a model that will predict the price of a diamond based on their individual features. These features are the following: *(1) price, (2) carat, (3) cut, (4) color, (5) clarity, (6) x/length, (7) y/width, (8) z/depth, (9) total depth percentage, and (10) table*."
   ]
  },
  {
   "cell_type": "markdown",
   "id": "83729dcf-a897-4d54-9a61-529f01eeb517",
   "metadata": {},
   "source": [
    "The model will be trained from a total of 53,940 samples of diamonds compiled in a single dataset of CSV file format."
   ]
  },
  {
   "cell_type": "markdown",
   "id": "5c8abec3-c30a-44dc-b222-a14b194754bf",
   "metadata": {},
   "source": [
    "## Data Collection"
   ]
  },
  {
   "cell_type": "markdown",
   "id": "4b50c7bc-0f0a-4c5d-942f-e71ce70535a5",
   "metadata": {},
   "source": [
    "As of now we will skip this step as we already have an available dataset publicly available from Kaggle. This dataset named \"Diamonds\" contains 53,940 samples of diamonds containing unique features that will be used to properly train our AI model. "
   ]
  },
  {
   "cell_type": "markdown",
   "id": "6a860433-15b3-49c2-905c-1e379c8ea3d4",
   "metadata": {},
   "source": [
    "Credits must be given for its creator, Shivam Agrawal, for providing us this publicly available [Kaggle dataset](https://www.kaggle.com/datasets/shivam2503/diamonds) free to use for both aspiring machine learning engineers and developers for experimentation and learning."
   ]
  },
  {
   "cell_type": "markdown",
   "id": "8ed15030-9b83-46c7-8293-27dbb4ab91cd",
   "metadata": {},
   "source": [
    "## Data Exploration"
   ]
  },
  {
   "cell_type": "markdown",
   "id": "c9764e16-a1bc-4b19-b227-cc0376902558",
   "metadata": {},
   "source": [
    "To properly explore our data, we will be using the following Python libraries/modules to describe, modify, or visualize our data. Official links to their documentations are also available to serve as an additional reference of learning as to how you may be able to further take advantage their features for advanced exploration.\n",
    "-  [Pandas Library](https://pandas.pydata.org/docs/) to prove high-performance, easy-to-use data structures and data analysis tools for our development.\n",
    "-  [Matplotlib Library](https://matplotlib.org/stable/index.html) creating static, animated, and interactive visualizations for our development.\n",
    "-  [Seaborne Library](https://seaborn.pydata.org/) provides a high-level interface for drawing attractive and informative statistical graphics based from the Matplotlib library."
   ]
  },
  {
   "cell_type": "markdown",
   "id": "ecd4cbfe-bd49-41a3-8686-c5027e8037ce",
   "metadata": {},
   "source": []
  },
  {
   "cell_type": "markdown",
   "id": "7d905781-069e-4bc2-935b-7d225a391c78",
   "metadata": {},
   "source": []
  },
  {
   "cell_type": "markdown",
   "id": "2a0353d2-3e0d-4f22-845b-61f2aabd52e0",
   "metadata": {},
   "source": []
  },
  {
   "cell_type": "markdown",
   "id": "6477eabe-8755-4474-a95e-08d6e5fa94ac",
   "metadata": {},
   "source": []
  },
  {
   "cell_type": "code",
   "execution_count": null,
   "id": "1ff395ab-cb0d-48ba-ad25-a913aaeaefef",
   "metadata": {},
   "outputs": [],
   "source": []
  },
  {
   "cell_type": "markdown",
   "id": "dd87dcc8-6c62-4b38-9c6f-ce1ef47b30bc",
   "metadata": {},
   "source": [
    "[Diamond Price Prediction](https://github.com/RuralNative/Diamond_Price_Prediction)"
   ]
  }
 ],
 "metadata": {
  "kernelspec": {
   "display_name": "Python 3 (ipykernel)",
   "language": "python",
   "name": "python3"
  },
  "language_info": {
   "codemirror_mode": {
    "name": "ipython",
    "version": 3
   },
   "file_extension": ".py",
   "mimetype": "text/x-python",
   "name": "python",
   "nbconvert_exporter": "python",
   "pygments_lexer": "ipython3",
   "version": "3.11.4"
  }
 },
 "nbformat": 4,
 "nbformat_minor": 5
}
