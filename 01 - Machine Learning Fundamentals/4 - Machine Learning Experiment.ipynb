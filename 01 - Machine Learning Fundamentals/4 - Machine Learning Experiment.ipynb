{
 "cells": [
  {
   "cell_type": "markdown",
   "id": "b900560b-6e2f-4cce-b729-597de8a684a5",
   "metadata": {},
   "source": [
    "# Machine Learning Experiment"
   ]
  },
  {
   "cell_type": "markdown",
   "id": "de196831-6b38-4944-84a4-ee5449775f50",
   "metadata": {},
   "source": [
    "Check one of my repositories that uses a diamond dataset containing all of the features of the appropriate diamond to predict their price."
   ]
  },
  {
   "cell_type": "markdown",
   "id": "dd87dcc8-6c62-4b38-9c6f-ce1ef47b30bc",
   "metadata": {},
   "source": [
    "[Diamond Price Prediction](https://github.com/RuralNative/Diamond_Price_Prediction)"
   ]
  }
 ],
 "metadata": {
  "kernelspec": {
   "display_name": "Python 3 (ipykernel)",
   "language": "python",
   "name": "python3"
  },
  "language_info": {
   "codemirror_mode": {
    "name": "ipython",
    "version": 3
   },
   "file_extension": ".py",
   "mimetype": "text/x-python",
   "name": "python",
   "nbconvert_exporter": "python",
   "pygments_lexer": "ipython3",
   "version": "3.11.4"
  }
 },
 "nbformat": 4,
 "nbformat_minor": 5
}
