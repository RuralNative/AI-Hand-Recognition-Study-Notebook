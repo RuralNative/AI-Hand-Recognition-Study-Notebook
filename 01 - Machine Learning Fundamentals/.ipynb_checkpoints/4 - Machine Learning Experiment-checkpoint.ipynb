{
 "cells": [
  {
   "cell_type": "markdown",
   "id": "b900560b-6e2f-4cce-b729-597de8a684a5",
   "metadata": {},
   "source": [
    "# Machine Learning Development - Data Collection/Exploration"
   ]
  },
  {
   "cell_type": "markdown",
   "id": "de196831-6b38-4944-84a4-ee5449775f50",
   "metadata": {},
   "source": [
    "In this module, we will discuss how we are going to develop the custom AI model for prediction following the proper lifecycle. "
   ]
  },
  {
   "cell_type": "markdown",
   "id": "79ee8388-9124-4625-8abb-3d73020d7795",
   "metadata": {},
   "source": [
    "To better understand and learn how to apply machine learning to create solutions, we will apply the concepts and knowledge we have learnt from the past notebooks towards the creation of a custom machine learning model that aims to do predict the price of a diamond based on its features."
   ]
  },
  {
   "cell_type": "markdown",
   "id": "7d8757b5-6eb0-4518-b603-2c490dbd2bc2",
   "metadata": {},
   "source": [
    "## Problem and Resources"
   ]
  },
  {
   "cell_type": "markdown",
   "id": "225b26d8-a34a-46ef-8b2b-931c917e91a2",
   "metadata": {},
   "source": [
    "Our task for this scenario would be to build a model that will predict the price of a diamond based on their individual features. These features are the following: *(1) price, (2) carat, (3) cut, (4) color, (5) clarity, (6) x/length, (7) y/width, (8) z/depth, (9) total depth percentage, and (10) table*."
   ]
  },
  {
   "cell_type": "markdown",
   "id": "83729dcf-a897-4d54-9a61-529f01eeb517",
   "metadata": {},
   "source": [
    "The model will be trained from a total of 53,940 samples of diamonds compiled in a single dataset of CSV file format."
   ]
  },
  {
   "cell_type": "markdown",
   "id": "5c8abec3-c30a-44dc-b222-a14b194754bf",
   "metadata": {},
   "source": [
    "## Data Collection"
   ]
  },
  {
   "cell_type": "markdown",
   "id": "4b50c7bc-0f0a-4c5d-942f-e71ce70535a5",
   "metadata": {},
   "source": [
    "As of now we will skip this step as we already have an available dataset publicly available from Kaggle. This dataset named \"Diamonds\" contains 53,940 samples of diamonds containing unique features that will be used to properly train our AI model. "
   ]
  },
  {
   "cell_type": "markdown",
   "id": "6a860433-15b3-49c2-905c-1e379c8ea3d4",
   "metadata": {},
   "source": [
    "Credits must be given for its creator, Shivam Agrawal, for providing us this publicly available [Kaggle dataset](https://www.kaggle.com/datasets/shivam2503/diamonds) free to use for both aspiring machine learning engineers and developers for experimentation and learning."
   ]
  },
  {
   "cell_type": "markdown",
   "id": "8ed15030-9b83-46c7-8293-27dbb4ab91cd",
   "metadata": {},
   "source": [
    "## Data Exploration"
   ]
  },
  {
   "cell_type": "markdown",
   "id": "754c9dad-344c-4ab9-abc7-a163ea0b4550",
   "metadata": {},
   "source": [
    "### Introduction"
   ]
  },
  {
   "cell_type": "markdown",
   "id": "c9764e16-a1bc-4b19-b227-cc0376902558",
   "metadata": {},
   "source": [
    "To properly explore our data, we will be using the following Python libraries/modules to describe, modify, or visualize our data. Official links to their documentations are also available to serve as an additional reference of learning as to how you may be able to further take advantage their features for advanced exploration.\n",
    "-  [Pandas Library](https://pandas.pydata.org/docs/) to prove high-performance, easy-to-use data structures and data analysis tools for our development.\n",
    "-  [Matplotlib Library](https://matplotlib.org/stable/index.html) creating static, animated, and interactive visualizations for our development.\n",
    "-  [Seaborne Library](https://seaborn.pydata.org/) provides a high-level interface for drawing attractive and informative statistical graphics based from the Matplotlib library."
   ]
  },
  {
   "cell_type": "markdown",
   "id": "f60a02d0-2090-4c62-b7bb-9e8ee43a4b81",
   "metadata": {},
   "source": [
    "### Code"
   ]
  },
  {
   "cell_type": "markdown",
   "id": "ecd4cbfe-bd49-41a3-8686-c5027e8037ce",
   "metadata": {},
   "source": [
    "*The first step in data exploration is to fetch the dataset itself, which is for this case in a CSV file format, and convert it into a Pandas DataFrame so we can be able access, modify, and visualize it. Upon conversion we will then check the characteristics and properties of the DataFrame.*"
   ]
  },
  {
   "cell_type": "code",
   "execution_count": 3,
   "id": "248096de-7865-40b5-995f-73cb3679dd79",
   "metadata": {},
   "outputs": [],
   "source": [
    "# Import the Pandas library\n",
    "import pandas as pd\n",
    "\n",
    "# Fetch CSV dataset and convert it into a DataFrame\n",
    "dataset_directory = 'Resources/diamonds.csv'\n",
    "dataframe = pd.read_csv(dataset_directory)"
   ]
  },
  {
   "cell_type": "code",
   "execution_count": 4,
   "id": "ce0b245c-3da2-4f5f-ab93-9344e2865bae",
   "metadata": {},
   "outputs": [
    {
     "name": "stdout",
     "output_type": "stream",
     "text": [
      "Data Type: <class 'pandas.core.frame.DataFrame'>\n",
      "Dataset Size: 53940\n",
      "Dataset Shape (Rows, Columns): (53940, 11)\n"
     ]
    }
   ],
   "source": [
    "# Check characteristics/properties of DataFrame\n",
    "print(\"Data Type: \" + str(type(dataframe)))\n",
    "print(\"Dataset Size: \" + str(len(dataframe)))\n",
    "print(\"Dataset Shape (Rows, Columns): \" + str(dataframe.shape))"
   ]
  },
  {
   "cell_type": "markdown",
   "id": "6477eabe-8755-4474-a95e-08d6e5fa94ac",
   "metadata": {},
   "source": [
    "*After that, we will check a brief overview of the available samples in our DataFrame and check the general information describing the DataFrame's data.*"
   ]
  },
  {
   "cell_type": "code",
   "execution_count": 5,
   "id": "1ff395ab-cb0d-48ba-ad25-a913aaeaefef",
   "metadata": {},
   "outputs": [
    {
     "data": {
      "text/html": [
       "<div>\n",
       "<style scoped>\n",
       "    .dataframe tbody tr th:only-of-type {\n",
       "        vertical-align: middle;\n",
       "    }\n",
       "\n",
       "    .dataframe tbody tr th {\n",
       "        vertical-align: top;\n",
       "    }\n",
       "\n",
       "    .dataframe thead th {\n",
       "        text-align: right;\n",
       "    }\n",
       "</style>\n",
       "<table border=\"1\" class=\"dataframe\">\n",
       "  <thead>\n",
       "    <tr style=\"text-align: right;\">\n",
       "      <th></th>\n",
       "      <th>Unnamed: 0</th>\n",
       "      <th>carat</th>\n",
       "      <th>cut</th>\n",
       "      <th>color</th>\n",
       "      <th>clarity</th>\n",
       "      <th>depth</th>\n",
       "      <th>table</th>\n",
       "      <th>price</th>\n",
       "      <th>x</th>\n",
       "      <th>y</th>\n",
       "      <th>z</th>\n",
       "    </tr>\n",
       "  </thead>\n",
       "  <tbody>\n",
       "    <tr>\n",
       "      <th>0</th>\n",
       "      <td>1</td>\n",
       "      <td>0.23</td>\n",
       "      <td>Ideal</td>\n",
       "      <td>E</td>\n",
       "      <td>SI2</td>\n",
       "      <td>61.5</td>\n",
       "      <td>55.0</td>\n",
       "      <td>326</td>\n",
       "      <td>3.95</td>\n",
       "      <td>3.98</td>\n",
       "      <td>2.43</td>\n",
       "    </tr>\n",
       "    <tr>\n",
       "      <th>1</th>\n",
       "      <td>2</td>\n",
       "      <td>0.21</td>\n",
       "      <td>Premium</td>\n",
       "      <td>E</td>\n",
       "      <td>SI1</td>\n",
       "      <td>59.8</td>\n",
       "      <td>61.0</td>\n",
       "      <td>326</td>\n",
       "      <td>3.89</td>\n",
       "      <td>3.84</td>\n",
       "      <td>2.31</td>\n",
       "    </tr>\n",
       "    <tr>\n",
       "      <th>2</th>\n",
       "      <td>3</td>\n",
       "      <td>0.23</td>\n",
       "      <td>Good</td>\n",
       "      <td>E</td>\n",
       "      <td>VS1</td>\n",
       "      <td>56.9</td>\n",
       "      <td>65.0</td>\n",
       "      <td>327</td>\n",
       "      <td>4.05</td>\n",
       "      <td>4.07</td>\n",
       "      <td>2.31</td>\n",
       "    </tr>\n",
       "    <tr>\n",
       "      <th>3</th>\n",
       "      <td>4</td>\n",
       "      <td>0.29</td>\n",
       "      <td>Premium</td>\n",
       "      <td>I</td>\n",
       "      <td>VS2</td>\n",
       "      <td>62.4</td>\n",
       "      <td>58.0</td>\n",
       "      <td>334</td>\n",
       "      <td>4.20</td>\n",
       "      <td>4.23</td>\n",
       "      <td>2.63</td>\n",
       "    </tr>\n",
       "    <tr>\n",
       "      <th>4</th>\n",
       "      <td>5</td>\n",
       "      <td>0.31</td>\n",
       "      <td>Good</td>\n",
       "      <td>J</td>\n",
       "      <td>SI2</td>\n",
       "      <td>63.3</td>\n",
       "      <td>58.0</td>\n",
       "      <td>335</td>\n",
       "      <td>4.34</td>\n",
       "      <td>4.35</td>\n",
       "      <td>2.75</td>\n",
       "    </tr>\n",
       "  </tbody>\n",
       "</table>\n",
       "</div>"
      ],
      "text/plain": [
       "   Unnamed: 0  carat      cut color clarity  depth  table  price     x     y  \\\n",
       "0           1   0.23    Ideal     E     SI2   61.5   55.0    326  3.95  3.98   \n",
       "1           2   0.21  Premium     E     SI1   59.8   61.0    326  3.89  3.84   \n",
       "2           3   0.23     Good     E     VS1   56.9   65.0    327  4.05  4.07   \n",
       "3           4   0.29  Premium     I     VS2   62.4   58.0    334  4.20  4.23   \n",
       "4           5   0.31     Good     J     SI2   63.3   58.0    335  4.34  4.35   \n",
       "\n",
       "      z  \n",
       "0  2.43  \n",
       "1  2.31  \n",
       "2  2.31  \n",
       "3  2.63  \n",
       "4  2.75  "
      ]
     },
     "execution_count": 5,
     "metadata": {},
     "output_type": "execute_result"
    }
   ],
   "source": [
    "# Visualize the first 5 columns of the dataset\n",
    "dataframe.head()"
   ]
  },
  {
   "cell_type": "code",
   "execution_count": 6,
   "id": "5e6a181c-4c35-4991-89c0-576d5f109887",
   "metadata": {},
   "outputs": [
    {
     "name": "stdout",
     "output_type": "stream",
     "text": [
      "<class 'pandas.core.frame.DataFrame'>\n",
      "RangeIndex: 53940 entries, 0 to 53939\n",
      "Data columns (total 11 columns):\n",
      " #   Column      Non-Null Count  Dtype  \n",
      "---  ------      --------------  -----  \n",
      " 0   Unnamed: 0  53940 non-null  int64  \n",
      " 1   carat       53940 non-null  float64\n",
      " 2   cut         53940 non-null  object \n",
      " 3   color       53940 non-null  object \n",
      " 4   clarity     53940 non-null  object \n",
      " 5   depth       53940 non-null  float64\n",
      " 6   table       53940 non-null  float64\n",
      " 7   price       53940 non-null  int64  \n",
      " 8   x           53940 non-null  float64\n",
      " 9   y           53940 non-null  float64\n",
      " 10  z           53940 non-null  float64\n",
      "dtypes: float64(6), int64(2), object(3)\n",
      "memory usage: 4.5+ MB\n"
     ]
    }
   ],
   "source": [
    "# Show data types for each columns\n",
    "dataframe.info()"
   ]
  },
  {
   "cell_type": "markdown",
   "id": "dd87dcc8-6c62-4b38-9c6f-ce1ef47b30bc",
   "metadata": {},
   "source": [
    "[Diamond Price Prediction](https://github.com/RuralNative/Diamond_Price_Prediction)"
   ]
  }
 ],
 "metadata": {
  "kernelspec": {
   "display_name": "Python 3 (ipykernel)",
   "language": "python",
   "name": "python3"
  },
  "language_info": {
   "codemirror_mode": {
    "name": "ipython",
    "version": 3
   },
   "file_extension": ".py",
   "mimetype": "text/x-python",
   "name": "python",
   "nbconvert_exporter": "python",
   "pygments_lexer": "ipython3",
   "version": "3.11.4"
  }
 },
 "nbformat": 4,
 "nbformat_minor": 5
}
