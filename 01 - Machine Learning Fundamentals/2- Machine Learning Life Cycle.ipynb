{
 "cells": [
  {
   "cell_type": "markdown",
   "id": "a2106628",
   "metadata": {},
   "source": [
    "# Machine Learning Lifecycle"
   ]
  },
  {
   "cell_type": "markdown",
   "id": "e72527fa-d111-4c6e-96fa-0ac4eec74edb",
   "metadata": {},
   "source": [
    "The lifecycle is the process of developing, deploying, and maintaining a machine learning model for a specific application. This shall serve as our fundamental guideline as to how we are to approach in creating the solutions required for our use case."
   ]
  },
  {
   "cell_type": "markdown",
   "id": "257c5e00-035f-4cdf-875b-b7c78b39a1fb",
   "metadata": {},
   "source": [
    "Below are the comprehensive steps laid out in the lifecycle in machine learning."
   ]
  },
  {
   "cell_type": "markdown",
   "id": "6026b5ea-b577-4ead-b0a2-431325f82063",
   "metadata": {},
   "source": [
    "## Problem Identification and Understanding"
   ]
  },
  {
   "cell_type": "markdown",
   "id": "dae6b344-1364-4b37-8616-aa2e91d0e6b4",
   "metadata": {},
   "source": [
    "The first step in the lifecycle and is crucial as it sets the direction for the project, and involves defining the problem and create the objectives necessary for the resolution of the problem defined."
   ]
  },
  {
   "cell_type": "markdown",
   "id": "89fafbaf-0b9f-47cc-a05f-c8413f6b4d64",
   "metadata": {},
   "source": [
    "**Define the Problem**: The first task in this stage is to clearly define the problem. This involves understanding what the we want to achieve and how a machine learning model can assist in achieving that goal. For this instance, this module aims to guide us together towards the creation of a model that will recognize the hand signs shown in the camera based from the American Sign Language."
   ]
  },
  {
   "cell_type": "markdown",
   "id": "6560b302-0fa3-429f-a9b3-ac461bbcbc4e",
   "metadata": {},
   "source": [
    "**Determine the Machine Learning Task**: Once the problem is defined, it's necessary to define the machine learning task based on that problem. This could involve deciding whether the problem is a classification problem, a regression problem, a clustering problem, etc. For our case, the task at hand would be a classification problem."
   ]
  },
  {
   "cell_type": "markdown",
   "id": "8529b91c-6961-4978-9330-9676c8d30a3a",
   "metadata": {},
   "source": [
    "**Define the Optimization Objective**: The next step would be to determine the key business performance metrics that the machine learning model should aim to improve. These metrics should align with the overall objectives. For our use case, if the goal is to ensure an accurate recognition of the hand sign shown in the picture, the optimization objective might be to reduce the error rate of the model."
   ]
  },
  {
   "cell_type": "markdown",
   "id": "dae69149-2c82-47a1-ad12-61ef7a1d810a",
   "metadata": {},
   "source": [
    "**Review Data Requirements**: Reviewing data requirements involves determining what data is needed to solve the problem and whether the necessary data is available. This might also involve considering the cost of data acquisition and whether external data sources might improve model performance. For our case, we will need to collect images of hand signs based in the American Sign Language."
   ]
  },
  {
   "cell_type": "markdown",
   "id": "e36f6d07",
   "metadata": {},
   "source": [
    "## Machine Learning Lifecycle"
   ]
  },
  {
   "cell_type": "markdown",
   "id": "e772b6af",
   "metadata": {},
   "source": [
    "### Problem Formation and Understanding"
   ]
  },
  {
   "cell_type": "markdown",
   "id": "7c1aac7d",
   "metadata": {},
   "source": [
    "* Analyze whether machine learning is a probable solution with the given problem\n",
    "* Identify the inputs and outputs for the model\n",
    "* Identify the acceptable accuracy and prediction error you would tolerate from the model"
   ]
  },
  {
   "cell_type": "markdown",
   "id": "2e33c092",
   "metadata": {},
   "source": [
    "### Data Collection and Preparation"
   ]
  },
  {
   "cell_type": "markdown",
   "id": "d48df24e",
   "metadata": {},
   "source": [
    "* Identify the source of raw data you would need for the development of your machine learning model\n",
    "* Allocation of time and effort toward annotation and wrangling of raw data so it may be used for the process.\n",
    "* Allocation of time and effort towards labeling data, removing irrelevant features, tossing outliers, transform data, and inputting missing values."
   ]
  },
  {
   "cell_type": "markdown",
   "id": "51974c84",
   "metadata": {},
   "source": [
    "### Model Training and Testing"
   ]
  },
  {
   "cell_type": "markdown",
   "id": "5fd2a8e3",
   "metadata": {},
   "source": [
    "* Allocation of 80% development time towards the training of the model, 10% towards validation of the model, and 10% towards testing the model.\n",
    "* Identify the necessary machine learning algorithm appropriate for the problem.\n",
    "* Allocation of time and effort towards iteration and experimentation of the algorithm, fine tuning of the model, evaluation of the results, and place model for deployment."
   ]
  },
  {
   "cell_type": "markdown",
   "id": "b5a8e276",
   "metadata": {},
   "source": [
    "### Model Deployment and Maintenance"
   ]
  },
  {
   "cell_type": "markdown",
   "id": "0e5f0acc",
   "metadata": {},
   "source": [
    "## Identification of Pre-built Models"
   ]
  },
  {
   "cell_type": "markdown",
   "id": "b959f1bb",
   "metadata": {},
   "source": [
    "For the development of the training model for use in your problem, it is important to note that you have two (2) choices, which are either **to create a model from scratch** or **use pre-built models**"
   ]
  },
  {
   "cell_type": "markdown",
   "id": "04e4f728",
   "metadata": {},
   "source": [
    "**Use of pre-built models**"
   ]
  },
  {
   "cell_type": "markdown",
   "id": "b8faadf9",
   "metadata": {},
   "source": [
    "Uses pre-built models for use thereby increasing speed of development cycle and uses a similar benchmark dataset to your problem. For example, in image classification problems, a pre-built model can be used to solve your identical problem using transfer learning. This allows you to add your data on top of the pre-trained model, which in turn allows you train new models that inherits the learnings from the pre-built model."
   ]
  },
  {
   "cell_type": "markdown",
   "id": "8225610b",
   "metadata": {},
   "source": [
    "There are existing websites and organizations that allows you to acquire pre-built models either for a price or for free as long as it has Apache 2.0 license, such as **AWS Marketplace**, **ModelZoo** and **Huggingface**"
   ]
  },
  {
   "cell_type": "markdown",
   "id": "74218fcc",
   "metadata": {},
   "source": [
    "## Machine Learning Model Training Tools"
   ]
  },
  {
   "cell_type": "markdown",
   "id": "9e3782da",
   "metadata": {},
   "source": [
    "If no pre-built models exist for the use as solution for our problem, you can choose the option to build your own customized model from scratch. Upon collection of the required dataset for the training of the model, it is important that before you start, you have the necessary hardware that can support computationally intensive processes required for training. This often means that generic laptops and computers will not be able to handle the load necessary to train your model. "
   ]
  },
  {
   "cell_type": "markdown",
   "id": "55a41a9b",
   "metadata": {},
   "source": [
    "To solve this, you can choose the option of acquiring the GPU power of cloud services such as **Amazon Web Services** and **Google Colabs** "
   ]
  },
  {
   "cell_type": "markdown",
   "id": "47431da5",
   "metadata": {},
   "source": [
    "For the development of your own customized model using Python using the Jupyter Notebook IDE. Necessary libraries that we can use for the development process are the following:"
   ]
  },
  {
   "cell_type": "markdown",
   "id": "2e97e284",
   "metadata": {},
   "source": [
    "**Pandas and NumPy libraries** for the access and modification of solid state data structures, n-dimensional matrices, and perform exploratory data analysis, and allows you to read CSV, JSON, and TSV data files."
   ]
  },
  {
   "cell_type": "markdown",
   "id": "2cd30376",
   "metadata": {},
   "source": [
    "**Matplotllib and Seaborn libraries** – for the data visualization phase requiring the plotting of charts and graphs."
   ]
  },
  {
   "cell_type": "markdown",
   "id": "89023dd0",
   "metadata": {},
   "source": [
    "**Scikit-learn, TensorFlow, MXNext, PyTorch,** and **Keras** framework libraries for the actual training of the model."
   ]
  }
 ],
 "metadata": {
  "kernelspec": {
   "display_name": "Python 3 (ipykernel)",
   "language": "python",
   "name": "python3"
  },
  "language_info": {
   "codemirror_mode": {
    "name": "ipython",
    "version": 3
   },
   "file_extension": ".py",
   "mimetype": "text/x-python",
   "name": "python",
   "nbconvert_exporter": "python",
   "pygments_lexer": "ipython3",
   "version": "3.11.4"
  }
 },
 "nbformat": 4,
 "nbformat_minor": 5
}
