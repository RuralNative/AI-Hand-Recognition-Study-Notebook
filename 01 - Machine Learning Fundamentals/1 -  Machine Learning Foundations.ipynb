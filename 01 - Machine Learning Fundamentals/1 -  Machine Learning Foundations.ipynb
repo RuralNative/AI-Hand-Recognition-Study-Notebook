{
 "cells": [
  {
   "cell_type": "markdown",
   "id": "b01021be-e129-436d-a129-f1be13fc0265",
   "metadata": {},
   "source": [
    "# Machine Learning Foundations"
   ]
  },
  {
   "cell_type": "markdown",
   "id": "ba31cec2-1f9b-4d02-94c6-aecd82fb43a3",
   "metadata": {},
   "source": [
    "**Machine Learning (ML)** is a subfield of Artificial Intelligence that focuses on the development of systems that learn or improve performance based on the data they consume. While all machine learning is AI, not all AI is machine learning. There are other subfields that belong under the scope of Artificial Intelligence, such as natural language processing, computer vision, robotics, expert systems etc. "
   ]
  },
  {
   "cell_type": "markdown",
   "id": "7557ff17-13f9-4d2e-b17e-b50060542911",
   "metadata": {},
   "source": [
    "A crucial distinction that separates machine learning from the other subfields of artificial intelligence is that it involves systems learning from the data, improving and making decisions based on this acquired knowledge."
   ]
  },
  {
   "cell_type": "markdown",
   "id": "b3f9d0e1-dce6-4f91-b483-6f7312f1ae1f",
   "metadata": {},
   "source": [
    "## Fundamental Concepts"
   ]
  },
  {
   "cell_type": "markdown",
   "id": "b2c2ee10-3886-40ed-a194-30cb972a99c4",
   "metadata": {},
   "source": [
    "### Representation"
   ]
  },
  {
   "cell_type": "markdown",
   "id": "c62b124a-4f1a-4425-a662-ace2ca26d0b6",
   "metadata": {},
   "source": [
    "Representation refers to how knowledge is represented in the machine learning model. The choice of representation is an essential factor that influences the performance of the model. Examples of representations include decision trees, sets of rules, instances, graphical models, neural networks, support vector machines, model ensembles, and others. The representation forms the basis for the model's ability to understand and learn from the data."
   ]
  },
  {
   "cell_type": "markdown",
   "id": "dc41d6e6-53c5-4792-911c-bf0fe7419035",
   "metadata": {},
   "source": [
    "### Evaluation"
   ]
  },
  {
   "cell_type": "markdown",
   "id": "dfa01544-7b8b-4451-aa24-8ac70d967cc8",
   "metadata": {},
   "source": [
    "Evaluation involves assessing the performance of the model. This is done by comparing the model's predictions or outputs against actual or known values. There are several ways to evaluate models, and the choice of evaluation metric often depends on the specific task at hand. Common evaluation metrics include accuracy, precision and recall, squared error, likelihood, posterior probability, cost, margin, entropy, and k-L divergence. The evaluation process helps in understanding how well the model has learned and how it is likely to perform on unseen data."
   ]
  },
  {
   "cell_type": "markdown",
   "id": "9b16197a-6b69-4094-bab2-0c13c0d60169",
   "metadata": {},
   "source": [
    "### Optimization"
   ]
  },
  {
   "cell_type": "markdown",
   "id": "5ee2647b-7746-413e-baca-dc566d369566",
   "metadata": {},
   "source": [
    "Optimization refers to the process of adjusting the model's parameters to improve its performance. This is typically done by minimizing a loss function, which measures the discrepancy between the model's predictions and the actual values. The optimization process can involve a variety of techniques, including combinatorial optimization, convex optimization, and constrained optimization. The goal of optimization is to find the best set of parameters that minimizes the loss function, thereby improving the model's performance."
   ]
  },
  {
   "cell_type": "markdown",
   "id": "cf0b757d-2245-4f40-bbab-61866bbbb51d",
   "metadata": {},
   "source": [
    "### Generalization"
   ]
  },
  {
   "cell_type": "markdown",
   "id": "7d0a7f94-0026-4aa9-b445-b68adbecc187",
   "metadata": {},
   "source": [
    "Generalization refers to the model's ability to apply what it has learned from the training data to new, unseen data. A model that generalizes well will perform well not just on the training data but also on new data. This is the ultimate goal of machine learning: to create models that make accurate predictions on new, unseen data."
   ]
  },
  {
   "cell_type": "markdown",
   "id": "b4bb9330-2456-421e-8490-0251e1857c31",
   "metadata": {},
   "source": [
    "### Model Validation"
   ]
  },
  {
   "cell_type": "markdown",
   "id": "af461b63-9fd8-43c4-ac9e-c34a65117fde",
   "metadata": {},
   "source": [
    "Model validation involves assessing how well a trained model will generalize to new data. This is typically done by splitting the available data into a training set and a validation set. The model is trained on the training set and then evaluated on the validation set. The performance on the validation set gives an estimate of how well the model is likely to perform on unseen data."
   ]
  },
  {
   "cell_type": "markdown",
   "id": "b69ca21e-6178-4d59-a140-87e8095f5e29",
   "metadata": {},
   "source": [
    "### Bias/Variance Tradeoff"
   ]
  },
  {
   "cell_type": "markdown",
   "id": "848d5945-8a9f-42f8-8539-80975365cbfd",
   "metadata": {},
   "source": [
    "The bias/variance tradeoff is a fundamental concept in machine learning that refers to the balance that must be achieved between bias (error from erroneous assumptions in the learning algorithm) and variance (error from sensitivity to small fluctuations in the training set). A model with high bias pays little attention to the training data and oversimplifies the model, which leads to high error on training and test data. A model with high variance pays a lot of attention to training data and does not generalize on the data which it hasn’t seen before, leading to high error on test data. The key is to find a good balance without overfitting or underfitting the data."
   ]
  },
  {
   "cell_type": "markdown",
   "id": "4ea33551-be14-4093-ba67-66ffb4cf496d",
   "metadata": {},
   "source": [
    "### Curse of Dimensionality"
   ]
  },
  {
   "cell_type": "markdown",
   "id": "dde4d4d6-b16f-43a8-90a8-d1f0aa847ab4",
   "metadata": {},
   "source": [
    "The curse of dimensionality refers to various phenomena that arise when analyzing and organizing data in high-dimensional spaces (often with hundreds or thousands of dimensions) that do not occur in low-dimensional settings such as the three-dimensional physical space of everyday experience. As the number of features or dimensions grows, the amount of data we need to generalize accurately grows exponentially."
   ]
  },
  {
   "cell_type": "markdown",
   "id": "cbe6c09c-232f-45df-812a-1f23394f711d",
   "metadata": {},
   "source": [
    "### Feature Engineering"
   ]
  },
  {
   "cell_type": "markdown",
   "id": "f3d3435b-b350-4830-bc28-8d3d66933b5a",
   "metadata": {},
   "source": [
    "Feature engineering is the process of using domain knowledge to create features that make machine learning algorithms work. If feature engineering is done correctly, it increases the predictive power of machine learning algorithms by creating features from raw data that help facilitate the machine learning process baeldung.com."
   ]
  },
  {
   "cell_type": "markdown",
   "id": "8e3d0d65-3c78-4d77-8609-89e6d95e168b",
   "metadata": {},
   "source": [
    "## Final Notes"
   ]
  },
  {
   "cell_type": "markdown",
   "id": "b8bf7af8-5785-433a-bf0d-cecdedae2b06",
   "metadata": {},
   "source": [
    "The notes below serves as a brief introduction to machine learning. This module does not aim to teach each concept and theoretical knowledge, and will instead focus on how these can be applied. We will learn better through application, so that is the approach we are going to focus on. Concepts will further be explained should a necessity arise."
   ]
  },
  {
   "cell_type": "code",
   "execution_count": null,
   "id": "9f7d5034-147d-4df0-8810-5d40ef061a4d",
   "metadata": {},
   "outputs": [],
   "source": []
  }
 ],
 "metadata": {
  "kernelspec": {
   "display_name": "Python 3 (ipykernel)",
   "language": "python",
   "name": "python3"
  },
  "language_info": {
   "codemirror_mode": {
    "name": "ipython",
    "version": 3
   },
   "file_extension": ".py",
   "mimetype": "text/x-python",
   "name": "python",
   "nbconvert_exporter": "python",
   "pygments_lexer": "ipython3",
   "version": "3.11.4"
  }
 },
 "nbformat": 4,
 "nbformat_minor": 5
}
