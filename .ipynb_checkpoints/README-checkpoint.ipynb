{
 "cells": [
  {
   "cell_type": "markdown",
   "id": "af189ee6-8fac-4b1e-b196-4396fd87b342",
   "metadata": {},
   "source": [
    "# AI Learning Notebooks from Basics to Practical Use (Hand Recognition)"
   ]
  },
  {
   "cell_type": "markdown",
   "id": "1fba4cc2-f231-4220-90ac-98598f43783d",
   "metadata": {},
   "source": [
    "## Why Made This"
   ]
  },
  {
   "cell_type": "markdown",
   "id": "e13ae0ed-dcc5-47d0-b9cb-3a808a9e3089",
   "metadata": {},
   "source": [
    "Repository that will record my progress in learning artificial intelligence, machine learning, deep learning, neural networks, and utilization of Python learning libraries and frameworks towards building a hand sign recognition."
   ]
  },
  {
   "cell_type": "markdown",
   "id": "406b8b7a-449e-460e-ba74-2d9587417ef0",
   "metadata": {},
   "source": [
    "In the future, this repository will serve as an accessible learning material for Machine Learning and applying it in a real-world use case. It aims to guide people from the *(1)* **fundamentals of the machine learning and deep learning concepts**; *(2)* **understanding, building and training neural networks to output efficient mathematical models**; *(3)* **utilization of relevant Python learning libraries and frameworks**; and *(4)* **applying learned theories and practical knowledge towards building a hand sign recognition model**. "
   ]
  },
  {
   "cell_type": "markdown",
   "id": "48d3d241-0aa5-4b09-ba2f-071567dff4ad",
   "metadata": {},
   "source": [
    "## What are Its Contents"
   ]
  },
  {
   "cell_type": "markdown",
   "id": "bc20e3b7-15c2-4f6c-8db9-245d5b2623ee",
   "metadata": {},
   "source": [
    "Our Jupyter Notebook repository will contain the following learning materials in Jupyter Notebook platform upon completion:\n",
    "* **Machine Learning Fundamentals** - *(IN PROGRESS)*\n",
    "* **Deep Learning Fundamentals** - *(IN PROGRESS)*\n",
    "* **Neural Networks Fundamentals** - *(PENDING)*\n",
    "* **Convolutional Neural Networks Fundamentals** - *(PENDING)*\n",
    "* **Deep Learning Model Optimization and Tuning** - *(PENDING)*\n",
    "* **Fundamentals in Building Computer Vision Applications using OpenCV** - *(PENDING)*\n",
    "* **Image Recognition Fundamentals using Keras and TensorFlow** - *(PENDING)*\n",
    "* **Application of TensorFlow in Deep Learning** - *(PENDING)*\n",
    "* **Application of Keras in Deep Learning** - *(PENDING)*"
   ]
  },
  {
   "cell_type": "markdown",
   "id": "9776f983-543a-4129-a080-a6cd216d2afc",
   "metadata": {},
   "source": [
    "## How to Access the Learning Materials"
   ]
  },
  {
   "cell_type": "markdown",
   "id": "ad6a2a02-15e2-4ece-b282-042bf2fb61ce",
   "metadata": {},
   "source": [
    "To access the learning materials, it is important to learn and understand how to use **Jupyter notebooks** since all of the learning materials are written in this file format. The rationale behind this is to *(1)* **facilitate easy distribution to other people**, *(2)* **provide convenient demonstration of each code written in the notebook**, and *(3)* **allow live previews in the internal Github website or application**."
   ]
  },
  {
   "cell_type": "markdown",
   "id": "bee4bf54-6da3-4870-b5e4-ab0d4c0b87e9",
   "metadata": {},
   "source": [
    "For learning references in the installation steps of Jupyter Lab / Notebook in your local computer, refer to the links provided below:\n",
    "* [Jupyter Official Documentation](https://docs.jupyter.org/en/latest/)\n",
    "* [Real Python Reference](https://realpython.com/jupyter-notebook-introduction/)"
   ]
  },
  {
   "cell_type": "markdown",
   "id": "df423f97-6fd9-45f2-a08e-da65bf6046f7",
   "metadata": {},
   "source": [
    "## Final Notes"
   ]
  },
  {
   "cell_type": "markdown",
   "id": "dbad472d-148e-40e6-ace7-6c2a7224de71",
   "metadata": {},
   "source": [
    "Repository is a **WORK IN PROGRESS**. Additional help will be much appreciated. Let's help each other in building a free educational center-point for machine learning."
   ]
  }
 ],
 "metadata": {
  "kernelspec": {
   "display_name": "Python 3 (ipykernel)",
   "language": "python",
   "name": "python3"
  },
  "language_info": {
   "codemirror_mode": {
    "name": "ipython",
    "version": 3
   },
   "file_extension": ".py",
   "mimetype": "text/x-python",
   "name": "python",
   "nbconvert_exporter": "python",
   "pygments_lexer": "ipython3",
   "version": "3.11.4"
  }
 },
 "nbformat": 4,
 "nbformat_minor": 5
}
