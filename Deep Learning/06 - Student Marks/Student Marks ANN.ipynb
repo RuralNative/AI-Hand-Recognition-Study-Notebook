{
 "cells": [
  {
   "cell_type": "markdown",
   "id": "9b5ebbde-1b5a-4e9b-965c-55bba1de8744",
   "metadata": {},
   "source": [
    "# Student Marks Neural Network\n",
    "*This Jupyter notebook details the construction of a neural network that predicts the math score of a student based from their demographic profile and reading/writing grades.*"
   ]
  },
  {
   "cell_type": "code",
   "execution_count": null,
   "id": "9374a4ac-15c4-495c-bf38-58df469c3df9",
   "metadata": {},
   "outputs": [],
   "source": [
    "# Import necessary libraries/modules\n",
    "import os\n",
    "import pandas as pandas\n",
    "import tensorflow as tensorflow\n",
    "import numpy as numpy\n",
    "from sklearn import preprocessing\n",
    "from sklearn.model_selection import train_test_split\n",
    "from sklearn.preprocessing import StandardScaler"
   ]
  },
  {
   "cell_type": "markdown",
   "id": "eb6b4a1a-f752-46df-8252-80454453358e",
   "metadata": {},
   "source": [
    "## Data Preprocessing"
   ]
  },
  {
   "cell_type": "code",
   "execution_count": 12,
   "id": "9a4f66a6-59ec-4e69-a096-936bae5bc633",
   "metadata": {},
   "outputs": [
    {
     "name": "stdout",
     "output_type": "stream",
     "text": [
      "<class 'pandas.core.frame.DataFrame'>\n",
      "RangeIndex: 1000 entries, 0 to 999\n",
      "Data columns (total 8 columns):\n",
      " #   Column                       Non-Null Count  Dtype \n",
      "---  ------                       --------------  ----- \n",
      " 0   gender                       1000 non-null   object\n",
      " 1   race/ethnicity               1000 non-null   object\n",
      " 2   parental level of education  1000 non-null   object\n",
      " 3   lunch                        1000 non-null   object\n",
      " 4   test preparation course      1000 non-null   object\n",
      " 5   math score                   1000 non-null   int64 \n",
      " 6   reading score                1000 non-null   int64 \n",
      " 7   writing score                1000 non-null   int64 \n",
      "dtypes: int64(3), object(5)\n",
      "memory usage: 62.6+ KB\n"
     ]
    }
   ],
   "source": [
    "# Load Data from CSV file\n",
    "student_data = pandas.read_csv('exams.csv')\n",
    "student_data.info()"
   ]
  },
  {
   "cell_type": "code",
   "execution_count": 13,
   "id": "cc0cf119-3f7d-4979-b529-51c3caedb6cd",
   "metadata": {},
   "outputs": [
    {
     "name": "stdout",
     "output_type": "stream",
     "text": [
      "<class 'pandas.core.frame.DataFrame'>\n",
      "RangeIndex: 1000 entries, 0 to 999\n",
      "Data columns (total 8 columns):\n",
      " #   Column                       Non-Null Count  Dtype \n",
      "---  ------                       --------------  ----- \n",
      " 0   gender                       1000 non-null   object\n",
      " 1   ethnicity                    1000 non-null   object\n",
      " 2   parental_level_of_education  1000 non-null   object\n",
      " 3   lunch                        1000 non-null   object\n",
      " 4   test_preparation_course      1000 non-null   object\n",
      " 5   math_score                   1000 non-null   int64 \n",
      " 6   reading_score                1000 non-null   int64 \n",
      " 7   writing_score                1000 non-null   int64 \n",
      "dtypes: int64(3), object(5)\n",
      "memory usage: 62.6+ KB\n"
     ]
    }
   ],
   "source": [
    "# Replace space characters with underscore, simplified race/ethnicity name\n",
    "student_data.columns = student_data.columns.str.replace(' ', '_')\n",
    "student_data.columns = student_data.columns.str.replace('race/', '')\n",
    "student_data.info()"
   ]
  },
  {
   "cell_type": "code",
   "execution_count": null,
   "id": "9f468a00-81b8-4f50-86dc-0b53c9cc92c9",
   "metadata": {},
   "outputs": [],
   "source": [
    "# Use one - hot encoding to convert categorical features\n",
    "label_encoder = preprocessing.LabelEncoder()\n",
    "student_data['gender', 'ethnicity', 'parental_level_of_education', 'lunch', 'test_preparation_course'] = "
   ]
  },
  {
   "cell_type": "code",
   "execution_count": null,
   "id": "98e377e5-252a-49ca-aa56-a0b9bbe77931",
   "metadata": {},
   "outputs": [],
   "source": []
  }
 ],
 "metadata": {
  "kernelspec": {
   "display_name": "Python 3 (ipykernel)",
   "language": "python",
   "name": "python3"
  },
  "language_info": {
   "codemirror_mode": {
    "name": "ipython",
    "version": 3
   },
   "file_extension": ".py",
   "mimetype": "text/x-python",
   "name": "python",
   "nbconvert_exporter": "python",
   "pygments_lexer": "ipython3",
   "version": "3.11.4"
  }
 },
 "nbformat": 4,
 "nbformat_minor": 5
}
