{
 "cells": [
  {
   "cell_type": "markdown",
   "id": "9b5ebbde-1b5a-4e9b-965c-55bba1de8744",
   "metadata": {},
   "source": [
    "# Student Marks Neural Network\n",
    "*This Jupyter notebook details the construction of a neural network that predicts the math score of a student based from their demographic profile and reading/writing grades.*"
   ]
  },
  {
   "cell_type": "code",
   "execution_count": 1,
   "id": "9374a4ac-15c4-495c-bf38-58df469c3df9",
   "metadata": {},
   "outputs": [],
   "source": [
    "# Import necessary libraries/modules\n",
    "import os\n",
    "import pandas as pandas\n",
    "import tensorflow as tensorflow\n",
    "from tensorflow import keras\n",
    "import numpy as numpy\n",
    "from sklearn import preprocessing\n",
    "from sklearn.model_selection import train_test_split\n",
    "from sklearn.preprocessing import StandardScaler\n",
    "import matplotlib.pyplot as plots"
   ]
  },
  {
   "cell_type": "markdown",
   "id": "eb6b4a1a-f752-46df-8252-80454453358e",
   "metadata": {},
   "source": [
    "## Data Preprocessing"
   ]
  },
  {
   "cell_type": "code",
   "execution_count": 2,
   "id": "9a4f66a6-59ec-4e69-a096-936bae5bc633",
   "metadata": {},
   "outputs": [
    {
     "name": "stdout",
     "output_type": "stream",
     "text": [
      "<class 'pandas.core.frame.DataFrame'>\n",
      "RangeIndex: 1000 entries, 0 to 999\n",
      "Data columns (total 8 columns):\n",
      " #   Column                       Non-Null Count  Dtype \n",
      "---  ------                       --------------  ----- \n",
      " 0   gender                       1000 non-null   object\n",
      " 1   race/ethnicity               1000 non-null   object\n",
      " 2   parental level of education  1000 non-null   object\n",
      " 3   lunch                        1000 non-null   object\n",
      " 4   test preparation course      1000 non-null   object\n",
      " 5   math score                   1000 non-null   int64 \n",
      " 6   reading score                1000 non-null   int64 \n",
      " 7   writing score                1000 non-null   int64 \n",
      "dtypes: int64(3), object(5)\n",
      "memory usage: 62.6+ KB\n"
     ]
    }
   ],
   "source": [
    "# Load Data from CSV file\n",
    "student_data = pandas.read_csv('exams.csv')\n",
    "student_data.info()"
   ]
  },
  {
   "cell_type": "code",
   "execution_count": 3,
   "id": "cc0cf119-3f7d-4979-b529-51c3caedb6cd",
   "metadata": {},
   "outputs": [],
   "source": [
    "# Replace space characters with underscore, simplified race/ethnicity name\n",
    "student_data.columns = student_data.columns.str.replace(' ', '_')\n",
    "student_data.columns = student_data.columns.str.replace('race/', '')"
   ]
  },
  {
   "cell_type": "code",
   "execution_count": 4,
   "id": "9f468a00-81b8-4f50-86dc-0b53c9cc92c9",
   "metadata": {},
   "outputs": [
    {
     "name": "stdout",
     "output_type": "stream",
     "text": [
      "<class 'pandas.core.frame.DataFrame'>\n",
      "RangeIndex: 1000 entries, 0 to 999\n",
      "Data columns (total 8 columns):\n",
      " #   Column                       Non-Null Count  Dtype\n",
      "---  ------                       --------------  -----\n",
      " 0   gender                       1000 non-null   int32\n",
      " 1   ethnicity                    1000 non-null   int32\n",
      " 2   parental_level_of_education  1000 non-null   int32\n",
      " 3   lunch                        1000 non-null   int32\n",
      " 4   test_preparation_course      1000 non-null   int32\n",
      " 5   math_score                   1000 non-null   int64\n",
      " 6   reading_score                1000 non-null   int64\n",
      " 7   writing_score                1000 non-null   int64\n",
      "dtypes: int32(5), int64(3)\n",
      "memory usage: 43.1 KB\n"
     ]
    }
   ],
   "source": [
    "# Preprocess categorical data to convert it into numerical values\n",
    "label_encoder = preprocessing.LabelEncoder()\n",
    "categorical_columns = ['gender', 'ethnicity', 'parental_level_of_education', 'lunch', 'test_preparation_course']\n",
    "for column in categorical_columns:\n",
    "    student_data[column] = label_encoder.fit_transform(student_data[column])\n",
    "student_data.info()"
   ]
  },
  {
   "cell_type": "code",
   "execution_count": 5,
   "id": "98e377e5-252a-49ca-aa56-a0b9bbe77931",
   "metadata": {},
   "outputs": [],
   "source": [
    "# Convert DataFrame into Numpy Array\n",
    "student_numpy = student_data.to_numpy()"
   ]
  },
  {
   "cell_type": "code",
   "execution_count": 28,
   "id": "81e03ea7-c982-4711-b7d4-f0a8a58f1f1b",
   "metadata": {},
   "outputs": [],
   "source": [
    "# Separating feature variables from target variable\n",
    "x_data = numpy.concatenate((student_numpy[:,0:5], student_numpy[:,6:8]), axis = 1)\n",
    "y_data = student_numpy[:, 5]"
   ]
  },
  {
   "cell_type": "code",
   "execution_count": 29,
   "id": "c0ab8dd3-0299-4a07-900b-549a63fa6fd6",
   "metadata": {},
   "outputs": [],
   "source": [
    "# Train Scaler Model and use it for scaling data\n",
    "scaler_model = StandardScaler().fit(x_data)\n",
    "x_data = scaler_model.transform(x_data)"
   ]
  },
  {
   "cell_type": "code",
   "execution_count": 30,
   "id": "6780b769-1cea-449e-bc5b-abcf7d6c044f",
   "metadata": {},
   "outputs": [],
   "source": [
    "# Split training and testing data\n",
    "x_train, x_test, y_train, y_test = train_test_split(x_data, y_data, test_size = 0.10)"
   ]
  },
  {
   "cell_type": "markdown",
   "id": "c35609b8-ce4f-424a-a2e9-71901dc31217",
   "metadata": {},
   "source": [
    "## Creating a Model"
   ]
  },
  {
   "cell_type": "code",
   "execution_count": 88,
   "id": "319e3e32-8777-4f15-9aa5-3deed21642ef",
   "metadata": {},
   "outputs": [
    {
     "name": "stdout",
     "output_type": "stream",
     "text": [
      "Model: \"sequential_29\"\n",
      "_________________________________________________________________\n",
      " Layer (type)                Output Shape              Param #   \n",
      "=================================================================\n",
      " Hidden_Layer_1 (Dense)      (None, 7)                 56        \n",
      "                                                                 \n",
      " Output_Layer (Dense)        (None, 1)                 8         \n",
      "                                                                 \n",
      "=================================================================\n",
      "Total params: 64\n",
      "Trainable params: 64\n",
      "Non-trainable params: 0\n",
      "_________________________________________________________________\n"
     ]
    }
   ],
   "source": [
    "target_output = 1\n",
    "hidden_layer_function = 'tanh'\n",
    "metric = tensorflow.keras.metrics.RootMeanSquaredError()\n",
    "\n",
    "# Instantiate Sequential model\n",
    "model = tensorflow.keras.models.Sequential()\n",
    "\n",
    "# Add hidden layers\n",
    "model.add(keras.layers.Dense(7,\n",
    "                             input_shape = (7,),\n",
    "                             name = \"Hidden_Layer_1\",\n",
    "                             activation = hidden_layer_function))\n",
    "# Add output layer\n",
    "model.add(keras.layers.Dense(target_output,\n",
    "                             name = \"Output_Layer\"))\n",
    "\n",
    "# Compile the model\n",
    "model.compile(loss = 'mean_squared_error',\n",
    "              optimizer = 'adam',\n",
    "              metrics = [metric])\n",
    "model.summary()"
   ]
  },
  {
   "cell_type": "markdown",
   "id": "bffb017f-ce15-4c24-9062-e3fc70cf6e43",
   "metadata": {},
   "source": [
    "## Training and Evaluating Model"
   ]
  },
  {
   "cell_type": "code",
   "execution_count": 89,
   "id": "6067f145-1895-4ee2-b104-bb774626184d",
   "metadata": {},
   "outputs": [
    {
     "name": "stdout",
     "output_type": "stream",
     "text": [
      "Training Progress:\n",
      "-----------------------------\n",
      "Epoch 1/5\n",
      "45/45 [==============================] - 1s 7ms/step - loss: 4649.8804 - root_mean_squared_error: 68.1900 - val_loss: 4490.1040 - val_root_mean_squared_error: 67.0082\n",
      "Epoch 2/5\n",
      "45/45 [==============================] - 0s 3ms/step - loss: 4625.6411 - root_mean_squared_error: 68.0121 - val_loss: 4469.0176 - val_root_mean_squared_error: 66.8507\n",
      "Epoch 3/5\n",
      "45/45 [==============================] - 0s 3ms/step - loss: 4599.9751 - root_mean_squared_error: 67.8231 - val_loss: 4446.1074 - val_root_mean_squared_error: 66.6791\n",
      "Epoch 4/5\n",
      "45/45 [==============================] - 0s 3ms/step - loss: 4572.1665 - root_mean_squared_error: 67.6178 - val_loss: 4420.6099 - val_root_mean_squared_error: 66.4877\n",
      "Epoch 5/5\n",
      "45/45 [==============================] - 0s 3ms/step - loss: 4541.1064 - root_mean_squared_error: 67.3877 - val_loss: 4391.1313 - val_root_mean_squared_error: 66.2656\n",
      "\n",
      "Accuracy during Training :\n",
      "------------------------------------\n"
     ]
    },
    {
     "data": {
      "image/png": "[encoded data removed]",
      "text/plain": [
       "<Figure size 800x500 with 1 Axes>"
      ]
     },
     "metadata": {},
     "output_type": "display_data"
    }
   ],
   "source": [
    "# Constants for Training/Evaluation\n",
    "VERBOSE = 1\n",
    "BATCH_SIZE = 16\n",
    "EPOCHS = 5\n",
    "VALIDATION_SPLIT = 0.2\n",
    "\n",
    "# Train model with hyperparameters\n",
    "print(\"Training Progress:\\n-----------------------------\")\n",
    "history = model.fit(x_train,\n",
    "                    y_train,\n",
    "                    batch_size = BATCH_SIZE,\n",
    "                    epochs = EPOCHS,\n",
    "                    verbose = VERBOSE,\n",
    "                    validation_split = VALIDATION_SPLIT)\n",
    "\n",
    "# Check Accuracy after Training\n",
    "print(\"\\nAccuracy during Training :\\n------------------------------------\")\n",
    "pandas.DataFrame(history.history)['root_mean_squared_error'].plot(figsize = (8,5))\n",
    "plots.title(\"Accuracy Over Epochs\")\n",
    "plots.show()"
   ]
  },
  {
   "cell_type": "code",
   "execution_count": null,
   "id": "4b5c08b3-ce4b-4ef1-b933-63a0b1244e49",
   "metadata": {},
   "outputs": [],
   "source": []
  }
 ],
 "metadata": {
  "kernelspec": {
   "display_name": "Python 3 (ipykernel)",
   "language": "python",
   "name": "python3"
  },
  "language_info": {
   "codemirror_mode": {
    "name": "ipython",
    "version": 3
   },
   "file_extension": ".py",
   "mimetype": "text/x-python",
   "name": "python",
   "nbconvert_exporter": "python",
   "pygments_lexer": "ipython3",
   "version": "3.11.4"
  }
 },
 "nbformat": 4,
 "nbformat_minor": 5
}
