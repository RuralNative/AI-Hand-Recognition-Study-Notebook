{
 "cells": [
  {
   "cell_type": "markdown",
   "id": "2b9cc808",
   "metadata": {},
   "source": [
    "# Iris\n",
    "\n",
    "This examples demonstrates the core deep learning model building concepts using the Keras library. The Iris flower dataset is used to build the model and perform classification tasks"
   ]
  },
  {
   "cell_type": "markdown",
   "id": "2fabf059",
   "metadata": {},
   "source": [
    "## 4.2. Prepare Input Data for Deep Learning\n",
    "\n",
    "Prepare and preprocess our input data to convert into something our neural network can read and access.\n",
    "\n",
    "1. Load data into a Pandas DataFrame\n",
    "2. Preprocess the categorical target variables\n",
    "3. Convert the DataFrame to a Numpy array\n",
    "4. Scale the feature dataset\n",
    "5. Use one-hot-encoding for the target variable\n",
    "6. Split into training and test datasets\n"
   ]
  },
  {
   "cell_type": "code",
   "execution_count": 1,
   "id": "453f74bc-b0f8-4e74-8a7d-7fa4aee5918a",
   "metadata": {},
   "outputs": [],
   "source": [
    "# Import necessary Python libraries for our model training\n",
    "import os\n",
    "import pandas as pandas\n",
    "import tensorflow as tensorflow\n",
    "import numpy as numpy\n",
    "from sklearn import preprocessing\n",
    "from sklearn.model_selection import train_test_split\n",
    "from sklearn.preprocessing import StandardScaler"
   ]
  },
  {
   "cell_type": "code",
   "execution_count": 2,
   "id": "75b8eec5-8e46-4d0e-874f-cb780115bd87",
   "metadata": {},
   "outputs": [
    {
     "name": "stdout",
     "output_type": "stream",
     "text": [
      "<class 'pandas.core.frame.DataFrame'>\n",
      "RangeIndex: 150 entries, 0 to 149\n",
      "Data columns (total 5 columns):\n",
      " #   Column        Non-Null Count  Dtype  \n",
      "---  ------        --------------  -----  \n",
      " 0   Sepal.Length  150 non-null    float64\n",
      " 1   Sepal.Width   150 non-null    float64\n",
      " 2   Petal.Length  150 non-null    float64\n",
      " 3   Petal.Width   150 non-null    float64\n",
      " 4   Species       150 non-null    object \n",
      "dtypes: float64(4), object(1)\n",
      "memory usage: 6.0+ KB\n"
     ]
    }
   ],
   "source": [
    "# Load data from our CSV file into a Pandas DataFrame\n",
    "iris_data = pandas.read_csv('iris.csv')\n",
    "iris_data.info()"
   ]
  },
  {
   "cell_type": "code",
   "execution_count": 3,
   "id": "60491464-8a1d-4fa3-acc4-ecb411264534",
   "metadata": {},
   "outputs": [],
   "source": [
    "# Preprocess categorical target variable into numeric values\n",
    "label_encoder = preprocessing.LabelEncoder()\n",
    "iris_data['Species'] = label_encoder.fit_transform(iris_data['Species'])"
   ]
  },
  {
   "cell_type": "code",
   "execution_count": 4,
   "id": "1a4dbb32-84e7-4296-b3e9-d9d6d49fada3",
   "metadata": {},
   "outputs": [],
   "source": [
    "# Convert DataFrame into Numpy Array/s\n",
    "numpy_iris = iris_data.to_numpy()"
   ]
  },
  {
   "cell_type": "code",
   "execution_count": 5,
   "id": "15da1cec-5183-4a33-8e26-a8a1db6a76d2",
   "metadata": {},
   "outputs": [],
   "source": [
    "# Scaling the feature dataset\n",
    "\n",
    "## Separate feature variables from the target variable\n",
    "x_data = numpy_iris[:,0:4]\n",
    "y_data = numpy_iris[:,4]\n",
    "\n",
    "## Create and train Scaler model fit for the given input data\n",
    "scaler_model = StandardScaler().fit(x_data)\n",
    "\n",
    "## Scale numeric feature variables\n",
    "x_data = scaler_model.transform(x_data)"
   ]
  },
  {
   "cell_type": "code",
   "execution_count": 6,
   "id": "c05fba9b-2e02-4028-bab2-5d898a752c62",
   "metadata": {},
   "outputs": [],
   "source": [
    "# Use one-hot encoding for categorical target variables\n",
    "y_data = tensorflow.keras.utils.to_categorical(y_data,3)"
   ]
  },
  {
   "cell_type": "code",
   "execution_count": 7,
   "id": "709a9da8-3f8e-4521-9ebf-6556237601a2",
   "metadata": {},
   "outputs": [],
   "source": [
    "# Split training and testing data\n",
    "x_train, x_test, y_train, y_test = train_test_split(x_data, y_data, test_size=0.10)"
   ]
  },
  {
   "cell_type": "markdown",
   "id": "df744ea0-2cf3-44a8-bcc6-f49765e2886d",
   "metadata": {},
   "source": [
    "## Creating a Model\n",
    "\n",
    "Creating a model in Keras requires defining the following\n",
    "\n",
    "1. Number of hidden layers\n",
    "2. Number of nodes in each layer\n",
    "3. Activation functions\n",
    "4. Loss Function & Accuracy measurements"
   ]
  },
  {
   "cell_type": "code",
   "execution_count": 8,
   "id": "6bb09cd1-ebcf-464f-9664-28d6cc88538e",
   "metadata": {},
   "outputs": [],
   "source": [
    "from tensorflow import keras"
   ]
  },
  {
   "cell_type": "code",
   "execution_count": 9,
   "id": "0e50e604-fe10-4149-86d2-d50e5e883d50",
   "metadata": {},
   "outputs": [
    {
     "name": "stdout",
     "output_type": "stream",
     "text": [
      "Model: \"sequential\"\n",
      "_________________________________________________________________\n",
      " Layer (type)                Output Shape              Param #   \n",
      "=================================================================\n",
      " hidden-layer-1 (Dense)      (None, 128)               640       \n",
      "                                                                 \n",
      " hidden-layer-2 (Dense)      (None, 128)               16512     \n",
      "                                                                 \n",
      " output-layer (Dense)        (None, 3)                 387       \n",
      "                                                                 \n",
      "=================================================================\n",
      "Total params: 17,539\n",
      "Trainable params: 17,539\n",
      "Non-trainable params: 0\n",
      "_________________________________________________________________\n"
     ]
    }
   ],
   "source": [
    "# Number of classes for our target variable\n",
    "target_classes = 3\n",
    "\n",
    "# Create a Sequential Model\n",
    "model = tensorflow.keras.models.Sequential()\n",
    "\n",
    "# Add first hidden layer\n",
    "model.add(keras.layers.Dense(128,\n",
    "                             input_shape = (4,),\n",
    "                             name = \"hidden-layer-1\",\n",
    "                             activation = 'relu'))\n",
    "\n",
    "# Add second hidden layer\n",
    "model.add(keras.layers.Dense(128,\n",
    "                             name = \"hidden-layer-2\",\n",
    "                             activation = 'relu'))\n",
    "\n",
    "# Add output layer with softmax activation function\n",
    "model.add(keras.layers.Dense(target_classes,\n",
    "                             name = \"output-layer\",\n",
    "                             activation = 'softmax'))\n",
    "\n",
    "# Compile the model with loss function and metrics\n",
    "model.compile(loss = 'categorical_crossentropy',\n",
    "              metrics = ['accuracy'])\n",
    "\n",
    "# Print compiled model meta-data\n",
    "model.summary()"
   ]
  },
  {
   "cell_type": "markdown",
   "id": "e68d0164-7e86-47f6-af21-4cd2be75cefd",
   "metadata": {},
   "source": [
    "## Training and evaluating the Model\n",
    "\n",
    "Training the model involves defining various training models and then perform \n",
    "forward and back propagation."
   ]
  },
  {
   "cell_type": "code",
   "execution_count": 14,
   "id": "d7e46252-c987-40e4-a521-35bf944844e3",
   "metadata": {},
   "outputs": [
    {
     "name": "stdout",
     "output_type": "stream",
     "text": [
      "\n",
      "Training Progress:\n",
      "------------------------------------\n",
      "Epoch 1/45\n",
      "7/7 [==============================] - 0s 18ms/step - loss: 0.0141 - accuracy: 1.0000 - val_loss: 0.1531 - val_accuracy: 0.9259\n",
      "Epoch 2/45\n",
      "7/7 [==============================] - 0s 10ms/step - loss: 0.0211 - accuracy: 0.9907 - val_loss: 0.1450 - val_accuracy: 0.9259\n",
      "Epoch 3/45\n",
      "7/7 [==============================] - 0s 11ms/step - loss: 0.0152 - accuracy: 1.0000 - val_loss: 0.0994 - val_accuracy: 0.9630\n",
      "Epoch 4/45\n",
      "7/7 [==============================] - 0s 10ms/step - loss: 0.0125 - accuracy: 0.9907 - val_loss: 0.0290 - val_accuracy: 1.0000\n",
      "Epoch 5/45\n",
      "7/7 [==============================] - 0s 10ms/step - loss: 0.0161 - accuracy: 1.0000 - val_loss: 0.1071 - val_accuracy: 0.9630\n",
      "Epoch 6/45\n",
      "7/7 [==============================] - 0s 10ms/step - loss: 0.0110 - accuracy: 1.0000 - val_loss: 0.0592 - val_accuracy: 0.9630\n",
      "Epoch 7/45\n",
      "7/7 [==============================] - 0s 11ms/step - loss: 0.0189 - accuracy: 0.9907 - val_loss: 0.0444 - val_accuracy: 0.9630\n",
      "Epoch 8/45\n",
      "7/7 [==============================] - 0s 10ms/step - loss: 0.0105 - accuracy: 1.0000 - val_loss: 0.0777 - val_accuracy: 0.9630\n",
      "Epoch 9/45\n",
      "7/7 [==============================] - 0s 10ms/step - loss: 0.0107 - accuracy: 1.0000 - val_loss: 0.1544 - val_accuracy: 0.9259\n",
      "Epoch 10/45\n",
      "7/7 [==============================] - 0s 10ms/step - loss: 0.0110 - accuracy: 1.0000 - val_loss: 0.0219 - val_accuracy: 1.0000\n",
      "Epoch 11/45\n",
      "7/7 [==============================] - 0s 10ms/step - loss: 0.0120 - accuracy: 0.9907 - val_loss: 0.1234 - val_accuracy: 0.9630\n",
      "Epoch 12/45\n",
      "7/7 [==============================] - 0s 11ms/step - loss: 0.0108 - accuracy: 1.0000 - val_loss: 0.0541 - val_accuracy: 0.9630\n",
      "Epoch 13/45\n",
      "7/7 [==============================] - 0s 11ms/step - loss: 0.0088 - accuracy: 1.0000 - val_loss: 0.1677 - val_accuracy: 0.9259\n",
      "Epoch 14/45\n",
      "7/7 [==============================] - 0s 11ms/step - loss: 0.0143 - accuracy: 0.9907 - val_loss: 0.1425 - val_accuracy: 0.9259\n",
      "Epoch 15/45\n",
      "7/7 [==============================] - 0s 10ms/step - loss: 0.0120 - accuracy: 1.0000 - val_loss: 0.1591 - val_accuracy: 0.9259\n",
      "Epoch 16/45\n",
      "7/7 [==============================] - 0s 14ms/step - loss: 0.0139 - accuracy: 1.0000 - val_loss: 0.0612 - val_accuracy: 0.9630\n",
      "Epoch 17/45\n",
      "7/7 [==============================] - 0s 12ms/step - loss: 0.0097 - accuracy: 1.0000 - val_loss: 0.1677 - val_accuracy: 0.9259\n",
      "Epoch 18/45\n",
      "7/7 [==============================] - 0s 10ms/step - loss: 0.0087 - accuracy: 1.0000 - val_loss: 0.0720 - val_accuracy: 0.9630\n",
      "Epoch 19/45\n",
      "7/7 [==============================] - 0s 11ms/step - loss: 0.0091 - accuracy: 1.0000 - val_loss: 0.1575 - val_accuracy: 0.9259\n",
      "Epoch 20/45\n",
      "7/7 [==============================] - 0s 11ms/step - loss: 0.0124 - accuracy: 1.0000 - val_loss: 0.1395 - val_accuracy: 0.9630\n",
      "Epoch 21/45\n",
      "7/7 [==============================] - 0s 12ms/step - loss: 0.0141 - accuracy: 1.0000 - val_loss: 0.0879 - val_accuracy: 0.9630\n",
      "Epoch 22/45\n",
      "7/7 [==============================] - 0s 14ms/step - loss: 0.0082 - accuracy: 1.0000 - val_loss: 0.0939 - val_accuracy: 0.9630\n",
      "Epoch 23/45\n",
      "7/7 [==============================] - 0s 11ms/step - loss: 0.0094 - accuracy: 1.0000 - val_loss: 0.0470 - val_accuracy: 0.9630\n",
      "Epoch 24/45\n",
      "7/7 [==============================] - 0s 11ms/step - loss: 0.0096 - accuracy: 1.0000 - val_loss: 0.1348 - val_accuracy: 0.9630\n",
      "Epoch 25/45\n",
      "7/7 [==============================] - 0s 11ms/step - loss: 0.0119 - accuracy: 1.0000 - val_loss: 0.1043 - val_accuracy: 0.9630\n",
      "Epoch 26/45\n",
      "7/7 [==============================] - 0s 11ms/step - loss: 0.0080 - accuracy: 1.0000 - val_loss: 0.0910 - val_accuracy: 0.9630\n",
      "Epoch 27/45\n",
      "7/7 [==============================] - 0s 11ms/step - loss: 0.0073 - accuracy: 1.0000 - val_loss: 0.1415 - val_accuracy: 0.9630\n",
      "Epoch 28/45\n",
      "7/7 [==============================] - 0s 11ms/step - loss: 0.0082 - accuracy: 1.0000 - val_loss: 0.0434 - val_accuracy: 0.9630\n",
      "Epoch 29/45\n",
      "7/7 [==============================] - 0s 11ms/step - loss: 0.0071 - accuracy: 1.0000 - val_loss: 0.0788 - val_accuracy: 0.9630\n",
      "Epoch 30/45\n",
      "7/7 [==============================] - 0s 11ms/step - loss: 0.0089 - accuracy: 1.0000 - val_loss: 0.1781 - val_accuracy: 0.9259\n",
      "Epoch 31/45\n",
      "7/7 [==============================] - 0s 18ms/step - loss: 0.0119 - accuracy: 1.0000 - val_loss: 0.0859 - val_accuracy: 0.9630\n",
      "Epoch 32/45\n",
      "7/7 [==============================] - 0s 14ms/step - loss: 0.0062 - accuracy: 1.0000 - val_loss: 0.0728 - val_accuracy: 0.9630\n",
      "Epoch 33/45\n",
      "7/7 [==============================] - 0s 10ms/step - loss: 0.0061 - accuracy: 1.0000 - val_loss: 0.1601 - val_accuracy: 0.9259\n",
      "Epoch 34/45\n",
      "7/7 [==============================] - 0s 11ms/step - loss: 0.0071 - accuracy: 1.0000 - val_loss: 0.1539 - val_accuracy: 0.9259\n",
      "Epoch 35/45\n",
      "7/7 [==============================] - 0s 11ms/step - loss: 0.0073 - accuracy: 1.0000 - val_loss: 0.1202 - val_accuracy: 0.9630\n",
      "Epoch 36/45\n",
      "7/7 [==============================] - 0s 10ms/step - loss: 0.0049 - accuracy: 1.0000 - val_loss: 0.0315 - val_accuracy: 1.0000\n",
      "Epoch 37/45\n",
      "7/7 [==============================] - 0s 11ms/step - loss: 0.0098 - accuracy: 1.0000 - val_loss: 0.0476 - val_accuracy: 0.9630\n",
      "Epoch 38/45\n",
      "7/7 [==============================] - 0s 11ms/step - loss: 0.0050 - accuracy: 1.0000 - val_loss: 0.1204 - val_accuracy: 0.9630\n",
      "Epoch 39/45\n",
      "7/7 [==============================] - 0s 14ms/step - loss: 0.0062 - accuracy: 1.0000 - val_loss: 0.1308 - val_accuracy: 0.9630\n",
      "Epoch 40/45\n",
      "7/7 [==============================] - 0s 13ms/step - loss: 0.0048 - accuracy: 1.0000 - val_loss: 0.1056 - val_accuracy: 0.9630\n",
      "Epoch 41/45\n",
      "7/7 [==============================] - 0s 10ms/step - loss: 0.0077 - accuracy: 1.0000 - val_loss: 0.0814 - val_accuracy: 0.9630\n",
      "Epoch 42/45\n",
      "7/7 [==============================] - 0s 11ms/step - loss: 0.0063 - accuracy: 1.0000 - val_loss: 0.1597 - val_accuracy: 0.9630\n",
      "Epoch 43/45\n",
      "7/7 [==============================] - 0s 11ms/step - loss: 0.0051 - accuracy: 1.0000 - val_loss: 0.0678 - val_accuracy: 0.9630\n",
      "Epoch 44/45\n",
      "7/7 [==============================] - 0s 10ms/step - loss: 0.0044 - accuracy: 1.0000 - val_loss: 0.0336 - val_accuracy: 0.9630\n",
      "Epoch 45/45\n",
      "7/7 [==============================] - 0s 10ms/step - loss: 0.0070 - accuracy: 1.0000 - val_loss: 0.0250 - val_accuracy: 1.0000\n",
      "\n",
      "Accuracy during Training :\n",
      "------------------------------------\n"
     ]
    },
    {
     "data": {
      "image/png": "[encoded data removed]",
      "text/plain": [
       "<Figure size 800x500 with 1 Axes>"
      ]
     },
     "metadata": {},
     "output_type": "display_data"
    },
    {
     "name": "stdout",
     "output_type": "stream",
     "text": [
      "\n",
      "Evaluation against Test Dataset :\n",
      "------------------------------------\n",
      "1/1 [==============================] - 0s 33ms/step - loss: 0.6889 - accuracy: 0.8667\n"
     ]
    },
    {
     "data": {
      "text/plain": [
       "[0.6888996362686157, 0.8666666746139526]"
      ]
     },
     "execution_count": 14,
     "metadata": {},
     "output_type": "execute_result"
    }
   ],
   "source": [
    "#Make it verbose so we can see the progress\n",
    "VERBOSE=1\n",
    "\n",
    "#Setup Hyper Parameters for training\n",
    "\n",
    "#Set Batch size\n",
    "BATCH_SIZE=16\n",
    "#Set number of epochs\n",
    "EPOCHS=45\n",
    "#Set validation split. 20% of the training data will be used for validation\n",
    "#after each epoch\n",
    "VALIDATION_SPLIT=0.2\n",
    "\n",
    "print(\"\\nTraining Progress:\\n------------------------------------\")\n",
    "\n",
    "#Fit the model. This will perform the entire training cycle, including\n",
    "#forward propagation, loss computation, backward propagation and gradient descent.\n",
    "#Execute for the specified batch sizes and epoch\n",
    "#Perform validation after each epoch \n",
    "history=model.fit(x_train,\n",
    "          y_train,\n",
    "          batch_size=BATCH_SIZE,\n",
    "          epochs=EPOCHS,\n",
    "          verbose=VERBOSE,\n",
    "          validation_split=VALIDATION_SPLIT)\n",
    "\n",
    "print(\"\\nAccuracy during Training :\\n------------------------------------\")\n",
    "import matplotlib.pyplot as plt\n",
    "\n",
    "#Plot accuracy of the model after each epoch.\n",
    "pandas.DataFrame(history.history)[\"accuracy\"].plot(figsize=(8, 5))\n",
    "plt.title(\"Accuracy improvements with Epoch\")\n",
    "plt.show()\n",
    "\n",
    "#Evaluate the model against the test dataset and print results\n",
    "print(\"\\nEvaluation against Test Dataset :\\n------------------------------------\")\n",
    "model.evaluate(x_test,y_test)"
   ]
  },
  {
   "cell_type": "code",
   "execution_count": null,
   "id": "7ed41a8a-0238-43b6-ae90-13f7618d6718",
   "metadata": {},
   "outputs": [],
   "source": []
  }
 ],
 "metadata": {
  "kernelspec": {
   "display_name": "Python 3 (ipykernel)",
   "language": "python",
   "name": "python3"
  },
  "language_info": {
   "codemirror_mode": {
    "name": "ipython",
    "version": 3
   },
   "file_extension": ".py",
   "mimetype": "text/x-python",
   "name": "python",
   "nbconvert_exporter": "python",
   "pygments_lexer": "ipython3",
   "version": "3.11.4"
  }
 },
 "nbformat": 4,
 "nbformat_minor": 5
}
