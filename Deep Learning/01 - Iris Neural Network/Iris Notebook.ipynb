{
 "cells": [
  {
   "cell_type": "markdown",
   "id": "2b9cc808",
   "metadata": {},
   "source": [
    "# Iris\n",
    "\n",
    "This examples demonstrates the core deep learning model building concepts using the Keras library. The Iris flower dataset is used to build the model and perform classification tasks"
   ]
  },
  {
   "cell_type": "markdown",
   "id": "2fabf059",
   "metadata": {},
   "source": [
    "## 4.2. Prepare Input Data for Deep Learning\n",
    "\n",
    "Prepare and preprocess our input data to convert into something our neural network can read and access.\n",
    "\n",
    "1. Load data into a Pandas DataFrame\n",
    "2. Preprocess the categorical target variables\n",
    "3. Convert the DataFrame to a Numpy array\n",
    "4. Scale the feature dataset\n",
    "5. Use one-hot-encoding for the target variable\n",
    "6. Split into training and test datasets\n"
   ]
  },
  {
   "cell_type": "code",
   "execution_count": 1,
   "id": "453f74bc-b0f8-4e74-8a7d-7fa4aee5918a",
   "metadata": {},
   "outputs": [],
   "source": [
    "# Import necessary Python libraries for our model training\n",
    "import os\n",
    "import pandas as pandas\n",
    "import tensorflow as tensorflow\n",
    "import numpy as numpy\n",
    "from sklearn import preprocessing\n",
    "from sklearn.model_selection import train_test_split\n",
    "from sklearn.preprocessing import StandardScaler"
   ]
  },
  {
   "cell_type": "code",
   "execution_count": 2,
   "id": "75b8eec5-8e46-4d0e-874f-cb780115bd87",
   "metadata": {},
   "outputs": [
    {
     "name": "stdout",
     "output_type": "stream",
     "text": [
      "<class 'pandas.core.frame.DataFrame'>\n",
      "RangeIndex: 150 entries, 0 to 149\n",
      "Data columns (total 5 columns):\n",
      " #   Column        Non-Null Count  Dtype  \n",
      "---  ------        --------------  -----  \n",
      " 0   Sepal.Length  150 non-null    float64\n",
      " 1   Sepal.Width   150 non-null    float64\n",
      " 2   Petal.Length  150 non-null    float64\n",
      " 3   Petal.Width   150 non-null    float64\n",
      " 4   Species       150 non-null    object \n",
      "dtypes: float64(4), object(1)\n",
      "memory usage: 6.0+ KB\n"
     ]
    }
   ],
   "source": [
    "# Load data from our CSV file into a Pandas DataFrame\n",
    "iris_data = pandas.read_csv('iris.csv')\n",
    "iris_data.info()"
   ]
  },
  {
   "cell_type": "code",
   "execution_count": 3,
   "id": "60491464-8a1d-4fa3-acc4-ecb411264534",
   "metadata": {},
   "outputs": [],
   "source": [
    "# Preprocess categorical target variable into numeric values\n",
    "label_encoder = preprocessing.LabelEncoder()\n",
    "iris_data['Species'] = label_encoder.fit_transform(iris_data['Species'])"
   ]
  },
  {
   "cell_type": "code",
   "execution_count": 4,
   "id": "1a4dbb32-84e7-4296-b3e9-d9d6d49fada3",
   "metadata": {},
   "outputs": [],
   "source": [
    "# Convert DataFrame into Numpy Array/s\n",
    "numpy_iris = iris_data.to_numpy()"
   ]
  },
  {
   "cell_type": "code",
   "execution_count": 5,
   "id": "15da1cec-5183-4a33-8e26-a8a1db6a76d2",
   "metadata": {},
   "outputs": [],
   "source": [
    "# Scaling the feature dataset\n",
    "\n",
    "## Separate feature variables from the target variable\n",
    "x_data = numpy_iris[:,0:4]\n",
    "y_data = numpy_iris[:,4]\n",
    "\n",
    "## Create and train Scaler model fit for the given input data\n",
    "scaler_model = StandardScaler().fit(x_data)\n",
    "\n",
    "## Scale numeric feature variables\n",
    "x_data = scaler_model.transform(x_data)"
   ]
  },
  {
   "cell_type": "code",
   "execution_count": 6,
   "id": "c05fba9b-2e02-4028-bab2-5d898a752c62",
   "metadata": {},
   "outputs": [],
   "source": [
    "# Use one-hot encoding for categorical target variables\n",
    "y_data = tensorflow.keras.utils.to_categorical(y_data,3)"
   ]
  },
  {
   "cell_type": "code",
   "execution_count": 7,
   "id": "709a9da8-3f8e-4521-9ebf-6556237601a2",
   "metadata": {},
   "outputs": [],
   "source": [
    "# Split training and testing data\n",
    "x_train, x_test, y_train, y_test = train_test_split(x_data, y_data, test_size=0.10)"
   ]
  },
  {
   "cell_type": "markdown",
   "id": "df744ea0-2cf3-44a8-bcc6-f49765e2886d",
   "metadata": {},
   "source": [
    "## Creating a Model\n",
    "\n",
    "Creating a model in Keras requires defining the following\n",
    "\n",
    "1. Number of hidden layers\n",
    "2. Number of nodes in each layer\n",
    "3. Activation functions\n",
    "4. Loss Function & Accuracy measurements"
   ]
  },
  {
   "cell_type": "code",
   "execution_count": 8,
   "id": "6bb09cd1-ebcf-464f-9664-28d6cc88538e",
   "metadata": {},
   "outputs": [],
   "source": [
    "from tensorflow import keras"
   ]
  },
  {
   "cell_type": "code",
   "execution_count": 9,
   "id": "0e50e604-fe10-4149-86d2-d50e5e883d50",
   "metadata": {},
   "outputs": [
    {
     "name": "stdout",
     "output_type": "stream",
     "text": [
      "Model: \"sequential\"\n",
      "_________________________________________________________________\n",
      " Layer (type)                Output Shape              Param #   \n",
      "=================================================================\n",
      " hidden-layer-1 (Dense)      (None, 128)               640       \n",
      "                                                                 \n",
      " hidden-layer-2 (Dense)      (None, 128)               16512     \n",
      "                                                                 \n",
      " output-layer (Dense)        (None, 3)                 387       \n",
      "                                                                 \n",
      "=================================================================\n",
      "Total params: 17,539\n",
      "Trainable params: 17,539\n",
      "Non-trainable params: 0\n",
      "_________________________________________________________________\n"
     ]
    }
   ],
   "source": [
    "# Number of classes for our target variable\n",
    "target_classes = 3\n",
    "\n",
    "# Create a Sequential Model\n",
    "model = tensorflow.keras.models.Sequential()\n",
    "\n",
    "# Add first hidden layer\n",
    "model.add(keras.layers.Dense(128,\n",
    "                             input_shape = (4,),\n",
    "                             name = \"hidden-layer-1\",\n",
    "                             activation = 'relu'))\n",
    "\n",
    "# Add second hidden layer\n",
    "model.add(keras.layers.Dense(128,\n",
    "                             name = \"hidden-layer-2\",\n",
    "                             activation = 'relu'))\n",
    "\n",
    "# Add output layer with softmax activation function\n",
    "model.add(keras.layers.Dense(target_classes,\n",
    "                             name = \"output-layer\",\n",
    "                             activation = 'softmax'))\n",
    "\n",
    "# Compile the model with loss function and metrics\n",
    "model.compile(loss = 'categorical_crossentropy',\n",
    "              metrics = ['accuracy'])\n",
    "\n",
    "# Print compiled model meta-data\n",
    "model.summary()"
   ]
  },
  {
   "cell_type": "markdown",
   "id": "e68d0164-7e86-47f6-af21-4cd2be75cefd",
   "metadata": {},
   "source": [
    "## Training and evaluating the Model\n",
    "\n",
    "Training the model involves defining various training models and then perform \n",
    "forward and back propagation."
   ]
  },
  {
   "cell_type": "code",
   "execution_count": 10,
   "id": "d7e46252-c987-40e4-a521-35bf944844e3",
   "metadata": {},
   "outputs": [
    {
     "name": "stdout",
     "output_type": "stream",
     "text": [
      "\n",
      "Training Progress:\n",
      "------------------------------------\n",
      "Epoch 1/45\n",
      "7/7 [==============================] - 1s 54ms/step - loss: 0.8269 - accuracy: 0.7222 - val_loss: 0.6398 - val_accuracy: 0.7778\n",
      "Epoch 2/45\n",
      "7/7 [==============================] - 0s 11ms/step - loss: 0.5542 - accuracy: 0.8333 - val_loss: 0.5169 - val_accuracy: 0.7778\n",
      "Epoch 3/45\n",
      "7/7 [==============================] - 0s 11ms/step - loss: 0.4455 - accuracy: 0.8333 - val_loss: 0.4599 - val_accuracy: 0.8148\n",
      "Epoch 4/45\n",
      "7/7 [==============================] - 0s 9ms/step - loss: 0.3817 - accuracy: 0.8426 - val_loss: 0.4197 - val_accuracy: 0.8148\n",
      "Epoch 5/45\n",
      "7/7 [==============================] - 0s 11ms/step - loss: 0.3374 - accuracy: 0.8519 - val_loss: 0.3945 - val_accuracy: 0.8148\n",
      "Epoch 6/45\n",
      "7/7 [==============================] - 0s 11ms/step - loss: 0.2991 - accuracy: 0.8611 - val_loss: 0.3982 - val_accuracy: 0.8519\n",
      "Epoch 7/45\n",
      "7/7 [==============================] - 0s 10ms/step - loss: 0.2771 - accuracy: 0.8889 - val_loss: 0.3646 - val_accuracy: 0.8519\n",
      "Epoch 8/45\n",
      "7/7 [==============================] - 0s 11ms/step - loss: 0.2460 - accuracy: 0.8981 - val_loss: 0.3575 - val_accuracy: 0.8519\n",
      "Epoch 9/45\n",
      "7/7 [==============================] - 0s 10ms/step - loss: 0.2211 - accuracy: 0.9167 - val_loss: 0.3266 - val_accuracy: 0.8519\n",
      "Epoch 10/45\n",
      "7/7 [==============================] - 0s 11ms/step - loss: 0.1972 - accuracy: 0.9074 - val_loss: 0.3546 - val_accuracy: 0.8519\n",
      "Epoch 11/45\n",
      "7/7 [==============================] - 0s 11ms/step - loss: 0.1862 - accuracy: 0.9259 - val_loss: 0.3212 - val_accuracy: 0.8889\n",
      "Epoch 12/45\n",
      "7/7 [==============================] - 0s 11ms/step - loss: 0.1694 - accuracy: 0.9259 - val_loss: 0.3326 - val_accuracy: 0.8519\n",
      "Epoch 13/45\n",
      "7/7 [==============================] - 0s 11ms/step - loss: 0.1517 - accuracy: 0.9259 - val_loss: 0.3134 - val_accuracy: 0.8889\n",
      "Epoch 14/45\n",
      "7/7 [==============================] - 0s 10ms/step - loss: 0.1381 - accuracy: 0.9537 - val_loss: 0.2887 - val_accuracy: 0.8889\n",
      "Epoch 15/45\n",
      "7/7 [==============================] - 0s 11ms/step - loss: 0.1304 - accuracy: 0.9352 - val_loss: 0.2975 - val_accuracy: 0.8889\n",
      "Epoch 16/45\n",
      "7/7 [==============================] - 0s 11ms/step - loss: 0.1161 - accuracy: 0.9537 - val_loss: 0.2654 - val_accuracy: 0.8889\n",
      "Epoch 17/45\n",
      "7/7 [==============================] - 0s 11ms/step - loss: 0.1046 - accuracy: 0.9630 - val_loss: 0.2641 - val_accuracy: 0.8889\n",
      "Epoch 18/45\n",
      "7/7 [==============================] - 0s 11ms/step - loss: 0.0931 - accuracy: 0.9815 - val_loss: 0.2403 - val_accuracy: 0.8519\n",
      "Epoch 19/45\n",
      "7/7 [==============================] - 0s 11ms/step - loss: 0.0966 - accuracy: 0.9722 - val_loss: 0.2389 - val_accuracy: 0.9259\n",
      "Epoch 20/45\n",
      "7/7 [==============================] - 0s 10ms/step - loss: 0.0821 - accuracy: 0.9815 - val_loss: 0.2366 - val_accuracy: 0.8889\n",
      "Epoch 21/45\n",
      "7/7 [==============================] - 0s 11ms/step - loss: 0.0811 - accuracy: 0.9907 - val_loss: 0.2280 - val_accuracy: 0.9259\n",
      "Epoch 22/45\n",
      "7/7 [==============================] - 0s 10ms/step - loss: 0.0737 - accuracy: 0.9722 - val_loss: 0.2295 - val_accuracy: 0.8889\n",
      "Epoch 23/45\n",
      "7/7 [==============================] - 0s 11ms/step - loss: 0.0658 - accuracy: 0.9815 - val_loss: 0.2200 - val_accuracy: 0.8889\n",
      "Epoch 24/45\n",
      "7/7 [==============================] - 0s 11ms/step - loss: 0.0607 - accuracy: 0.9815 - val_loss: 0.2038 - val_accuracy: 0.8889\n",
      "Epoch 25/45\n",
      "7/7 [==============================] - 0s 11ms/step - loss: 0.0623 - accuracy: 0.9815 - val_loss: 0.2022 - val_accuracy: 0.8889\n",
      "Epoch 26/45\n",
      "7/7 [==============================] - 0s 11ms/step - loss: 0.0649 - accuracy: 0.9815 - val_loss: 0.2111 - val_accuracy: 0.9259\n",
      "Epoch 27/45\n",
      "7/7 [==============================] - 0s 11ms/step - loss: 0.0562 - accuracy: 0.9907 - val_loss: 0.2815 - val_accuracy: 0.8889\n",
      "Epoch 28/45\n",
      "7/7 [==============================] - 0s 11ms/step - loss: 0.0504 - accuracy: 0.9815 - val_loss: 0.1918 - val_accuracy: 0.9259\n",
      "Epoch 29/45\n",
      "7/7 [==============================] - 0s 11ms/step - loss: 0.0531 - accuracy: 0.9815 - val_loss: 0.2447 - val_accuracy: 0.8889\n",
      "Epoch 30/45\n",
      "7/7 [==============================] - 0s 11ms/step - loss: 0.0458 - accuracy: 0.9815 - val_loss: 0.1878 - val_accuracy: 0.9259\n",
      "Epoch 31/45\n",
      "7/7 [==============================] - 0s 11ms/step - loss: 0.0539 - accuracy: 0.9907 - val_loss: 0.2248 - val_accuracy: 0.8889\n",
      "Epoch 32/45\n",
      "7/7 [==============================] - 0s 11ms/step - loss: 0.0483 - accuracy: 0.9815 - val_loss: 0.1802 - val_accuracy: 0.9259\n",
      "Epoch 33/45\n",
      "7/7 [==============================] - 0s 11ms/step - loss: 0.0451 - accuracy: 0.9907 - val_loss: 0.2647 - val_accuracy: 0.8889\n",
      "Epoch 34/45\n",
      "7/7 [==============================] - 0s 11ms/step - loss: 0.0532 - accuracy: 0.9722 - val_loss: 0.1770 - val_accuracy: 0.9259\n",
      "Epoch 35/45\n",
      "7/7 [==============================] - 0s 11ms/step - loss: 0.0464 - accuracy: 0.9815 - val_loss: 0.1770 - val_accuracy: 0.9259\n",
      "Epoch 36/45\n",
      "7/7 [==============================] - 0s 12ms/step - loss: 0.0444 - accuracy: 0.9815 - val_loss: 0.1712 - val_accuracy: 0.9259\n",
      "Epoch 37/45\n",
      "7/7 [==============================] - 0s 11ms/step - loss: 0.0417 - accuracy: 0.9907 - val_loss: 0.1634 - val_accuracy: 0.9259\n",
      "Epoch 38/45\n",
      "7/7 [==============================] - 0s 14ms/step - loss: 0.0385 - accuracy: 0.9907 - val_loss: 0.2094 - val_accuracy: 0.8889\n",
      "Epoch 39/45\n",
      "7/7 [==============================] - 0s 14ms/step - loss: 0.0393 - accuracy: 0.9907 - val_loss: 0.1581 - val_accuracy: 0.9259\n",
      "Epoch 40/45\n",
      "7/7 [==============================] - 0s 14ms/step - loss: 0.0486 - accuracy: 0.9907 - val_loss: 0.1591 - val_accuracy: 0.9259\n",
      "Epoch 41/45\n",
      "7/7 [==============================] - 0s 13ms/step - loss: 0.0430 - accuracy: 0.9907 - val_loss: 0.1776 - val_accuracy: 0.9259\n",
      "Epoch 42/45\n",
      "7/7 [==============================] - 0s 14ms/step - loss: 0.0417 - accuracy: 0.9815 - val_loss: 0.1866 - val_accuracy: 0.9259\n",
      "Epoch 43/45\n",
      "7/7 [==============================] - 0s 14ms/step - loss: 0.0387 - accuracy: 0.9907 - val_loss: 0.1541 - val_accuracy: 0.9259\n",
      "Epoch 44/45\n",
      "7/7 [==============================] - 0s 14ms/step - loss: 0.0421 - accuracy: 0.9907 - val_loss: 0.1961 - val_accuracy: 0.8889\n",
      "Epoch 45/45\n",
      "7/7 [==============================] - 0s 15ms/step - loss: 0.0378 - accuracy: 0.9815 - val_loss: 0.2304 - val_accuracy: 0.8889\n",
      "\n",
      "Accuracy during Training :\n",
      "------------------------------------\n"
     ]
    },
    {
     "data": {
      "image/png": "[encoded data removed]",
      "text/plain": [
       "<Figure size 800x500 with 1 Axes>"
      ]
     },
     "metadata": {},
     "output_type": "display_data"
    },
    {
     "name": "stdout",
     "output_type": "stream",
     "text": [
      "\n",
      "Evaluation against Test Dataset :\n",
      "------------------------------------\n",
      "1/1 [==============================] - 0s 37ms/step - loss: 0.1281 - accuracy: 0.9333\n"
     ]
    },
    {
     "data": {
      "text/plain": [
       "[0.12805558741092682, 0.9333333373069763]"
      ]
     },
     "execution_count": 10,
     "metadata": {},
     "output_type": "execute_result"
    }
   ],
   "source": [
    "#Make it verbose so we can see the progress\n",
    "VERBOSE=1\n",
    "\n",
    "#Setup Hyper Parameters for training\n",
    "\n",
    "#Set Batch size\n",
    "BATCH_SIZE=16\n",
    "#Set number of epochs\n",
    "EPOCHS=45\n",
    "#Set validation split. 20% of the training data will be used for validation\n",
    "#after each epoch\n",
    "VALIDATION_SPLIT=0.2\n",
    "\n",
    "print(\"\\nTraining Progress:\\n------------------------------------\")\n",
    "\n",
    "#Fit the model. This will perform the entire training cycle, including\n",
    "#forward propagation, loss computation, backward propagation and gradient descent.\n",
    "#Execute for the specified batch sizes and epoch\n",
    "#Perform validation after each epoch \n",
    "history=model.fit(x_train,\n",
    "          y_train,\n",
    "          batch_size=BATCH_SIZE,\n",
    "          epochs=EPOCHS,\n",
    "          verbose=VERBOSE,\n",
    "          validation_split=VALIDATION_SPLIT)\n",
    "\n",
    "print(\"\\nAccuracy during Training :\\n------------------------------------\")\n",
    "import matplotlib.pyplot as plt\n",
    "\n",
    "#Plot accuracy of the model after each epoch.\n",
    "pandas.DataFrame(history.history)[\"accuracy\"].plot(figsize=(8, 5))\n",
    "plt.title(\"Accuracy improvements with Epoch\")\n",
    "plt.show()\n",
    "\n",
    "#Evaluate the model against the test dataset and print results\n",
    "print(\"\\nEvaluation against Test Dataset :\\n------------------------------------\")\n",
    "model.evaluate(x_test,y_test)"
   ]
  },
  {
   "cell_type": "markdown",
   "id": "25648442-0ddb-4708-9340-06f2cbda9bbd",
   "metadata": {},
   "source": [
    "## Saving and Loading Models\n",
    "\n",
    "The training and inference environments are usually separate. Models need to be saved after they are validated. They are then loaded into the inference environments for actual prediction"
   ]
  },
  {
   "cell_type": "code",
   "execution_count": 11,
   "id": "3575dc65-47af-4c70-bb3b-d51fb28c0731",
   "metadata": {},
   "outputs": [
    {
     "name": "stderr",
     "output_type": "stream",
     "text": [
      "WARNING:absl:Function `_wrapped_model` contains input name(s) hidden-layer-1_input with unsupported characters which will be renamed to hidden_layer_1_input in the SavedModel.\n",
      "WARNING:absl:`hidden-layer-1_input` is not a valid tf.function parameter name. Sanitizing to `hidden_layer_1_input`.\n",
      "WARNING:absl:`hidden-layer-1_input` is not a valid tf.function parameter name. Sanitizing to `hidden_layer_1_input`.\n",
      "WARNING:absl:`hidden-layer-1_input` is not a valid tf.function parameter name. Sanitizing to `hidden_layer_1_input`.\n",
      "WARNING:absl:Found untraced functions such as _update_step_xla while saving (showing 1 of 1). These functions will not be directly callable after loading.\n"
     ]
    },
    {
     "name": "stdout",
     "output_type": "stream",
     "text": [
      "INFO:tensorflow:Assets written to: iris_save\\assets\n"
     ]
    },
    {
     "name": "stderr",
     "output_type": "stream",
     "text": [
      "INFO:tensorflow:Assets written to: iris_save\\assets\n"
     ]
    },
    {
     "name": "stdout",
     "output_type": "stream",
     "text": [
      "Model: \"sequential\"\n",
      "_________________________________________________________________\n",
      " Layer (type)                Output Shape              Param #   \n",
      "=================================================================\n",
      " hidden-layer-1 (Dense)      (None, 128)               640       \n",
      "                                                                 \n",
      " hidden-layer-2 (Dense)      (None, 128)               16512     \n",
      "                                                                 \n",
      " output-layer (Dense)        (None, 3)                 387       \n",
      "                                                                 \n",
      "=================================================================\n",
      "Total params: 17,539\n",
      "Trainable params: 17,539\n",
      "Non-trainable params: 0\n",
      "_________________________________________________________________\n"
     ]
    }
   ],
   "source": [
    "#Saving a model\n",
    "    \n",
    "model.save(\"iris_save\")\n",
    "    \n",
    "#Loading a Model \n",
    "loaded_model = keras.models.load_model(\"iris_save\")\n",
    "\n",
    "#Print Model Summary\n",
    "loaded_model.summary()"
   ]
  },
  {
   "cell_type": "markdown",
   "id": "32e32a8c-1d66-4b7e-ab93-4bddef5837ae",
   "metadata": {},
   "source": [
    "## Predictions with Deep Learning Models"
   ]
  },
  {
   "cell_type": "code",
   "execution_count": 14,
   "id": "46f78b97-b5b0-4de0-9e04-1f3c4f0d7f2d",
   "metadata": {},
   "outputs": [
    {
     "name": "stdout",
     "output_type": "stream",
     "text": [
      "1/1 [==============================] - 0s 40ms/step\n",
      "Raw Prediction Output (Probabilities) : [[4.8027025e-05 9.9850368e-01 1.4483271e-03]]\n",
      "Prediction is  ['versicolor']\n"
     ]
    }
   ],
   "source": [
    "#Raw prediction data\n",
    "prediction_input = [[6.6, 3. , 4.4, 1.4]]\n",
    "\n",
    "#Scale prediction data with the same scaling model\n",
    "scaled_input = scaler_model.transform(prediction_input)\n",
    "\n",
    "#Get raw prediction probabilities\n",
    "raw_prediction = model.predict(scaled_input)\n",
    "print(\"Raw Prediction Output (Probabilities) :\" , raw_prediction)\n",
    "\n",
    "#Find prediction\n",
    "prediction = numpy.argmax(raw_prediction)\n",
    "print(\"Prediction is \", label_encoder.inverse_transform([prediction]))"
   ]
  },
  {
   "cell_type": "code",
   "execution_count": null,
   "id": "f95aabcc-64c3-4f18-85dd-bd21fd727f89",
   "metadata": {},
   "outputs": [],
   "source": []
  }
 ],
 "metadata": {
  "kernelspec": {
   "display_name": "Python 3 (ipykernel)",
   "language": "python",
   "name": "python3"
  },
  "language_info": {
   "codemirror_mode": {
    "name": "ipython",
    "version": 3
   },
   "file_extension": ".py",
   "mimetype": "text/x-python",
   "name": "python",
   "nbconvert_exporter": "python",
   "pygments_lexer": "ipython3",
   "version": "3.11.4"
  }
 },
 "nbformat": 4,
 "nbformat_minor": 5
}
