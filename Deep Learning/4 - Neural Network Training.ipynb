{
 "cells": [
  {
   "cell_type": "markdown",
   "id": "6abdc044-f227-40d0-aad6-d97cfc215936",
   "metadata": {},
   "source": [
    "# Neural Network Training"
   ]
  },
  {
   "cell_type": "markdown",
   "id": "0e1112a8-fc76-46d4-a326-8700aa637804",
   "metadata": {},
   "source": [
    "*In this notebook, we shall discuss the following steps to perform in order to train a neural network*"
   ]
  },
  {
   "cell_type": "markdown",
   "id": "76f6dbc3-49a2-4f18-93ba-be8fbf8d202c",
   "metadata": {},
   "source": [
    "## Setting Up for Training"
   ]
  },
  {
   "cell_type": "markdown",
   "id": "995143ef-5b0b-4f4b-8722-da9c70970ff6",
   "metadata": {},
   "source": [
    "*Before we begin the training process, it is important to set up our data which is to be fed for training. Similar to machine learning, we must preprocess and split our data to ensure an efficient model performance. These steps will be discussed in depth in this section.*"
   ]
  },
  {
   "cell_type": "markdown",
   "id": "a5c7b982-ca38-47ae-940a-b6d0a33d95e1",
   "metadata": {},
   "source": []
  },
  {
   "cell_type": "markdown",
   "id": "c65e232d-3735-4e36-949f-43c392d04409",
   "metadata": {},
   "source": []
  },
  {
   "cell_type": "code",
   "execution_count": null,
   "id": "ef540cbf-ebdd-4a70-9952-0ecdd4c6e9aa",
   "metadata": {},
   "outputs": [],
   "source": []
  }
 ],
 "metadata": {
  "kernelspec": {
   "display_name": "Python 3 (ipykernel)",
   "language": "python",
   "name": "python3"
  },
  "language_info": {
   "codemirror_mode": {
    "name": "ipython",
    "version": 3
   },
   "file_extension": ".py",
   "mimetype": "text/x-python",
   "name": "python",
   "nbconvert_exporter": "python",
   "pygments_lexer": "ipython3",
   "version": "3.11.4"
  }
 },
 "nbformat": 4,
 "nbformat_minor": 5
}
