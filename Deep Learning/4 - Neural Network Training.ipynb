{
 "cells": [
  {
   "cell_type": "markdown",
   "id": "6abdc044-f227-40d0-aad6-d97cfc215936",
   "metadata": {},
   "source": [
    "# Neural Network Training"
   ]
  },
  {
   "cell_type": "markdown",
   "id": "0e1112a8-fc76-46d4-a326-8700aa637804",
   "metadata": {},
   "source": [
    "*In this notebook, we shall discuss the following steps to perform in order to train a neural network*"
   ]
  },
  {
   "cell_type": "markdown",
   "id": "76f6dbc3-49a2-4f18-93ba-be8fbf8d202c",
   "metadata": {},
   "source": [
    "## Setting Up for Training"
   ]
  },
  {
   "cell_type": "markdown",
   "id": "995143ef-5b0b-4f4b-8722-da9c70970ff6",
   "metadata": {},
   "source": [
    "*Before we begin the training process, it is important to set up our data which is to be fed for training. Similar to machine learning, we must preprocess and split our data to ensure an efficient model performance. These steps will be discussed in depth in this section.*"
   ]
  },
  {
   "cell_type": "markdown",
   "id": "c65e232d-3735-4e36-949f-43c392d04409",
   "metadata": {},
   "source": [
    "### Splitting Input Data"
   ]
  },
  {
   "cell_type": "markdown",
   "id": "7436f67f-6d96-4378-bc56-17b70c55f49f",
   "metadata": {},
   "source": [
    "Our input data should be split into appropriate sizes for different roles that serves unique roles towards creating an efficient and effective model. The data will be split into *three (3) sets*: (1) **training data set**, (2) **validation data set**, and (3) **test data set**. The input data is split and collected to this sets following an ***80:10:10*** ratio."
   ]
  },
  {
   "cell_type": "markdown",
   "id": "8f983c87-7e51-4ae8-8d20-7a60986e09a6",
   "metadata": {},
   "source": [
    "### Define the ANN Architecture and Hyper Parameter Values"
   ]
  },
  {
   "cell_type": "markdown",
   "id": "b097d82b-125b-4fec-aac9-23aebfea177a",
   "metadata": {},
   "source": [
    "After setting up our data set in preparation of being fed to our neural network, we must now decide on the initial values for our neural networks parameters and hyper parameters. "
   ]
  },
  {
   "cell_type": "markdown",
   "id": "9b1ef7cf-a92e-4fa0-8b44-550557d5486e",
   "metadata": {},
   "source": [
    "***First***, we have to **decide in the architecture of our artificial neural network**. This is done by defining the initial number of layers and their respective nodes for our neural network. Note that there is always **ONLY ONE (1)** input and output layers, and it is only the number of hidden layers we are trying to initially define. We then provide the activation functions for each layers, with the exception of the input layer. "
   ]
  },
  {
   "cell_type": "markdown",
   "id": "5951ec77-7498-4acb-bf95-35a3fd81c244",
   "metadata": {},
   "source": [
    "***Second***, we have to ***define our hyper parameters*** for our neural network. This includes the *epoch*, *batch sizes*, and *error functions*."
   ]
  },
  {
   "cell_type": "markdown",
   "id": "0ff5aae8-2ceb-434c-834b-a3c3292bd7a1",
   "metadata": {},
   "source": [
    "Note that our intial values for our parameters and hyperparameters will often need adjustments as we train our model and analyze its results. Adjust the values if needed and follow best practices if available for given problems."
   ]
  },
  {
   "cell_type": "markdown",
   "id": "7c25d808-fa54-46ac-bf85-54281859cf50",
   "metadata": {},
   "source": [
    "### Weights/Biases Initialization"
   ]
  },
  {
   "cell_type": "markdown",
   "id": "cd96d462-a993-4ad5-ac55-a8d28d3135c1",
   "metadata": {},
   "source": [
    "With our neural network's parameters and hyperparameters initialized, we can now move on to the last step included in our setup process, and that is the initialization of our weights and biases. "
   ]
  },
  {
   "cell_type": "markdown",
   "id": "19531cd5-6b15-4a9c-bf7f-9e75af254fb3",
   "metadata": {},
   "source": [
    "This is achieved using multiple initialization techniques. One of them is **zero initialization**, something that is not recommended due to it assigning all weights and biases to zero (0)."
   ]
  },
  {
   "cell_type": "markdown",
   "id": "7565e4ef-91e6-4847-9773-fa40b1020e79",
   "metadata": {},
   "source": [
    "Another one is **random initialization**, which initializes random values from a standard normal distribution (mean = 0, SD = 1)."
   ]
  }
 ],
 "metadata": {
  "kernelspec": {
   "display_name": "Python 3 (ipykernel)",
   "language": "python",
   "name": "python3"
  },
  "language_info": {
   "codemirror_mode": {
    "name": "ipython",
    "version": 3
   },
   "file_extension": ".py",
   "mimetype": "text/x-python",
   "name": "python",
   "nbconvert_exporter": "python",
   "pygments_lexer": "ipython3",
   "version": "3.11.4"
  }
 },
 "nbformat": 4,
 "nbformat_minor": 5
}
