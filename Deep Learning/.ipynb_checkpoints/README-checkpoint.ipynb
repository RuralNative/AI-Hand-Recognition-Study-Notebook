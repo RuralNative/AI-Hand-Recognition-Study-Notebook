{
 "cells": [
  {
   "cell_type": "markdown",
   "id": "c9d5ac47-5367-4470-9966-7d4b5cd7bf39",
   "metadata": {},
   "source": [
    "# Deep Learning"
   ]
  },
  {
   "cell_type": "markdown",
   "id": "9b483e1f-d380-4ee4-b163-cf1ff32ed393",
   "metadata": {},
   "source": [
    "## Order"
   ]
  },
  {
   "cell_type": "markdown",
   "id": "5d97de99-bb10-4c2c-b66a-5ae3ee137c7b",
   "metadata": {},
   "source": [
    "**01 - Iris Neural Network**\n",
    "* Start your learning for deep learning by having a brief look at how artificial neural networks are made programmatically through the Python language"
   ]
  },
  {
   "cell_type": "markdown",
   "id": "ff0552e2-8abf-41d8-aff9-d2462ab1b70a",
   "metadata": {},
   "source": [
    "**02 - Deep Learning - Introduction**\n",
    "* Be introduced to the fundamental concepts of deep learning"
   ]
  },
  {
   "cell_type": "markdown",
   "id": "4d18470a-eab6-4f6c-9834-03a1fe6ffa90",
   "metadata": {},
   "source": [
    "**03 - Neural Network Architecture - Introduction**\n",
    "* Read on the introduction for our study of neural networks with basic terminologies and others\n",
    "  "
   ]
  },
  {
   "cell_type": "markdown",
   "id": "05784397-9958-430f-a1fe-853f491f94b7",
   "metadata": {},
   "source": [
    "**04 - Neural Network Architecture - Strucure**\n",
    "* Read on the architecture and structure of the neural network"
   ]
  },
  {
   "cell_type": "markdown",
   "id": "661e0451-2116-4913-a4b9-67ebdc7f9cd2",
   "metadata": {},
   "source": [
    "**05 - Neural Network Training**\n",
    "* Read on to the conceptual study of how neural networks are trained"
   ]
  },
  {
   "cell_type": "markdown",
   "id": "33e840f1-649e-4fc4-9143-9ae64a783bca",
   "metadata": {},
   "source": [
    "## Sources\n",
    "1. *Kumaran Ponnambalam (2021)*, **Deep Learning: Getting Started** - ***LinkedIn Learning***"
   ]
  }
 ],
 "metadata": {
  "kernelspec": {
   "display_name": "Python 3 (ipykernel)",
   "language": "python",
   "name": "python3"
  },
  "language_info": {
   "codemirror_mode": {
    "name": "ipython",
    "version": 3
   },
   "file_extension": ".py",
   "mimetype": "text/x-python",
   "name": "python",
   "nbconvert_exporter": "python",
   "pygments_lexer": "ipython3",
   "version": "3.11.4"
  }
 },
 "nbformat": 4,
 "nbformat_minor": 5
}
