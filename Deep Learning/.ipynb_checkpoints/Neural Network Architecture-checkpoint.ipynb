{
 "cells": [
  {
   "cell_type": "markdown",
   "id": "4ec3594a-344c-41d8-808e-6932a13e8146",
   "metadata": {},
   "source": [
    "# Neural Network Architecture"
   ]
  },
  {
   "cell_type": "markdown",
   "id": "641f2bf3-cc97-4410-bcad-94a37aab99b6",
   "metadata": {},
   "source": [
    "A **neural network architecture** refers to the *structure or layout of a neural network*. It defines how the individual nodes or layers are organized and connected to each other. The architecture *determines how the network processes and transforms input data to produce output predictions or classifications*."
   ]
  },
  {
   "cell_type": "markdown",
   "id": "3905d079-8d97-4d03-b315-9b568bf7f217",
   "metadata": {},
   "source": [
    "## Input Data"
   ]
  },
  {
   "cell_type": "markdown",
   "id": "aa771810-21cb-46f9-9d1b-2a1633af5564",
   "metadata": {},
   "source": [
    "*To understand the purpose of the input layer in the whole architecture of our neural networks, it is important that we gain an understanding to the common concepts described below:*"
   ]
  },
  {
   "cell_type": "markdown",
   "id": "6a5e7346-f158-4cdc-9ddf-5ccb50b290d8",
   "metadata": {},
   "source": [
    "### Basic Terms"
   ]
  },
  {
   "cell_type": "markdown",
   "id": "b88838de-bcb0-400c-b605-a03fde055ef3",
   "metadata": {},
   "source": [
    "**Magnitude** is defined as the *measurement of quantity or value of a specific feature*. For example, scalar ***x = 10*** represents a measurement of the speed of a sample."
   ]
  },
  {
   "cell_type": "markdown",
   "id": "795c3ab5-dbc0-4c6b-b3ef-9deb3f1a24c1",
   "metadata": {},
   "source": [
    "**Direction** definition is *PENDING*"
   ]
  },
  {
   "cell_type": "markdown",
   "id": "7ad8a22a-6ed3-482a-9c1e-e7c7778cb613",
   "metadata": {},
   "source": [
    "### Data Structure"
   ]
  },
  {
   "cell_type": "markdown",
   "id": "d80ae769-0ea6-4562-afa6-1b4d87ca3d54",
   "metadata": {},
   "source": [
    "*Neural networks input data are based from linear algebra concepts of data structures, such as **scalars**, **vectors**, **matrices**, and **tensors**. All data structures will be explained here in concise detail.*"
   ]
  },
  {
   "cell_type": "code",
   "execution_count": 4,
   "id": "5130d81a-be20-492b-806b-8b1e4232e7e1",
   "metadata": {},
   "outputs": [],
   "source": [
    "# Import relevant Python libraries to assist learning and understanding datasets with Python\n",
    "import numpy as np"
   ]
  },
  {
   "cell_type": "markdown",
   "id": "113b988a-145e-410d-bf3b-b2a699b1fa98",
   "metadata": {},
   "source": [
    "#### Scalars"
   ]
  },
  {
   "cell_type": "markdown",
   "id": "18983321-ade0-4ced-b2ed-64b5404a24d0",
   "metadata": {},
   "source": [
    "**Scalars** are *single numbers* and are an example of a *0th-order tensor*. In machine learning, scalars can only represent *magnitude but NOT direction*. They could either be ***real numbers, integers, or rational numbers***. An example of scalars, both mathematically and programatically are shown below:\n"
   ]
  },
  {
   "cell_type": "markdown",
   "id": "dba61b4a-7d7d-4053-b68b-b37f0c592c0f",
   "metadata": {},
   "source": [
    "*Scalar Mathematic Examples*:\n",
    "* x = 1\n",
    "* y = 2\n",
    "* z = 3"
   ]
  },
  {
   "cell_type": "code",
   "execution_count": 3,
   "id": "ba2a538e-85df-4310-be96-fe372bec060a",
   "metadata": {},
   "outputs": [
    {
     "name": "stdout",
     "output_type": "stream",
     "text": [
      "Scalar examples in Python are 1, 2, and 3.\n"
     ]
    }
   ],
   "source": [
    "## Scalar Programmatical Examples in Python:\n",
    "scalar_one = np.array(1)\n",
    "scalar_two = np.array(2)\n",
    "scalar_three = np.array(3)\n",
    "\n",
    "print(f\"Scalar examples in Python are {scalar_one}, {scalar_two}, and {scalar_three}.\")"
   ]
  },
  {
   "cell_type": "markdown",
   "id": "c3bad1ec-2572-4df3-af9b-438db8be9596",
   "metadata": {},
   "source": [
    "**Vectors** are the *primary input unit for neural networks*, usually represented as *tuples of numeric values e.g. (1.0,2.0,3.0,4.0)*. They are usually defined in Python as *NumPy arrays*, and represent the *values of our feature variables* or *values independent variables* to be used for prediction. For this case, it is important that ***all input*** that is to be passed to our neural network for use should be in *numerical values*."
   ]
  },
  {
   "cell_type": "code",
   "execution_count": null,
   "id": "192e63b4-1e63-48ca-838e-0183c2fd3de3",
   "metadata": {},
   "outputs": [],
   "source": []
  }
 ],
 "metadata": {
  "kernelspec": {
   "display_name": "Python 3 (ipykernel)",
   "language": "python",
   "name": "python3"
  },
  "language_info": {
   "codemirror_mode": {
    "name": "ipython",
    "version": 3
   },
   "file_extension": ".py",
   "mimetype": "text/x-python",
   "name": "python",
   "nbconvert_exporter": "python",
   "pygments_lexer": "ipython3",
   "version": "3.11.4"
  }
 },
 "nbformat": 4,
 "nbformat_minor": 5
}
