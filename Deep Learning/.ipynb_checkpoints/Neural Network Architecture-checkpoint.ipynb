{
 "cells": [
  {
   "cell_type": "markdown",
   "id": "4ec3594a-344c-41d8-808e-6932a13e8146",
   "metadata": {},
   "source": [
    "# Neural Network Architecture"
   ]
  },
  {
   "cell_type": "markdown",
   "id": "641f2bf3-cc97-4410-bcad-94a37aab99b6",
   "metadata": {},
   "source": [
    "A **neural network architecture** refers to the *structure or layout of a neural network*. It defines how the individual nodes or layers are organized and connected to each other. The architecture *determines how the network processes and transforms input data to produce output predictions or classifications*."
   ]
  },
  {
   "cell_type": "markdown",
   "id": "3905d079-8d97-4d03-b315-9b568bf7f217",
   "metadata": {},
   "source": [
    "## Input Data"
   ]
  },
  {
   "cell_type": "markdown",
   "id": "aa771810-21cb-46f9-9d1b-2a1633af5564",
   "metadata": {},
   "source": [
    "*To understand the purpose of the input layer in the whole architecture of our neural networks, it is important that we gain an understanding to the common concepts described below:*"
   ]
  },
  {
   "cell_type": "markdown",
   "id": "6a5e7346-f158-4cdc-9ddf-5ccb50b290d8",
   "metadata": {},
   "source": [
    "### Basic Terms"
   ]
  },
  {
   "cell_type": "markdown",
   "id": "b88838de-bcb0-400c-b605-a03fde055ef3",
   "metadata": {},
   "source": [
    "**Magnitude** is defined as the *measurement of quantity or value of a specific feature*. For example, scalar ***x = 10*** represents a measurement of the speed of a sample."
   ]
  },
  {
   "cell_type": "markdown",
   "id": "795c3ab5-dbc0-4c6b-b3ef-9deb3f1a24c1",
   "metadata": {},
   "source": [
    "**Direction** definition is *PENDING*"
   ]
  },
  {
   "cell_type": "markdown",
   "id": "7ad8a22a-6ed3-482a-9c1e-e7c7778cb613",
   "metadata": {},
   "source": [
    "### Data Structure"
   ]
  },
  {
   "cell_type": "markdown",
   "id": "d80ae769-0ea6-4562-afa6-1b4d87ca3d54",
   "metadata": {},
   "source": [
    "*Neural networks input data are based from linear algebra concepts of data structures, such as **scalars**, **vectors**, **matrices**, and **tensors**. All data structures will be explained here in concise detail.*"
   ]
  },
  {
   "cell_type": "code",
   "execution_count": 4,
   "id": "5130d81a-be20-492b-806b-8b1e4232e7e1",
   "metadata": {},
   "outputs": [],
   "source": [
    "# Import relevant Python libraries to assist learning and understanding datasets with Python\n",
    "import numpy as np"
   ]
  },
  {
   "cell_type": "markdown",
   "id": "113b988a-145e-410d-bf3b-b2a699b1fa98",
   "metadata": {},
   "source": [
    "#### Scalars"
   ]
  },
  {
   "cell_type": "markdown",
   "id": "18983321-ade0-4ced-b2ed-64b5404a24d0",
   "metadata": {},
   "source": [
    "**Scalars** are *single numbers* and are an example of a *0th-order tensor*. In machine learning, scalars can only represent *magnitude but NOT direction*. They could either be ***real numbers, integers, or rational numbers***. An example of scalars, both mathematically and programatically are shown below:\n"
   ]
  },
  {
   "cell_type": "markdown",
   "id": "dba61b4a-7d7d-4053-b68b-b37f0c592c0f",
   "metadata": {},
   "source": [
    "*Scalar Mathematic Examples*:\n",
    "* x = 1\n",
    "* y = 2\n",
    "* z = 3"
   ]
  },
  {
   "cell_type": "code",
   "execution_count": 3,
   "id": "ba2a538e-85df-4310-be96-fe372bec060a",
   "metadata": {},
   "outputs": [
    {
     "name": "stdout",
     "output_type": "stream",
     "text": [
      "Scalar examples in Python are 1, 2, and 3.\n"
     ]
    }
   ],
   "source": [
    "## Scalar Programmatical Examples in Python:\n",
    "scalar_one = np.array(1)\n",
    "scalar_two = np.array(2)\n",
    "scalar_three = np.array(3)\n",
    "\n",
    "print(f\"Scalar examples in Python are {scalar_one}, {scalar_two}, and {scalar_three}.\")"
   ]
  },
  {
   "cell_type": "markdown",
   "id": "2a8a6801-fb95-49dd-90dd-c132d8fa7ed2",
   "metadata": {},
   "source": [
    "#### Vectors"
   ]
  },
  {
   "cell_type": "markdown",
   "id": "c3bad1ec-2572-4df3-af9b-438db8be9596",
   "metadata": {},
   "source": [
    "**Vectors** are *1st - dimensional ordered array of scalars and are examples of 1st-order tensors*. They have both *magnitude* and *direction*. They hold *sequence of values* for either the *feature or sample*. In mathematics, a vector can be oriented either in a horizontal or vertical manner. On the other hand in machine learning, a *vector's orientation* defines whether it is a data structure *storing values for our features or sample*. For ***horizontal vectors***, they represent *sample data*, while ***vertical vectors*** represent *feature data*. Examples of vectors, both mathematical and programatical concepts, are shown below:"
   ]
  },
  {
   "cell_type": "code",
   "execution_count": 6,
   "id": "55b7f93a-a3f2-4844-9353-d118f474dd5a",
   "metadata": {},
   "outputs": [],
   "source": [
    "# Vector Mathematical Examples:\n",
    "# x = [1,2,3,4,5]\n",
    "# y = [3\r",
    "#      5        \n",
    "#      [7 "
   ]
  },
  {
   "cell_type": "code",
   "execution_count": 13,
   "id": "629e7160-5d5a-4d9d-b0f9-9e7965026c02",
   "metadata": {},
   "outputs": [
    {
     "name": "stdout",
     "output_type": "stream",
     "text": [
      "Values in age feature vector are [10 15 20]\n",
      "Values in year feature vector are [11 16 21]\n",
      "Values in first sample vector, from age to year, are [10 11]\n",
      "Values in second sample vector, from age to year, are [15 16]\n"
     ]
    }
   ],
   "source": [
    "# Vectors in Machine Learning (PYTHON)\n",
    "\n",
    "# Features\n",
    "age = np.array([10,15,20])\n",
    "year = np.array([11,16,21])\n",
    "print(f\"Values in age feature vector are {age}\")\n",
    "print(f\"Values in year feature vector are {year}\")\n",
    "\n",
    "# Samples\n",
    "sample_one = np.array([age[0], year[0]])\n",
    "sample_two = np.array([age[1], year[1]])\n",
    "print(f\"Values in first sample vector, from age to year, are {sample_one}\")\n",
    "print(f\"Values in second sample vector, from age to year, are {sample_two}\")"
   ]
  }
 ],
 "metadata": {
  "kernelspec": {
   "display_name": "Python 3 (ipykernel)",
   "language": "python",
   "name": "python3"
  },
  "language_info": {
   "codemirror_mode": {
    "name": "ipython",
    "version": 3
   },
   "file_extension": ".py",
   "mimetype": "text/x-python",
   "name": "python",
   "nbconvert_exporter": "python",
   "pygments_lexer": "ipython3",
   "version": "3.11.4"
  }
 },
 "nbformat": 4,
 "nbformat_minor": 5
}
