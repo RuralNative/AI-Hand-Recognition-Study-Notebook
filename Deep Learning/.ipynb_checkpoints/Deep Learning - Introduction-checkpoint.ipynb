{
 "cells": [
  {
   "cell_type": "markdown",
   "id": "9e58f2b7-b42c-4e45-9c8e-c50abfadb3eb",
   "metadata": {},
   "source": [
    "# Deep Learning Introduction"
   ]
  },
  {
   "cell_type": "markdown",
   "id": "360f8182-b359-4443-8bab-7cb0cea51512",
   "metadata": {},
   "source": [
    "## Requirements"
   ]
  },
  {
   "cell_type": "markdown",
   "id": "d7c8cecd-e233-411e-b131-c39d30347b38",
   "metadata": {},
   "source": [
    "This topic requires the following concepts/tools to be experienced either first or during to better follow with the progression of our lessons:\n",
    "* **Machine Learning**\n",
    "* **Python ML Libraries (Numpy, Pandas, Scikit-learn)**\n",
    "* **Keras**\n",
    "* **TensorFlow**"
   ]
  },
  {
   "cell_type": "markdown",
   "id": "c8237e94-1f09-4b22-ad26-51aa46ad39bf",
   "metadata": {},
   "source": [
    "## Introduction"
   ]
  },
  {
   "cell_type": "markdown",
   "id": "3187f68b-32fa-4ca8-b422-4475040ae749",
   "metadata": {},
   "source": [
    "**Deep learning** is a *subset of machine learning* dealing with the building of *neural networks*. **Neural networks** attempts to mimic human intelligence by imitating how the human brain works and how ideas and information are organized and processed inside it. *Neural networks* that have *three or more layers* are usually referred to as **deep learning networks**. This subset of machine learning had achieved exponential growth during this decade, and has powered advances in *large-scale data processing* and *inference*. Deep learning can be applied in *natural language processing (NLP)*, *speech recognition*, *image recognition*, *maneuver of self-driving cars*, and the creation of complex programming algorithms for *customer experience, healthcare, and robotics*."
   ]
  },
  {
   "cell_type": "markdown",
   "id": "902846a1-43a0-4561-b889-85207e89125f",
   "metadata": {},
   "source": []
  }
 ],
 "metadata": {
  "kernelspec": {
   "display_name": "Python 3 (ipykernel)",
   "language": "python",
   "name": "python3"
  },
  "language_info": {
   "codemirror_mode": {
    "name": "ipython",
    "version": 3
   },
   "file_extension": ".py",
   "mimetype": "text/x-python",
   "name": "python",
   "nbconvert_exporter": "python",
   "pygments_lexer": "ipython3",
   "version": "3.11.4"
  }
 },
 "nbformat": 4,
 "nbformat_minor": 5
}
