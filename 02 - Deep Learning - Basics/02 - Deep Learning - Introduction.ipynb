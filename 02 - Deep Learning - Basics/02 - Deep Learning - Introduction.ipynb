{
 "cells": [
  {
   "cell_type": "markdown",
   "id": "9e58f2b7-b42c-4e45-9c8e-c50abfadb3eb",
   "metadata": {},
   "source": [
    "# Deep Learning Introduction"
   ]
  },
  {
   "cell_type": "markdown",
   "id": "360f8182-b359-4443-8bab-7cb0cea51512",
   "metadata": {},
   "source": [
    "## Requirements"
   ]
  },
  {
   "cell_type": "markdown",
   "id": "d7c8cecd-e233-411e-b131-c39d30347b38",
   "metadata": {},
   "source": [
    "This topic requires the following concepts/tools to be experienced either first or during to better follow with the progression of our lessons:\n",
    "* **Machine Learning**\n",
    "* **Python ML Libraries (Numpy, Pandas, Scikit-learn)**\n",
    "* **Keras**\n",
    "* **TensorFlow**"
   ]
  },
  {
   "cell_type": "markdown",
   "id": "c8237e94-1f09-4b22-ad26-51aa46ad39bf",
   "metadata": {},
   "source": [
    "## Introduction"
   ]
  },
  {
   "cell_type": "markdown",
   "id": "3187f68b-32fa-4ca8-b422-4475040ae749",
   "metadata": {},
   "source": [
    "**Deep learning** is a *subset of machine learning* dealing with the building of *neural networks*. **Neural networks** attempts to mimic human intelligence by imitating how the human brain works and how ideas and information are organized and processed inside it. *Neural networks* that have *three or more layers* are usually referred to as **deep learning networks**. This subset of machine learning had achieved exponential growth during this decade, and has powered advances in *large-scale data processing* and *inference*. Deep learning can be applied in *natural language processing (NLP)*, *speech recognition*, *image recognition*, *maneuver of self-driving cars*, and the creation of complex programming algorithms for *customer experience, healthcare, and robotics*."
   ]
  },
  {
   "cell_type": "markdown",
   "id": "902846a1-43a0-4561-b889-85207e89125f",
   "metadata": {},
   "source": [
    "## Linear Regression in Deep Learning"
   ]
  },
  {
   "cell_type": "markdown",
   "id": "b0d4da20-3862-4da3-ac16-6746a735c242",
   "metadata": {},
   "source": [
    "**Linear regression** is a basic statistical concept common in machine learning application uses. It also serves as one of the fundamentals/founcations of deep learning."
   ]
  },
  {
   "cell_type": "markdown",
   "id": "ba38e2fa-f9f7-4c45-85eb-c0a78ed7593d",
   "metadata": {},
   "source": [
    "In *linear regression*, we have two categories of variables which are (1) **x**, the *independent variable*, and (2) **y**, the *dependent variable*. Our model provides an equation to solve the value of *y* based from the value of *x*. To compute this, we require *two constants* which are (1) **a**, the *slope*, and (2) **b**, the *intercept*. The formula is shown below. "
   ]
  },
  {
   "cell_type": "markdown",
   "id": "dcdbb8f4-e237-480b-a8be-3176bd24baf6",
   "metadata": {},
   "source": [
    "**Linear Regression Formula**:\n",
    "* *y = ax + b*\n",
    "* *y = a1x1 + a2x2... an+xn + b*"
   ]
  },
  {
   "cell_type": "markdown",
   "id": "d5760757-d43f-4370-8be0-e7f96bd0333e",
   "metadata": {},
   "source": [
    "Note that the formula provides an output solely based from the linear relationship between *y* and *x*, although in realistic situations linear relationships between the independent and dependent variables are often rare to occur and because of this *errors does occur in the prediction of values*."
   ]
  },
  {
   "cell_type": "markdown",
   "id": "1e930524-0ef3-4b98-92f8-1d537d1a9767",
   "metadata": {},
   "source": [
    "Linear regression is used in **solving problems that require the *prediction of continues variables***, often numerical in value, and can also be used in occasions where there are *multiple independent variables*."
   ]
  },
  {
   "cell_type": "markdown",
   "id": "b59d69e9-b372-46f4-81eb-e4e8ae4b1dd2",
   "metadata": {},
   "source": [
    "In machine learning and for this case deep learning, **building linear regression models** meant creating a mathematical model that calculates and determines the values of the formula constants, *slope (a)* and *intercept (b)* that defines the linear relationship between our *independent variable/s (x)* and *dependent variable/s (y)*. This is accomplished through the help of defined values of *x* and *y*. This model would then in turn be used to predict the value of our dependent variable, although this would get more complicated if there are multiple independent variables."
   ]
  },
  {
   "cell_type": "markdown",
   "id": "bdb44d50-6e3c-4929-9a41-09f626df33bd",
   "metadata": {},
   "source": [
    "## Logistic Regeression in Deep Learning"
   ]
  },
  {
   "cell_type": "markdown",
   "id": "73e2602e-14af-4d67-8da1-e53c2adcfab6",
   "metadata": {},
   "source": [
    "**Logistic regression** is a binary model that defines the relationship between two variables. The **output *(y)*** in this case is either a **zero/one**. While similar in a way with that of linear regression, we use an **activation function *(f)*** to conver the continuous variable coming out of the *linear regression formula* into a **bolean value (0/1)**. This can also be use for situations where there are multiple independent variables, but just like that of linear regression, it gets *more complicated*."
   ]
  },
  {
   "cell_type": "markdown",
   "id": "078fb063-c135-4424-a781-1a28ecd2b04d",
   "metadata": {},
   "source": [
    "**Logistic Regression Formula**:\n",
    "* *y = f(ax + b)*\n",
    "* *y = f(a1x1 + a2x2... an+xn + b)*"
   ]
  },
  {
   "cell_type": "markdown",
   "id": "64c14201-bce8-45eb-95e4-513de98b7fa5",
   "metadata": {},
   "source": [
    "## Perceptron in Deep Learning"
   ]
  },
  {
   "cell_type": "markdown",
   "id": "9e9ed19d-6279-4525-a67b-d9e91916f185",
   "metadata": {
    "editable": true,
    "slideshow": {
     "slide_type": ""
    },
    "tags": []
   },
   "source": [
    "**Perceptron** or **node** is the *single unit of learning / building blocks* of a *neural network*, based on the concept of *logistic regression*. Multiple inputs are fed into the perceptron for calculation and outputs a *boolean result (1/0)*. The formula for the perceptron/node is essential in deep learning."
   ]
  },
  {
   "cell_type": "markdown",
   "id": "59ca2ce1-5e20-4f25-b77d-cc20e62e3407",
   "metadata": {},
   "source": [
    "The formula for the perceptron/node is based from the logistic regression formula but is modified to reflect the nature of machine learning. The variable *slope (a)* is replaced by that of **weight (w)**, and the variable *intercept (b)* is  replaced by that of **bias (b)**. The formula is shown below:"
   ]
  },
  {
   "cell_type": "markdown",
   "id": "535868fe-933f-4753-8816-0cafac225ec8",
   "metadata": {},
   "source": [
    "**Perceptron Formula *(based from Logistic Regression)***:\n",
    "* *y = f(wx + b)*\n",
    "* *y = f(w1x1 + w2x2... wn+xn + b)*"
   ]
  },
  {
   "cell_type": "markdown",
   "id": "c2b5f647-f86f-42e1-b94d-38950e4c918c",
   "metadata": {},
   "source": [
    "Below is a visual illustration of the inner structure of a perceptron/node, further explaining how it works as whole:\n",
    "* *First, our perceptrons receive multiple inputs, such as our independent variables (x), and a constant 1.*\n",
    "* *Second, these inputs would then be calculated with their corresponding weights and bias.*\n",
    "* *Third, the sum of these results would then be collected.*\n",
    "* *Fourth, the sum would then run through an activation function.*\n",
    "* *Lastly, the result of these would be our dependent variable (y), which is either a 1/0.*"
   ]
  },
  {
   "cell_type": "markdown",
   "id": "78f86ca5-45c4-4894-afb3-803bba2e4624",
   "metadata": {},
   "source": [
    "![]((Media)/1.PNG)"
   ]
  },
  {
   "cell_type": "markdown",
   "id": "07b07fe9-046f-48ad-bb7d-016cbe2609b6",
   "metadata": {},
   "source": [
    "## Artificial Neural Network in Deep Learning"
   ]
  },
  {
   "cell_type": "markdown",
   "id": "4e0adb08-687f-45de-98f1-3749e701cf24",
   "metadata": {},
   "source": [
    "An **artificial neural network (*ANN*)** is a *network of perceptrons or nodes*. In a neural network, nodes are organized into multiple layers categorically known as (1) the **input layer**, (2) the **hidden layers**, (3) and the **output layer**. It is also good to note that a neural network usually has **a minimum of 3 layers**."
   ]
  },
  {
   "cell_type": "markdown",
   "id": "f52eafa1-5ebf-453e-b360-43e1be5a541c",
   "metadata": {},
   "source": [
    "![]((Media)/2.PNG)"
   ]
  },
  {
   "cell_type": "markdown",
   "id": "f67a7a2c-a3b4-4fea-9de9-cea62129c07e",
   "metadata": {},
   "source": [
    "Nodes within a layer *does not connect within each other*, but instead *connect to all nodes in the preceding and succeeding layers*. It is also important to note that individual nodes have their *own individual and often unique values for their weights and biases*. The number of layers and nodes depends on the use case, and may also be affected by the developer's experience."
   ]
  },
  {
   "cell_type": "markdown",
   "id": "addad6f7-da23-48e5-8f35-d214edb8fde6",
   "metadata": {},
   "source": [
    "## Training an Artificial Neural Network"
   ]
  },
  {
   "cell_type": "markdown",
   "id": "61e11d66-9ef7-41be-85dc-709766aa32b5",
   "metadata": {},
   "source": [
    "An artificial neural network is created through a *model training process*.  A **neural network model** is represented by a *set of parameters* and *hyperparameters*,including but not limited to the *values of weights and biases*, and the *number of nodes and layers*."
   ]
  },
  {
   "cell_type": "markdown",
   "id": "a1fbda06-45c1-4fd4-a350-2582976986ea",
   "metadata": {},
   "source": [
    "**Training the neural network** is defined as *determining the correct values for the model's parameters and hyperparameters* such that it *maximizes the accuracy and/or performance of the model's prediction* in the relevant use case."
   ]
  },
  {
   "cell_type": "markdown",
   "id": "b254b9d6-5429-4cb8-914d-fff05fcb5669",
   "metadata": {},
   "source": [
    "The **training process** consists of the following steps as listed below:\n",
    "* **Use training data** which consists of known values of inputs and outputs.\n",
    "* **Create network architecture** based on your *intuition*.\n",
    "* Start with **random values** for our *weights* and *biases*.\n",
    "* **Minimize prediction error** through *iterations of parameters/hyperparameter value adjustment*\n",
    "* **Save model** for integration in relevant architectures."
   ]
  },
  {
   "cell_type": "code",
   "execution_count": null,
   "id": "2ce70d5f-4b8c-41f5-a862-9e4547980594",
   "metadata": {},
   "outputs": [],
   "source": []
  }
 ],
 "metadata": {
  "kernelspec": {
   "display_name": "Python 3 (ipykernel)",
   "language": "python",
   "name": "python3"
  },
  "language_info": {
   "codemirror_mode": {
    "name": "ipython",
    "version": 3
   },
   "file_extension": ".py",
   "mimetype": "text/x-python",
   "name": "python",
   "nbconvert_exporter": "python",
   "pygments_lexer": "ipython3",
   "version": "3.11.4"
  }
 },
 "nbformat": 4,
 "nbformat_minor": 5
}
