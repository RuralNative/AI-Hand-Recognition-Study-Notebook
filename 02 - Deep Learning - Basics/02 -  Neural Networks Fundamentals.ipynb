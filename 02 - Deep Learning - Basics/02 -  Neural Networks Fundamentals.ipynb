{
 "cells": [
  {
   "cell_type": "markdown",
   "id": "556a3239-16d3-4d89-9338-d40c8055e45a",
   "metadata": {},
   "source": [
    "# Neural Networks Fundamentals"
   ]
  },
  {
   "cell_type": "markdown",
   "id": "9b10a992-b66e-4402-9b11-4ef5a3bd27d5",
   "metadata": {},
   "source": []
  },
  {
   "cell_type": "markdown",
   "id": "8adc2abc-1a64-4b54-8cb3-bb5ad74fcfc2",
   "metadata": {},
   "source": []
  },
  {
   "cell_type": "markdown",
   "id": "9b8f3cde-b3f0-41d2-8052-a1cd08849305",
   "metadata": {},
   "source": []
  },
  {
   "cell_type": "markdown",
   "id": "d486beb5-1f07-438c-93d7-b72d26c7d821",
   "metadata": {},
   "source": []
  },
  {
   "cell_type": "markdown",
   "id": "219e1eff-b1cd-412e-8c89-e8401e8b1615",
   "metadata": {},
   "source": []
  },
  {
   "cell_type": "markdown",
   "id": "e9b9dd34-25ab-4921-8b37-48a38caa6247",
   "metadata": {},
   "source": []
  },
  {
   "cell_type": "code",
   "execution_count": null,
   "id": "0f273da8-293e-42d3-a168-8bc12ecd2b9e",
   "metadata": {},
   "outputs": [],
   "source": []
  }
 ],
 "metadata": {
  "kernelspec": {
   "display_name": "Python 3 (ipykernel)",
   "language": "python",
   "name": "python3"
  },
  "language_info": {
   "codemirror_mode": {
    "name": "ipython",
    "version": 3
   },
   "file_extension": ".py",
   "mimetype": "text/x-python",
   "name": "python",
   "nbconvert_exporter": "python",
   "pygments_lexer": "ipython3",
   "version": "3.11.4"
  }
 },
 "nbformat": 4,
 "nbformat_minor": 5
}
