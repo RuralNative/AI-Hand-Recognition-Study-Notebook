{
 "cells": [
  {
   "cell_type": "markdown",
   "id": "f8c5cbff-fcaa-41f4-9b66-3e6429ebc1a6",
   "metadata": {},
   "source": [
    "# MediaPipe"
   ]
  },
  {
   "cell_type": "markdown",
   "id": "76d62a8a-9609-4e2c-b957-7052803d61b4",
   "metadata": {},
   "source": [
    "## Importation of Packages"
   ]
  },
  {
   "cell_type": "code",
   "execution_count": 15,
   "id": "67fcb78b-6fcd-41dc-9503-b954c6ee174c",
   "metadata": {},
   "outputs": [],
   "source": [
    "# RUN ONLY IF PACKAGES ARE NOT LOCALLY INSTALLED\n",
    "!pip install mediapipe\n",
    "!pip install PyQt5\n",
    "!pip install nb_helpers"
   ]
  },
  {
   "cell_type": "code",
   "execution_count": 10,
   "id": "a416be88-a7d3-4f9f-a495-2517603ca11d",
   "metadata": {},
   "outputs": [],
   "source": [
    "import cv2\n",
    "import mediapipe as mp\n",
    "import urllib.request\n",
    "import matplotlib as mpl\n",
    "import matplotlib.pyplot as plt\n",
    "from matplotlib import animation\n",
    "import numpy as np\n",
    "import pickle\n",
    "import PyQt5\n",
    "from PIL import Image\n",
    "from IPython.display import Video\n",
    "import nb_helpers"
   ]
  },
  {
   "cell_type": "code",
   "execution_count": 11,
   "id": "404d6758-f3e8-43de-8f90-0430d406bb49",
   "metadata": {},
   "outputs": [],
   "source": [
    "mp_drawing = mp.solutions.drawing_utils\n",
    "mp_drawing_styles = mp.solutions.drawing_styles\n",
    "mp_holistic = mp.solutions.holistic\n",
    "mp_pose = mp.solutions.pose\n",
    "mp_face_mesh = mp.solutions.face_mesh"
   ]
  },
  {
   "cell_type": "code",
   "execution_count": null,
   "id": "bf6f2923-5ebf-4cf8-ac79-1c57564997df",
   "metadata": {},
   "outputs": [],
   "source": []
  }
 ],
 "metadata": {
  "kernelspec": {
   "display_name": "Python 3 (ipykernel)",
   "language": "python",
   "name": "python3"
  },
  "language_info": {
   "codemirror_mode": {
    "name": "ipython",
    "version": 3
   },
   "file_extension": ".py",
   "mimetype": "text/x-python",
   "name": "python",
   "nbconvert_exporter": "python",
   "pygments_lexer": "ipython3",
   "version": "3.11.4"
  }
 },
 "nbformat": 4,
 "nbformat_minor": 5
}
