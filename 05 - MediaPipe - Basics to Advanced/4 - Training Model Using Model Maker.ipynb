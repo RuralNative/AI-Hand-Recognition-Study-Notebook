{
 "cells": [
  {
   "cell_type": "markdown",
   "id": "cb9cb31c-8a8e-4be6-a1fa-aa6d2a9e8d68",
   "metadata": {},
   "source": [
    "# Training Model Using Model Maker"
   ]
  },
  {
   "cell_type": "markdown",
   "id": "1cc1f933-6551-424a-9f88-434961733226",
   "metadata": {},
   "source": [
    "*In this notebook, we will be harnessing the Model Maker API to customize the pre-trained Hand Gesture Recognition model available from MediaPipe Solutions to determine what letter/number are being gestured by the user from the American Sign Language.* "
   ]
  },
  {
   "cell_type": "markdown",
   "id": "32665907-dd5a-431b-b83b-d5821a072b5f",
   "metadata": {},
   "source": [
    "*Refer to either my [Colabs notebook](https://colab.research.google.com/drive/1atLQ_b5fnsbqcvxO4o0bBJb0r5Snvqgp) or [Kaggle notebook]() for the complete source code used here, as such platforms offers a way to run the notebook through a cloud server offering free CPU/GPU services, accelerating the training speed of the model which might not be available due to your own computer.*"
   ]
  },
  {
   "cell_type": "markdown",
   "id": "6ea4553d-96a7-4df9-be23-ba695161d9c2",
   "metadata": {},
   "source": [
    "## Importation and Setup Environment"
   ]
  },
  {
   "cell_type": "markdown",
   "id": "461fca7c-0118-4b60-aa4e-4d41fabab7cb",
   "metadata": {},
   "source": []
  },
  {
   "cell_type": "code",
   "execution_count": null,
   "id": "5158dfe3-57bd-4fc1-8c5b-8d7997ec0f23",
   "metadata": {},
   "outputs": [],
   "source": []
  },
  {
   "cell_type": "code",
   "execution_count": null,
   "id": "94f7e8b1-a459-4f53-a216-77e7e76e73b8",
   "metadata": {},
   "outputs": [],
   "source": []
  }
 ],
 "metadata": {
  "kernelspec": {
   "display_name": "Python 3 (ipykernel)",
   "language": "python",
   "name": "python3"
  },
  "language_info": {
   "codemirror_mode": {
    "name": "ipython",
    "version": 3
   },
   "file_extension": ".py",
   "mimetype": "text/x-python",
   "name": "python",
   "nbconvert_exporter": "python",
   "pygments_lexer": "ipython3",
   "version": "3.11.4"
  }
 },
 "nbformat": 4,
 "nbformat_minor": 5
}
