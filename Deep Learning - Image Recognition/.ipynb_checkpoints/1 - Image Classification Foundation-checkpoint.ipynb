{
 "cells": [
  {
   "cell_type": "markdown",
   "id": "50337d1b-53ec-46bb-bb15-d1eb30b0aac3",
   "metadata": {},
   "source": [
    "# Image Classification - Foundations"
   ]
  },
  {
   "cell_type": "markdown",
   "id": "a04b6536-dcf0-4dfb-802b-5457da844a17",
   "metadata": {},
   "source": [
    "## Introduction"
   ]
  },
  {
   "cell_type": "markdown",
   "id": "01c2c8c2-6d81-44ee-81a1-4a7cb209a2b3",
   "metadata": {},
   "source": [
    "Image classification in deep learning refers to the process of training a model to classify images into different categories or classes. It is a fundamental task in computer vision and is widely used in various applications such as object recognition, face detection, and autonomous driving."
   ]
  },
  {
   "cell_type": "markdown",
   "id": "e79cc605-96fd-49da-ae60-7af8a7d1a0a7",
   "metadata": {},
   "source": [
    "Deep learning models for image classification are typically based on convolutional neural networks (CNNs). CNNs are designed to automatically learn and extract relevant features from images, making them well-suited for image classification tasks. The model consists of multiple layers, including convolutional layers, pooling layers, and fully connected layers."
   ]
  },
  {
   "cell_type": "markdown",
   "id": "6aad6e17-dd82-4c6a-9b7c-ba85b9421690",
   "metadata": {},
   "source": [
    "During the training phase, the model is fed with a large dataset of labeled images. It learns to recognize patterns and features in the images by adjusting the weights of the network through a process called backpropagation. The model is optimized to minimize the difference between its predicted outputs and the true labels of the training images."
   ]
  },
  {
   "cell_type": "markdown",
   "id": "b74eb3b6-1f47-48fe-8257-d0fb6b7904fb",
   "metadata": {},
   "source": [
    "Once the model is trained, it can be used to classify new, unseen images. The input image is passed through the network, and the model assigns a probability to each class. The class with the highest probability is considered as the predicted class for the input image."
   ]
  },
  {
   "cell_type": "markdown",
   "id": "de5e8907-e7e5-42a8-b1e3-21e8407b7737",
   "metadata": {},
   "source": [
    "## Images"
   ]
  },
  {
   "cell_type": "markdown",
   "id": "8aca1aba-9e49-4d4a-87d5-86ed4abdf43b",
   "metadata": {},
   "source": [
    "Images are collection of pixels, wherein each pixel contains information about the color or intensity of a specific point in the image."
   ]
  },
  {
   "cell_type": "markdown",
   "id": "356f4574-f1b3-415c-963a-d146723c77b8",
   "metadata": {},
   "source": [
    "For example, in a grayscale image, each pixel is represented by a single value that indicates the intensity of the pixel. The value can range from 0 (black) to 255 (white). This means that for a 640x480 grayscale image, it would contain 307,200 pixels or inputs. Images with higher resolutions would imply even larger input sizes for our neural network to work on."
   ]
  },
  {
   "cell_type": "markdown",
   "id": "1407471c-8a49-40f6-9290-16c61df760bc",
   "metadata": {},
   "source": [
    "In another example, a color image has each pixel is represented by three values (red, green, and blue) that determine the color of the pixel. These values can also range from 0 to 255. This means that for a 640x480 grayscale image, it would contain 307,200 pixels or inputs. Note that this only refers to one specific color, and a typical image are colored so this will be multiplied again by the three colors (RGB), providing a total of 921,600 inputs for our neural network to work on."
   ]
  },
  {
   "cell_type": "markdown",
   "id": "371c2685-815c-4110-963d-6097c495f258",
   "metadata": {},
   "source": [
    "With this being said, working with images are computationally intensive and it is highly recommended to work on smaller image sizes ranging between 128 pixels and 512 pixels wide, as anything larger than that would result in slower training periods. Due to this, images are scaled down in size before being fed into a neural network."
   ]
  },
  {
   "cell_type": "code",
   "execution_count": null,
   "id": "6c6a11b7-93cc-4213-aad0-e2aba57f0891",
   "metadata": {},
   "outputs": [],
   "source": []
  }
 ],
 "metadata": {
  "kernelspec": {
   "display_name": "Python 3 (ipykernel)",
   "language": "python",
   "name": "python3"
  },
  "language_info": {
   "codemirror_mode": {
    "name": "ipython",
    "version": 3
   },
   "file_extension": ".py",
   "mimetype": "text/x-python",
   "name": "python",
   "nbconvert_exporter": "python",
   "pygments_lexer": "ipython3",
   "version": "3.11.4"
  }
 },
 "nbformat": 4,
 "nbformat_minor": 5
}
