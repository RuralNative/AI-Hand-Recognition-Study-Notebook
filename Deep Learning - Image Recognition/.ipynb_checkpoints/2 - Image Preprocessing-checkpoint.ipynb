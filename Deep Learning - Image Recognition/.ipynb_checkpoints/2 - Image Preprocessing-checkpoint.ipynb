{
 "cells": [
  {
   "cell_type": "markdown",
   "id": "0679874c-b9a9-4131-bbc3-846f4503c9ce",
   "metadata": {},
   "source": [
    "#  Image Preprocessing"
   ]
  },
  {
   "cell_type": "markdown",
   "id": "c8be2892-8c4a-4056-918c-54f35a3e461c",
   "metadata": {},
   "source": [
    "Image preprocessing is the first step in the image recognition deep learning pipeline which is defined as a process involving the transformation of raw images into an appropriate form that fits your model, which usually includes adjustments to the size, orientation, and color of the images. The primary purpose of image preprocessing are the described below:"
   ]
  },
  {
   "cell_type": "markdown",
   "id": "62724a8d-da13-4682-be1e-c2247b7986cb",
   "metadata": {},
   "source": [
    "**Improving Image Quality**: Preprocessing helps to raise the image's quality so that it can be analyzed more effectively by the model. It allows us to eliminate unwanted distortions and enhance specific qualities that are essential for the application we are working on"
   ]
  },
  {
   "cell_type": "markdown",
   "id": "ebf12391-4c42-4cfc-b12f-1f8f4d108f83",
   "metadata": {},
   "source": [
    "**Standardizing Input**: The CNN's fully connected layers require that all images be in arrays of the same size. Preprocessing ensures that the input data's shape is consistent, which is necessary for the model to function correctly and produce the desired results"
   ]
  },
  {
   "cell_type": "markdown",
   "id": "f430d309-a147-45cc-a88a-af8e859b5aae",
   "metadata": {},
   "source": [
    "**Reducing Training Time**: It can shorten model training time and speed up model inference. For instance, if the input images are very large, reducing the size of these images can significantly decrease the amount of time needed to train the model without significantly affecting model performance "
   ]
  },
  {
   "cell_type": "markdown",
   "id": "bbf5ae08-a3e8-487e-bced-329912c7e05e",
   "metadata": {},
   "source": [
    "**Reducing Complexity**: Preprocessing can be used to reduce the complexity of the applied algorithm. For example, converting color images to grayscale can reduce computational complexity, as color images contain more information than black and white images and can add unnecessary complexity"
   ]
  },
  {
   "cell_type": "markdown",
   "id": "5e068425-60d0-479b-ab16-b1ae90eca521",
   "metadata": {},
   "source": [
    "**Enhancing Algorithm Accuracy**: More often than not, preprocessing is used to conduct steps that increase the accuracy of the applied algorithm by reducing unwanted distortions or enhancing some image features crucial for subsequent processing"
   ]
  },
  {
   "cell_type": "markdown",
   "id": "b659b04d-4144-42ac-8ef1-d1a651bafefd",
   "metadata": {},
   "source": []
  },
  {
   "cell_type": "code",
   "execution_count": null,
   "id": "313bcf2b-e40d-4b83-b8f0-515e24869506",
   "metadata": {},
   "outputs": [],
   "source": []
  }
 ],
 "metadata": {
  "kernelspec": {
   "display_name": "Python 3 (ipykernel)",
   "language": "python",
   "name": "python3"
  },
  "language_info": {
   "codemirror_mode": {
    "name": "ipython",
    "version": 3
   },
   "file_extension": ".py",
   "mimetype": "text/x-python",
   "name": "python",
   "nbconvert_exporter": "python",
   "pygments_lexer": "ipython3",
   "version": "3.11.4"
  }
 },
 "nbformat": 4,
 "nbformat_minor": 5
}
