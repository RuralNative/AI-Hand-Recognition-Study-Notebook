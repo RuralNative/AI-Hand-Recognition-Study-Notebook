{
 "cells": [
  {
   "cell_type": "markdown",
   "id": "07436161-db56-4d31-a7cc-808afbb6a975",
   "metadata": {},
   "source": [
    "## Library Importation"
   ]
  },
  {
   "cell_type": "code",
   "execution_count": null,
   "id": "da62ac65-d2e8-427e-9e4a-181cb54986ca",
   "metadata": {},
   "outputs": [],
   "source": [
    "# Import necessary Python modules\n",
    "import os\n",
    "import tensorflow as tf\n",
    "import tensorflow.keras.backend as K\n",
    "from keras.models import Sequential\n",
    "from keras.layers import Dense, Dropout, MaxPool2D, Conv2D, Flatten\n",
    "from tensorflow.keras.layers import Lambda\n",
    "from tensorflow.keras.preprocessing.image import ImageDataGenerator\n",
    "import numpy as np\n",
    "import matplotlib.pyplot as plt\n",
    "import PIL"
   ]
  },
  {
   "cell_type": "markdown",
   "id": "5034c930-2f88-4088-8c6f-28394bf02fe1",
   "metadata": {},
   "source": [
    "## Data Preprocessing"
   ]
  },
  {
   "cell_type": "markdown",
   "id": "f7f57295-0c63-4cf7-80df-1ae4880df826",
   "metadata": {},
   "source": [
    "**Normalization of Image Data**"
   ]
  },
  {
   "cell_type": "code",
   "execution_count": null,
   "id": "276636aa-0482-477c-8940-ea8e736a4f3d",
   "metadata": {},
   "outputs": [],
   "source": [
    "train_datagen = ImageDataGenerator(\n",
    "    rescale = 1/255, \n",
    "    zoom_range=0.2,\n",
    "    shear_range=0.1,\n",
    "    rotation_range=30,\n",
    "    width_shift_range=0.2,\n",
    "    height_shift_range=0.2,\n",
    "    validation_split = 0.2)\n",
    "test_datagen = ImageDataGenerator(rescale = 1/255)"
   ]
  },
  {
   "cell_type": "markdown",
   "id": "6e7b87cc-aa44-455b-9554-df1b2e9dd0b1",
   "metadata": {},
   "source": [
    "**Load Dataset**"
   ]
  },
  {
   "cell_type": "code",
   "execution_count": null,
   "id": "7dfddd9f-9b8d-4ddf-8b3c-63c49f7e9b49",
   "metadata": {},
   "outputs": [],
   "source": [
    "# Classes for images\n",
    "asl_classes = ['A','B','C','D','E','F','G','H','I','K','L','M','N','O','P','Q','R','S','T','U','V','W','X','Y']\n",
    "\n",
    "# Directory Values\n",
    "train_data_directory = \"/kaggle/input/handsignimages/Train\"\n",
    "test_data_directory = \"/kaggle/input/handsignimages/Test\""
   ]
  },
  {
   "cell_type": "code",
   "execution_count": null,
   "id": "99a2f816-e970-4109-adf0-499c2d70ca4c",
   "metadata": {},
   "outputs": [],
   "source": [
    "# Load data from dataset\n",
    "train_generator = train_datagen.flow_from_directory(\n",
    "    train_data_directory,\n",
    "    target_size = (28,28),\n",
    "    classes = asl_classes,\n",
    "    class_mode = 'sparse',\n",
    "    color_mode = 'rgb',\n",
    "    subset = 'training'\n",
    ")\n",
    "\n",
    "validation_generator = train_datagen.flow_from_directory(\n",
    "    train_data_directory,\n",
    "    target_size = (28,28),\n",
    "    classes = asl_classes,\n",
    "    class_mode = 'sparse',\n",
    "    color_mode = 'rgb',\n",
    "    subset = 'validation'\n",
    ")\n",
    "\n",
    "test_generator = train_datagen.flow_from_directory(\n",
    "    test_data_directory,\n",
    "    target_size = (28,28),\n",
    "    classes = asl_classes,\n",
    "    class_mode = 'sparse',\n",
    "    color_mode = 'rgb'\n",
    ")"
   ]
  },
  {
   "cell_type": "code",
   "execution_count": null,
   "id": "d356b432-1b73-4ac4-bc0c-fa876758239c",
   "metadata": {},
   "outputs": [],
   "source": [
    "# Function for grayscale conversion of images with Gleam technique\n",
    "def gleam_grayscale(x):\n",
    "    return (0.2989 * x[:,:,:,:1]) + (0.587 * x[:,:,:,1:2]) + (0.114 * x[:,:,:,-1:])"
   ]
  }
 ],
 "metadata": {
  "kernelspec": {
   "display_name": "Python 3 (ipykernel)",
   "language": "python",
   "name": "python3"
  },
  "language_info": {
   "codemirror_mode": {
    "name": "ipython",
    "version": 3
   },
   "file_extension": ".py",
   "mimetype": "text/x-python",
   "name": "python",
   "nbconvert_exporter": "python",
   "pygments_lexer": "ipython3",
   "version": "3.11.4"
  }
 },
 "nbformat": 4,
 "nbformat_minor": 5
}
