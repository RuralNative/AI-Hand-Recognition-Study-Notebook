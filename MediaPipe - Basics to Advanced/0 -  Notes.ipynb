{
 "cells": [
  {
   "cell_type": "markdown",
   "id": "cb44c0e8-cfa8-45e6-8f08-1a0b0774bfda",
   "metadata": {},
   "source": [
    "# MediaPipe"
   ]
  },
  {
   "cell_type": "markdown",
   "id": "62d9c7de-b5d0-4a7b-acfc-fd6ed4c0f4a8",
   "metadata": {},
   "source": [
    "This module will discuss MediaPipe and its components, the **MediaPipe Framework** and **MediaPipe Solutions**, for the purpose of applying it for creating a specialize machine learning solution for recognizing the hand gestures of a user through the use of camera and classify it as to what hand sign is showing based from the American Sign Language."
   ]
  },
  {
   "cell_type": "markdown",
   "id": "8455c219-1cf8-4469-9dc2-0af22b37c03b",
   "metadata": {},
   "source": [
    "## Contents"
   ]
  },
  {
   "cell_type": "markdown",
   "id": "10d7fedc-e255-469c-a174-95f9173f476f",
   "metadata": {},
   "source": [
    "**MediaPipe Framework**: Discuss what MediaPipe Framework is and its key concepts towards the development of Machine Learning solutions through MediaPipe. We will not use Framework, as we will focus on the MediaPipe Solutions for our use case."
   ]
  },
  {
   "cell_type": "markdown",
   "id": "5dcb47a2-468e-47b4-b46b-9465513f6d41",
   "metadata": {},
   "source": [
    "**MediaPipe Solutions**: Discuss what MediaPipe Solutions is and its components that will allow us to build our custom machine learning solution using MediaPipe in a more convenient and easier manner."
   ]
  },
  {
   "cell_type": "markdown",
   "id": "41e2b246-0ec9-4af8-8cd0-c3b45f2f6752",
   "metadata": {},
   "source": [
    "**MediaPipe Model Maker**: Provide a detailed information with regards to Model Maker"
   ]
  },
  {
   "cell_type": "markdown",
   "id": "98713e09-437e-42b7-b936-44269ea7afa5",
   "metadata": {},
   "source": [
    "**Training Model Using Model Maker**: Apply the Model Maker API functionalities towards developing our own model for Hand Gesture Recognition for American Sign Language using a publicly-available dataset from Kaggle."
   ]
  },
  {
   "cell_type": "markdown",
   "id": "e6512d1d-5f72-4f22-9e99-c5f532d6e211",
   "metadata": {},
   "source": [
    "**Deployment Using MediaPipe**: Discuss how both Studio and Tasks API can be used to test and deploy our machine learning solution."
   ]
  },
  {
   "cell_type": "markdown",
   "id": "ae3a59b5-0183-40d7-9427-0eaef7c33f95",
   "metadata": {},
   "source": [
    "## Credits"
   ]
  },
  {
   "cell_type": "markdown",
   "id": "5f48a1c9-203f-461a-96d6-f720cfd986c6",
   "metadata": {},
   "source": [
    "*TODO*"
   ]
  }
 ],
 "metadata": {
  "kernelspec": {
   "display_name": "Python 3 (ipykernel)",
   "language": "python",
   "name": "python3"
  },
  "language_info": {
   "codemirror_mode": {
    "name": "ipython",
    "version": 3
   },
   "file_extension": ".py",
   "mimetype": "text/x-python",
   "name": "python",
   "nbconvert_exporter": "python",
   "pygments_lexer": "ipython3",
   "version": "3.11.4"
  }
 },
 "nbformat": 4,
 "nbformat_minor": 5
}
