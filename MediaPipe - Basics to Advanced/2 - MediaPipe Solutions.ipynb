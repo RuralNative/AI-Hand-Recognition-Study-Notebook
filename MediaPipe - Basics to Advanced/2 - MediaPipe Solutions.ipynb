{
 "cells": [
  {
   "cell_type": "markdown",
   "id": "0023ea12-8270-41c6-8a23-704185727ba5",
   "metadata": {},
   "source": [
    "# MediaPipe Solutions\n",
    "This are pre-built examples on specific pre-trained TensorFlow or TFLite Models which, unlike MediaPipe Framework, focuses not on providing an overall control to the model development process but instead focuses on simplifying the development process by providing ready-made functionalities for common use cases, such as object detection, face recognition, and more importantly, hand gesture recognition."
   ]
  },
  {
   "cell_type": "markdown",
   "id": "71e52fc3-0b1b-487e-9dd4-b44174552169",
   "metadata": {},
   "source": [
    "These solutions are built on top of the MediaPipe Framework but offers and provides a high-level interface, hiding the technical details of the framework. Solutions is a fantastic way to start using MediaPipe to provide solutions to our projects and customize it to our needs."
   ]
  },
  {
   "cell_type": "markdown",
   "id": "71f8c9eb-a179-45fa-9d7e-fea4083becbb",
   "metadata": {},
   "source": [
    "## Limitations of Solutions"
   ]
  },
  {
   "cell_type": "markdown",
   "id": "ceb9a8f0-1338-492b-affd-d5870d66d666",
   "metadata": {},
   "source": [
    "Due to the fact that Solutions does not offer the same utilization freedom which Framework offers, the following limitations and disadvantages can be encountered during its use. Below are examples that further describes and explains such limitations:"
   ]
  },
  {
   "cell_type": "markdown",
   "id": "8e704d88-a34c-47a9-8f2f-d02fd6edbb7e",
   "metadata": {},
   "source": [
    "**Limited Customization**: MediaPipe Solutions provide pre-built functionality for common use cases, but they may not cover all possible scenarios or specific requirements. \n",
    "While MediaPipe Solutions offer a convenient starting point, customization options may be limited compared to building a custom pipeline with the MediaPipe Framewor. \r\n",
    "If your use case requires specific optimizations or modifications, using a MediaPipe Solution may not provide the same level of flexibility as building a custom pipelin.\n"
   ]
  },
  {
   "cell_type": "markdown",
   "id": "b0245101-8a8a-4c2a-a734-7c5e9cd36b02",
   "metadata": {},
   "source": [
    "**Performance Impacts of Pre-trained Models**: MediaPipe Solutions are built on top of pre-trained TensorFlow or TFLite models. \n",
    "The performance of MediaPipe Solutions can be influenced by the complexity and size of the pre-trained models use. \r\n",
    "More complex models may require more computational resources, potentially impacting the overall performance of the solutio .\r\n",
    "It's important to consider the hardware capabilities of the target device and the specific requirements of your application when using MediaPipe Solutions."
   ]
  },
  {
   "cell_type": "markdown",
   "id": "536676e7-0aef-4f06-991d-653cb0b734b8",
   "metadata": {},
   "source": [
    "**Resource Utilization**: MediaPipe Solutions are designed to provide real-time output, which may require significant computational resources depending on the complexity of the solution and the available hardware. \n",
    "Depending on the device's capabilities, running MediaPipe Solutions with resource-intensive models may result in increased CPU or GPU usage, potentially affecting the overall performance of the application."
   ]
  },
  {
   "cell_type": "markdown",
   "id": "b944dd92-1f55-4f95-8748-02837c9ccb15",
   "metadata": {},
   "source": [
    "**Limited Control Over Pipeline**: MediaPipe Solutions provide a higher-level interface, abstracting the technical details of the MediaPipe Framework. \n",
    "While this simplifies the development process, it also means that developers have limited control over the internals of the pipelin. \r\n",
    "If fine-grained control or customization is required, building a custom pipeline with the MediaPipe Framework may be a better choice."
   ]
  },
  {
   "cell_type": "markdown",
   "id": "92b207cd-5367-43d0-805d-6728a7341808",
   "metadata": {},
   "source": []
  },
  {
   "cell_type": "markdown",
   "id": "bda7d9cd-4636-4b52-9c93-a625829ec746",
   "metadata": {},
   "source": []
  }
 ],
 "metadata": {
  "kernelspec": {
   "display_name": "Python 3 (ipykernel)",
   "language": "python",
   "name": "python3"
  },
  "language_info": {
   "codemirror_mode": {
    "name": "ipython",
    "version": 3
   },
   "file_extension": ".py",
   "mimetype": "text/x-python",
   "name": "python",
   "nbconvert_exporter": "python",
   "pygments_lexer": "ipython3",
   "version": "3.11.4"
  }
 },
 "nbformat": 4,
 "nbformat_minor": 5
}
