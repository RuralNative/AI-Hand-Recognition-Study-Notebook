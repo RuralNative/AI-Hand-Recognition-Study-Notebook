{
 "cells": [
  {
   "cell_type": "markdown",
   "id": "0023ea12-8270-41c6-8a23-704185727ba5",
   "metadata": {},
   "source": [
    "# MediaPipe Solutions\n",
    "This are pre-built examples on specific pre-trained TensorFlow or TFLite Models which, unlike MediaPipe Framework, focuses not on providing an overall control to the model development process but instead focuses on simplifying the development process by providing ready-made functionalities for common use cases, such as object detection, face recognition, and more importantly, hand gesture recognition."
   ]
  },
  {
   "cell_type": "markdown",
   "id": "71e52fc3-0b1b-487e-9dd4-b44174552169",
   "metadata": {},
   "source": [
    "These solutions are built on top of the MediaPipe Framework but offers and provides a high-level interface, hiding the technical details of the framework. Solutions is a fantastic way to start using MediaPipe to provide solutions to our projects and customize it to our needs."
   ]
  },
  {
   "cell_type": "markdown",
   "id": "71f8c9eb-a179-45fa-9d7e-fea4083becbb",
   "metadata": {},
   "source": [
    "## Limitations of Solutions"
   ]
  },
  {
   "cell_type": "markdown",
   "id": "ceb9a8f0-1338-492b-affd-d5870d66d666",
   "metadata": {},
   "source": [
    "Due to the fact that Solutions does not offer the same utilization freedom which Framework offers, the following limitations and disadvantages can be encountered during its use. Below are examples that further describes and explains such limitations:"
   ]
  },
  {
   "cell_type": "markdown",
   "id": "8e704d88-a34c-47a9-8f2f-d02fd6edbb7e",
   "metadata": {},
   "source": [
    "**Limited Customization**: MediaPipe Solutions provide pre-built functionality for common use cases, but they may not cover all possible scenarios or specific requirements. \n",
    "While MediaPipe Solutions offer a convenient starting point, customization options may be limited compared to building a custom pipeline with the MediaPipe Framewor. \r\n",
    "If your use case requires specific optimizations or modifications, using a MediaPipe Solution may not provide the same level of flexibility as building a custom pipelin.\n"
   ]
  },
  {
   "cell_type": "markdown",
   "id": "b0245101-8a8a-4c2a-a734-7c5e9cd36b02",
   "metadata": {},
   "source": [
    "**Performance Impacts of Pre-trained Models**: MediaPipe Solutions are built on top of pre-trained TensorFlow or TFLite models. \n",
    "The performance of MediaPipe Solutions can be influenced by the complexity and size of the pre-trained models use. \r\n",
    "More complex models may require more computational resources, potentially impacting the overall performance of the solutio .\r\n",
    "It's important to consider the hardware capabilities of the target device and the specific requirements of your application when using MediaPipe Solutions."
   ]
  },
  {
   "cell_type": "markdown",
   "id": "536676e7-0aef-4f06-991d-653cb0b734b8",
   "metadata": {},
   "source": [
    "**Resource Utilization**: MediaPipe Solutions are designed to provide real-time output, which may require significant computational resources depending on the complexity of the solution and the available hardware. \n",
    "Depending on the device's capabilities, running MediaPipe Solutions with resource-intensive models may result in increased CPU or GPU usage, potentially affecting the overall performance of the application."
   ]
  },
  {
   "cell_type": "markdown",
   "id": "b944dd92-1f55-4f95-8748-02837c9ccb15",
   "metadata": {},
   "source": [
    "**Limited Control Over Pipeline**: MediaPipe Solutions provide a higher-level interface, abstracting the technical details of the MediaPipe Framework. \n",
    "While this simplifies the development process, it also means that developers have limited control over the internals of the pipelin. \r\n",
    "If fine-grained control or customization is required, building a custom pipeline with the MediaPipe Framework may be a better choice."
   ]
  },
  {
   "cell_type": "markdown",
   "id": "92b207cd-5367-43d0-805d-6728a7341808",
   "metadata": {},
   "source": [
    "## Components of MediaPipe"
   ]
  },
  {
   "cell_type": "markdown",
   "id": "bda7d9cd-4636-4b52-9c93-a625829ec746",
   "metadata": {},
   "source": [
    "MediaPipe Solutions offers the following components to assist the proper development of machine learning solutions for your unique use case."
   ]
  },
  {
   "cell_type": "markdown",
   "id": "fb7407b9-0f69-44eb-8a31-5923e4449611",
   "metadata": {},
   "source": [
    "**MediaPipe Tasks**: Low-code API to create and deploy advanced ML solutions across platforms."
   ]
  },
  {
   "cell_type": "markdown",
   "id": "92d9f952-7384-44d9-a40e-b2ca91f51d8f",
   "metadata": {},
   "source": [
    "**MediaPipe Model Maker**: Low-code API to customize solutions using your own data."
   ]
  },
  {
   "cell_type": "markdown",
   "id": "93e60e6e-ba41-4986-b1a0-ede6b98698b2",
   "metadata": {},
   "source": [
    "**MediaPipe Studio**: Visualize and benchmark solutions."
   ]
  },
  {
   "cell_type": "markdown",
   "id": "0a6eeac0-f50a-41b2-99b1-be566eb23758",
   "metadata": {},
   "source": [
    "## MediaPipe Tasks"
   ]
  },
  {
   "cell_type": "markdown",
   "id": "1275e007-a3bd-4bc3-a713-50e37e3ccdf9",
   "metadata": {},
   "source": [
    "MediaPipe Tasks is a component of the MediaPipe Solutions that provides the core programming interface of the MediaPipe Solutions suite for the deployment of your machine learning solutions in different platforms such as desktop/server, Android, iOS, and web platforms through APIs using Java, Python, and JavaScript."
   ]
  },
  {
   "cell_type": "markdown",
   "id": "7815cdbe-fb7a-4e3a-b8a6-3bf0a5cb0a34",
   "metadata": {},
   "source": [
    "They are pre-built examples and libraries that leverage the MediaPipe framework to simplify the development process for common use cases "
   ]
  },
  {
   "cell_type": "markdown",
   "id": "b0dfb2f2-076a-4ec3-9a77-a52b6d483384",
   "metadata": {},
   "source": [
    "Refer to the [official documentation](https://developers.google.com/mediapipe/solutions/tasks) for the specific implementation for each of the supported platforms of MediaPipe."
   ]
  },
  {
   "cell_type": "markdown",
   "id": "6b0ce885-b8e7-4c7f-a6cd-45d57e6213e3",
   "metadata": {},
   "source": [
    "For our case, the focus will be on the deployment of a desktop application written in Python to test our model, a hand recognition model using the gesture recognition use case of MediaPipe, which is to be developed later on."
   ]
  },
  {
   "cell_type": "markdown",
   "id": "191a04fa-bc2e-4d43-b7bd-4984b9bb668b",
   "metadata": {},
   "source": []
  },
  {
   "cell_type": "markdown",
   "id": "3f7e6b62-e067-4c94-8bfd-a881fc1615ea",
   "metadata": {},
   "source": []
  },
  {
   "cell_type": "markdown",
   "id": "7911bf85-155f-461a-9215-cb532b9ed1ca",
   "metadata": {},
   "source": []
  },
  {
   "cell_type": "code",
   "execution_count": null,
   "id": "4fc0fda0-7851-4ede-857b-02e0e879faac",
   "metadata": {},
   "outputs": [],
   "source": []
  }
 ],
 "metadata": {
  "kernelspec": {
   "display_name": "Python 3 (ipykernel)",
   "language": "python",
   "name": "python3"
  },
  "language_info": {
   "codemirror_mode": {
    "name": "ipython",
    "version": 3
   },
   "file_extension": ".py",
   "mimetype": "text/x-python",
   "name": "python",
   "nbconvert_exporter": "python",
   "pygments_lexer": "ipython3",
   "version": "3.11.4"
  }
 },
 "nbformat": 4,
 "nbformat_minor": 5
}
