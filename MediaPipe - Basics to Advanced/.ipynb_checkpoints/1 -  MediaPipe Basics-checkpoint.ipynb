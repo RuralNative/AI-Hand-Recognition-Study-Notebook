{
 "cells": [
  {
   "cell_type": "markdown",
   "id": "e7304096-09f1-479a-a7b5-6f268658690d",
   "metadata": {},
   "source": [
    "# MediaPipe Framework\n",
    "The **MediaPipe** framework is a framework developed by Google for buiding machine learning pipelines for processing time-series data such as videos, images, audio, and text. It is a cross-platform framework that can work in a *desktop/server*, *mobile phones*, *web applications*, and *embedded devices*. It is written in C++ but can be conveniently used in an abstract manner through the use of other languages, such as Python, Java, and JavaScript."
   ]
  },
  {
   "cell_type": "markdown",
   "id": "7838023a-e0cb-4da9-a69c-df4df51c7560",
   "metadata": {},
   "source": [
    "Note that this module I have built focuses on understanding the fundamentals concepts of the MediaPipe framework and related advanced concepts towards the application of it in a hand gesture recongition. Other applications of MediaPipe - such as image recognition, audio, and text processing - are not discussed here."
   ]
  },
  {
   "cell_type": "markdown",
   "id": "793ffb09-b96a-4878-b423-bdf636d57ab3",
   "metadata": {},
   "source": [
    "## Installation"
   ]
  },
  {
   "cell_type": "markdown",
   "id": "90b2a1c8-837b-434e-9f7d-fa651a598c90",
   "metadata": {},
   "source": [
    "Different operating systems have different processes of installation for MediaPipe frameworks. For personal convenience and to ensure that the information added here is up to date to future changes in the framework structure, do refer to the [official documentation](https://developers.google.com/mediapipe/framework/getting_started/install) for the installation guide."
   ]
  },
  {
   "cell_type": "markdown",
   "id": "2bf1490d-fe55-4ec0-8404-17e107ae9590",
   "metadata": {},
   "source": [
    "## Fundamental Concepts"
   ]
  },
  {
   "cell_type": "markdown",
   "id": "6df1a3bd-3b05-440f-9892-68c122ca6474",
   "metadata": {},
   "source": [
    "### Packets"
   ]
  },
  {
   "cell_type": "markdown",
   "id": "e8a32f84-92a1-4a5d-8bb3-026b467aba7d",
   "metadata": {},
   "source": [
    "**Packets** are the basic data flow units. It is a container storing a pointer/reference to an immutable/unchangeable data with a timestamp. Packets can be copied, yet each copy of the packets will have a different timestamp referring to when it was created."
   ]
  },
  {
   "cell_type": "markdown",
   "id": "cfd01f97-501e-44cf-87e2-741ac96868bc",
   "metadata": {},
   "source": [
    "The **timestamps** in packets is a crucial components as it ensures the following:\n",
    "* **Proper ordering of data**, especially in video and audio processing, where the order of how individual packets are processed is critical and mitigate problems caused by delayed arrival of packets due to network issues and others.\n",
    "* **Synchronization** purposes for processing multiple streams of data\n",
    "* **Performance monitoring** of the application by measuring how long each .packets are processed from other packets, providing necessary information to identify bottlenecks or performance issues."
   ]
  },
  {
   "cell_type": "markdown",
   "id": "16d89ca3-bd76-4b19-a59f-0a8d8ebb4fcc",
   "metadata": {},
   "source": [
    "The **immutability** of the data to which the packet's pointer/reference are pointing to is a crucial component as it ensures its integrity as the prevention of its modification will prevent inconsistencies and errors during the processing."
   ]
  },
  {
   "cell_type": "markdown",
   "id": "e0e3ed03-38a2-4ae7-8d44-3494c10fdae3",
   "metadata": {},
   "source": [
    "Refer to the [official documentation](https://developers.google.com/mediapipe/framework/framework_concepts/packets) for a more detailed information about this topic."
   ]
  },
  {
   "cell_type": "markdown",
   "id": "db384a60-39bf-4df0-aeea-ec5dedc0aaaf",
   "metadata": {},
   "source": [
    "### Nodes/Calculators"
   ]
  },
  {
   "cell_type": "markdown",
   "id": "26ad1a8f-f589-40db-b8a4-c1ae43895767",
   "metadata": {},
   "source": [
    "**Nodes**, also called as ***calculators*** due to historical reasons, are the building blocks of the graph. They are responsible for performing specific task or calculations to the data (packets)."
   ]
  },
  {
   "cell_type": "markdown",
   "id": "5bac0834-1220-48fd-992b-0913ee3bbbc9",
   "metadata": {},
   "source": [
    "Nodes produce and consumes packets to perform and accomplish their specific tasks/calculations, such as image and audio processing. Each of them has an interface that describes its **input/output ports**. These ports are like connection points where packets can enter and exit for the facilitation of the movement of packets throughout the graph."
   ]
  },
  {
   "cell_type": "markdown",
   "id": "18fbada7-5ddd-41f8-801e-ac54af746c51",
   "metadata": {},
   "source": [
    "Refer to the [official documentation](https://developers.google.com/mediapipe/framework/framework_concepts/calculators) for a more detailed information about this topic."
   ]
  },
  {
   "cell_type": "markdown",
   "id": "7c6af0ae-b822-4b98-b833-bd410f8b4241",
   "metadata": {},
   "source": [
    "### Graphs"
   ]
  },
  {
   "cell_type": "markdown",
   "id": "99d80278-2a6a-4703-b7a8-ea4360f4bba4",
   "metadata": {},
   "source": [
    "**Graphs** is the backbone of the MediaPipe framework and are a collection of nodes that are interconnected with each other through ***streams (edges)***, representing the flow of data and the sequence of operations to process such data. The graph defines the structure and behavior of the processing pipeline, guiding the flow of packets from one to another."
   ]
  },
  {
   "cell_type": "markdown",
   "id": "8ea31356-a992-4722-8b2b-1c0908d1d64a",
   "metadata": {},
   "source": [
    "A simple explanation to this is comparing a Graph to that of a recipe for a dish. It provides an explanation or description of how a task/output (dish) -  which is for this case, a MediaPipe pipeline classifying a hand gesture from an image - is achieved. The recipe (graph) will require a set of ingredients (packets) to be processed through unique cooking steps (nodes) that will use the ingredients and are connected to each other (streams) in an ordered manner to finally cook a delicious dish."
   ]
  },
  {
   "cell_type": "markdown",
   "id": "91c401b2-4e0e-4548-916b-e3c6622fe83c",
   "metadata": {},
   "source": [
    "Refer to the [official documentation](https://developers.google.com/mediapipe/framework/framework_concepts/graphs) for a more detailed information about this topic."
   ]
  },
  {
   "cell_type": "markdown",
   "id": "305c6c0d-c306-40c3-8a2c-89cd761ed7bf",
   "metadata": {},
   "source": []
  },
  {
   "cell_type": "markdown",
   "id": "3b505807-0e3e-48a5-9f5f-ace012ac5e21",
   "metadata": {},
   "source": []
  },
  {
   "cell_type": "markdown",
   "id": "4545c341-0ca4-40f2-9d07-32b3eb4b4045",
   "metadata": {},
   "source": []
  },
  {
   "cell_type": "code",
   "execution_count": null,
   "id": "a8763717-16a8-4338-9166-c990ef59b908",
   "metadata": {},
   "outputs": [],
   "source": []
  }
 ],
 "metadata": {
  "kernelspec": {
   "display_name": "Python 3 (ipykernel)",
   "language": "python",
   "name": "python3"
  },
  "language_info": {
   "codemirror_mode": {
    "name": "ipython",
    "version": 3
   },
   "file_extension": ".py",
   "mimetype": "text/x-python",
   "name": "python",
   "nbconvert_exporter": "python",
   "pygments_lexer": "ipython3",
   "version": "3.11.4"
  }
 },
 "nbformat": 4,
 "nbformat_minor": 5
}
