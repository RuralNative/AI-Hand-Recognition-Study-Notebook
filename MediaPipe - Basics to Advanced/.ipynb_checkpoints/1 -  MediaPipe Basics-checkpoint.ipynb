{
 "cells": [
  {
   "cell_type": "markdown",
   "id": "e7304096-09f1-479a-a7b5-6f268658690d",
   "metadata": {},
   "source": [
    "# MediaPipe Framework\n",
    "The **MediaPipe** framework is a framework developed by Google for buiding machine learning pipelines for processing time-series data such as videos, images, audio, and text. It is a cross-platform framework that can work in a *desktop/server*, *mobile phones*, *web applications*, and *embedded devices*."
   ]
  },
  {
   "cell_type": "markdown",
   "id": "7838023a-e0cb-4da9-a69c-df4df51c7560",
   "metadata": {},
   "source": [
    "Note that this module I have built focuses on understanding the fundamentals concepts of the MediaPipe framework and related advanced concepts towards the application of it in a hand gesture recongition. Other applications of MediaPipe - such as image recognition, audio, and text processing - are not discussed here."
   ]
  },
  {
   "cell_type": "markdown",
   "id": "793ffb09-b96a-4878-b423-bdf636d57ab3",
   "metadata": {},
   "source": [
    "## Installation"
   ]
  },
  {
   "cell_type": "markdown",
   "id": "90b2a1c8-837b-434e-9f7d-fa651a598c90",
   "metadata": {},
   "source": [
    "Different operating systems have different processes of installation for MediaPipe frameworks. For personal convenience and to ensure that the information added here is up to date to future changes in the framework structure, do refer to the [official documentation](https://developers.google.com/mediapipe/framework/getting_started/install) for the installation guide."
   ]
  },
  {
   "cell_type": "markdown",
   "id": "2bf1490d-fe55-4ec0-8404-17e107ae9590",
   "metadata": {},
   "source": []
  }
 ],
 "metadata": {
  "kernelspec": {
   "display_name": "Python 3 (ipykernel)",
   "language": "python",
   "name": "python3"
  },
  "language_info": {
   "codemirror_mode": {
    "name": "ipython",
    "version": 3
   },
   "file_extension": ".py",
   "mimetype": "text/x-python",
   "name": "python",
   "nbconvert_exporter": "python",
   "pygments_lexer": "ipython3",
   "version": "3.11.4"
  }
 },
 "nbformat": 4,
 "nbformat_minor": 5
}
