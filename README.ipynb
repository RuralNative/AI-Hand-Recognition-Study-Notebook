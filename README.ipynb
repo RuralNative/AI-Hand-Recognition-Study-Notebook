{
 "cells": [
  {
   "cell_type": "markdown",
   "id": "af189ee6-8fac-4b1e-b196-4396fd87b342",
   "metadata": {},
   "source": [
    "# AI Learning Notebooks from Basics to Practical Use (Hand Recognition)"
   ]
  },
  {
   "cell_type": "markdown",
   "id": "1fba4cc2-f231-4220-90ac-98598f43783d",
   "metadata": {},
   "source": [
    "## Why Made This"
   ]
  },
  {
   "cell_type": "markdown",
   "id": "406b8b7a-449e-460e-ba74-2d9587417ef0",
   "metadata": {},
   "source": [
    "Repository serving as an accessible learning material for Machine Learning and applying it in a real-world use case. It aims to guide people from the *(1)* **fundamentals of the machine learning and deep learning concepts**; *(2)* **understanding, building and training neural networks to output efficient mathematical models**; *(3)* **utilization of relevant Python learning libraries and frameworks**; and *(4)* **applying learned theories and practical knowledge towards building a hand sign recognition model**. "
   ]
  },
  {
   "cell_type": "markdown",
   "id": "48d3d241-0aa5-4b09-ba2f-071567dff4ad",
   "metadata": {},
   "source": []
  }
 ],
 "metadata": {
  "kernelspec": {
   "display_name": "Python 3 (ipykernel)",
   "language": "python",
   "name": "python3"
  },
  "language_info": {
   "codemirror_mode": {
    "name": "ipython",
    "version": 3
   },
   "file_extension": ".py",
   "mimetype": "text/x-python",
   "name": "python",
   "nbconvert_exporter": "python",
   "pygments_lexer": "ipython3",
   "version": "3.11.4"
  }
 },
 "nbformat": 4,
 "nbformat_minor": 5
}
