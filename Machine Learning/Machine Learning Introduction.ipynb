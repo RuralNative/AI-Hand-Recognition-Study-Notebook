{
 "cells": [
  {
   "cell_type": "markdown",
   "id": "a2106628",
   "metadata": {},
   "source": [
    "# FOUNDATIONS"
   ]
  },
  {
   "cell_type": "markdown",
   "id": "e36f6d07",
   "metadata": {},
   "source": [
    "## Machine Learning Lifecycle"
   ]
  },
  {
   "cell_type": "markdown",
   "id": "e772b6af",
   "metadata": {},
   "source": [
    "### Problem Formation and Understanding"
   ]
  },
  {
   "cell_type": "markdown",
   "id": "7c1aac7d",
   "metadata": {},
   "source": [
    "* Analyze whether machine learning is a probable solution with the given problem\n",
    "* Identify the inputs and outputs for the model\n",
    "* Identify the acceptable accuracy and prediction error you would tolerate from the model"
   ]
  },
  {
   "cell_type": "markdown",
   "id": "2e33c092",
   "metadata": {},
   "source": [
    "### Data Collection and Preparation"
   ]
  },
  {
   "cell_type": "markdown",
   "id": "d48df24e",
   "metadata": {},
   "source": [
    "* Identify the source of raw data you would need for the development of your machine learning model\n",
    "* Allocation of time and effort toward annotation and wrangling of raw data so it may be used for the process.\n",
    "* Allocation of time and effort towards labeling data, removing irrelevant features, tossing outliers, transform data, and inputting missing values."
   ]
  },
  {
   "cell_type": "markdown",
   "id": "51974c84",
   "metadata": {},
   "source": [
    "### Model Training and Testing"
   ]
  },
  {
   "cell_type": "markdown",
   "id": "5fd2a8e3",
   "metadata": {},
   "source": [
    "* Allocation of 80% development time towards the training of the model, 10% towards validation of the model, and 10% towards testing the model.\n",
    "* Identify the necessary machine learning algorithm appropriate for the problem.\n",
    "* Allocation of time and effort towards iteration and experimentation of the algorithm, fine tuning of the model, evaluation of the results, and place model for deployment."
   ]
  },
  {
   "cell_type": "markdown",
   "id": "b5a8e276",
   "metadata": {},
   "source": [
    "### Model Deployment and Maintenance"
   ]
  },
  {
   "cell_type": "markdown",
   "id": "0e5f0acc",
   "metadata": {},
   "source": [
    "## Identification of Pre-built Models"
   ]
  },
  {
   "cell_type": "markdown",
   "id": "b959f1bb",
   "metadata": {},
   "source": [
    "For the development of the training model for use in your problem, it is important to note that you have two (2) choices, which are either **to create a model from scratch** or **use pre-built models**"
   ]
  },
  {
   "cell_type": "markdown",
   "id": "04e4f728",
   "metadata": {},
   "source": [
    "**Use of pre-built models**"
   ]
  },
  {
   "cell_type": "markdown",
   "id": "b8faadf9",
   "metadata": {},
   "source": [
    "Uses pre-built models for use thereby increasing speed of development cycle and uses a similar benchmark dataset to your problem. For example, in image classification problems, a pre-built model can be used to solve your identical problem using transfer learning. This allows you to add your data on top of the pre-trained model, which in turn allows you train new models that inherits the learnings from the pre-built model."
   ]
  },
  {
   "cell_type": "markdown",
   "id": "8225610b",
   "metadata": {},
   "source": [
    "There are existing websites and organizations that allows you to acquire pre-built models either for a price or for free as long as it has Apache 2.0 license, such as **AWS Marketplace**, **ModelZoo** and **Huggingface**"
   ]
  },
  {
   "cell_type": "markdown",
   "id": "74218fcc",
   "metadata": {},
   "source": [
    "## Machine Learning Model Training Tools"
   ]
  },
  {
   "cell_type": "markdown",
   "id": "9e3782da",
   "metadata": {},
   "source": [
    "If no pre-built models exist for the use as solution for our problem, you can choose the option to build your own customized model from scratch. Upon collection of the required dataset for the training of the model, it is important that before you start, you have the necessary hardware that can support computationally intensive processes required for training. This often means that generic laptops and computers will not be able to handle the load necessary to train your model. "
   ]
  },
  {
   "cell_type": "markdown",
   "id": "55a41a9b",
   "metadata": {},
   "source": [
    "To solve this, you can choose the option of acquiring the GPU power of cloud services such as **Amazon Web Services** and **Google Colabs** "
   ]
  },
  {
   "cell_type": "markdown",
   "id": "47431da5",
   "metadata": {},
   "source": [
    "For the development of your own customized model using Python using the Jupyter Notebook IDE. Necessary libraries that we can use for the development process are the following:"
   ]
  },
  {
   "cell_type": "markdown",
   "id": "2e97e284",
   "metadata": {},
   "source": [
    "**Pandas and NumPy libraries** for the access and modification of solid state data structures, n-dimensional matrices, and perform exploratory data analysis, and allows you to read CSV, JSON, and TSV data files."
   ]
  },
  {
   "cell_type": "markdown",
   "id": "2cd30376",
   "metadata": {},
   "source": [
    "**Matplotllib and Seaborn libraries** – for the data visualization phase requiring the plotting of charts and graphs."
   ]
  },
  {
   "cell_type": "markdown",
   "id": "89023dd0",
   "metadata": {},
   "source": [
    "**Scikit-learn, TensorFlow, MXNext, PyTorch,** and **Keras** framework libraries for the actual training of the model."
   ]
  }
 ],
 "metadata": {
  "kernelspec": {
   "display_name": "Python 3 (ipykernel)",
   "language": "python",
   "name": "python3"
  },
  "language_info": {
   "codemirror_mode": {
    "name": "ipython",
    "version": 3
   },
   "file_extension": ".py",
   "mimetype": "text/x-python",
   "name": "python",
   "nbconvert_exporter": "python",
   "pygments_lexer": "ipython3",
   "version": "3.11.4"
  }
 },
 "nbformat": 4,
 "nbformat_minor": 5
}
