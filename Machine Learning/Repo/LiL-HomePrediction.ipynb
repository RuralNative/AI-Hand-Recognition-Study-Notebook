{
 "cells": [
  {
   "cell_type": "markdown",
   "id": "ab430c70-f5df-476f-a593-167b6652c45c",
   "metadata": {},
   "source": [
    "# Predict the Cost of Homes in California Using Numpy + Pandas in Jupyter"
   ]
  },
  {
   "cell_type": "markdown",
   "id": "9b7b4b61-5503-4727-af4b-72153f2301c9",
   "metadata": {},
   "source": [
    "This notebook trains a machine learning model that predicts home costs in California.\n",
    "\n",
    "The overall objective is to predict the value of home prices using **9 feature variables and 1 target variable:** \n",
    "\n",
    "#### **Feature Variables** ####\n",
    "\n",
    "1.  **longitude:** A measure of how far west a house is (a higher value is farther west)\n",
    "2.  **latitude:** A measure of how far north a house is (a higher value is farther north)\n",
    "3.  **housingMedianAge:** Median age of a house within a block (a lower number is a newer building)\n",
    "4.  **totalRooms:** Total number of rooms within a block\n",
    "5.  **totalBedrooms:** Total number of bedrooms within a block\n",
    "6.  **population:** Total number of people residing within a block\n",
    "7.  **households:** Total number of households, a group of people residing within a home unit, for a block\n",
    "8.  **medianIncome:** Median income for households within a block of houses (measured in tens of thousands of US Dollars)\n",
    "9.  **oceanProximity:** Location of the house in proximity to the ocean\n",
    "\n",
    "#### **Target Variable** ####\n",
    "1.  **medianHouseValue:** Median house value for households within a block (measured in US Dollars)"
   ]
  },
  {
   "cell_type": "markdown",
   "id": "f64a0504-dce2-43fd-bcff-424b66396066",
   "metadata": {},
   "source": [
    "## Background"
   ]
  },
  {
   "cell_type": "markdown",
   "id": "aa8d65be-bbbc-4596-91ff-7a8f1031f143",
   "metadata": {},
   "source": [
    "## Scikit-learn\n",
    "\n",
    "Scikit-learn is a machine learning library for the Python programming language. It features various classification, regression and clustering learning algorithms. \n",
    "\n",
    "## Dependencies\n",
    "\n",
    "- pandas - To work with solid data-structures, n-dimensional matrices and perform exploratory data analysis.\n",
    "- matplotlib - To visualize data using 2D plots.\n",
    "- seaborn - To make 2D plots look pretty and readable.\n",
    "- scikit-learn - To create machine learning models easily and make predictions.\n",
    "- numpy - To work with arrays."
   ]
  },
  {
   "cell_type": "markdown",
   "id": "ad6f3574-f270-4be7-af64-35dce51c8d58",
   "metadata": {},
   "source": [
    "**A few things to note:**\n",
    "\n",
    "- You'll need to install the various libraries before importing them ```(i.e. %pip install pandas)```\n",
    "- You may need to restart the kernel to use updated packages."
   ]
  },
  {
   "cell_type": "markdown",
   "id": "63d53467-01c6-460b-89bb-465b90073944",
   "metadata": {},
   "source": [
    "# Obtain & Load Data"
   ]
  },
  {
   "cell_type": "code",
   "execution_count": 1,
   "id": "19d52d8a-e1f9-4bdc-b809-a4664e224528",
   "metadata": {},
   "outputs": [],
   "source": [
    "import pandas as pd\n",
    "import seaborn as sns \n",
    "\n",
    "import matplotlib.pyplot as plt\n",
    "%matplotlib inline\n",
    "\n",
    "import numpy as np"
   ]
  },
  {
   "cell_type": "code",
   "execution_count": 2,
   "id": "a3453354-a698-44a5-9059-e2e409bea7d2",
   "metadata": {},
   "outputs": [
    {
     "name": "stdout",
     "output_type": "stream",
     "text": [
      "<class 'pandas.core.frame.DataFrame'>\n",
      "RangeIndex: 20640 entries, 0 to 20639\n",
      "Data columns (total 10 columns):\n",
      " #   Column              Non-Null Count  Dtype  \n",
      "---  ------              --------------  -----  \n",
      " 0   longitude           20640 non-null  float64\n",
      " 1   latitude            20640 non-null  float64\n",
      " 2   housing_median_age  20640 non-null  float64\n",
      " 3   total_rooms         20640 non-null  float64\n",
      " 4   total_bedrooms      20433 non-null  float64\n",
      " 5   population          20640 non-null  float64\n",
      " 6   households          20640 non-null  float64\n",
      " 7   median_income       20640 non-null  float64\n",
      " 8   median_house_value  20640 non-null  float64\n",
      " 9   ocean_proximity     20640 non-null  object \n",
      "dtypes: float64(9), object(1)\n",
      "memory usage: 1.6+ MB\n"
     ]
    }
   ],
   "source": [
    "# Read in the data with read_csv() into a Pandas Dataframe\n",
    "housing_df = pd.read_csv('housing.csv')\n",
    "\n",
    "# Use .info() to show the features (i.e. columns) in your dataset along with a count and datatype\n",
    "housing_df.info()"
   ]
  },
  {
   "cell_type": "code",
   "execution_count": 3,
   "id": "33a2e4b4-a6a3-493f-948e-516fe84e2462",
   "metadata": {},
   "outputs": [
    {
     "data": {
      "text/plain": [
       "(20640, 10)"
      ]
     },
     "execution_count": 3,
     "metadata": {},
     "output_type": "execute_result"
    }
   ],
   "source": [
    "# Use .shape to understand how many observations (ie rows/records) of the dataset\n",
    "# The shape of a DataFrame is a tuple of array dimensions that tells the number of rows and columns of a given DataFrame.\n",
    "# (row count, column count)\n",
    "housing_df.shape"
   ]
  },
  {
   "cell_type": "code",
   "execution_count": 4,
   "id": "27bd7e20-ddaf-4f24-bc72-fa3abcaf1a03",
   "metadata": {},
   "outputs": [
    {
     "data": {
      "text/html": [
       "<div>\n",
       "<style scoped>\n",
       "    .dataframe tbody tr th:only-of-type {\n",
       "        vertical-align: middle;\n",
       "    }\n",
       "\n",
       "    .dataframe tbody tr th {\n",
       "        vertical-align: top;\n",
       "    }\n",
       "\n",
       "    .dataframe thead th {\n",
       "        text-align: right;\n",
       "    }\n",
       "</style>\n",
       "<table border=\"1\" class=\"dataframe\">\n",
       "  <thead>\n",
       "    <tr style=\"text-align: right;\">\n",
       "      <th></th>\n",
       "      <th>longitude</th>\n",
       "      <th>latitude</th>\n",
       "      <th>housing_median_age</th>\n",
       "      <th>total_rooms</th>\n",
       "      <th>total_bedrooms</th>\n",
       "      <th>population</th>\n",
       "      <th>households</th>\n",
       "      <th>median_income</th>\n",
       "      <th>median_house_value</th>\n",
       "      <th>ocean_proximity</th>\n",
       "    </tr>\n",
       "  </thead>\n",
       "  <tbody>\n",
       "    <tr>\n",
       "      <th>0</th>\n",
       "      <td>-122.23</td>\n",
       "      <td>37.88</td>\n",
       "      <td>41.0</td>\n",
       "      <td>880.0</td>\n",
       "      <td>129.0</td>\n",
       "      <td>322.0</td>\n",
       "      <td>126.0</td>\n",
       "      <td>8.3252</td>\n",
       "      <td>452600.0</td>\n",
       "      <td>NEAR BAY</td>\n",
       "    </tr>\n",
       "    <tr>\n",
       "      <th>1</th>\n",
       "      <td>-122.22</td>\n",
       "      <td>37.86</td>\n",
       "      <td>21.0</td>\n",
       "      <td>7099.0</td>\n",
       "      <td>1106.0</td>\n",
       "      <td>2401.0</td>\n",
       "      <td>1138.0</td>\n",
       "      <td>8.3014</td>\n",
       "      <td>358500.0</td>\n",
       "      <td>NEAR BAY</td>\n",
       "    </tr>\n",
       "    <tr>\n",
       "      <th>2</th>\n",
       "      <td>-122.24</td>\n",
       "      <td>37.85</td>\n",
       "      <td>52.0</td>\n",
       "      <td>1467.0</td>\n",
       "      <td>190.0</td>\n",
       "      <td>496.0</td>\n",
       "      <td>177.0</td>\n",
       "      <td>7.2574</td>\n",
       "      <td>352100.0</td>\n",
       "      <td>NEAR BAY</td>\n",
       "    </tr>\n",
       "    <tr>\n",
       "      <th>3</th>\n",
       "      <td>-122.25</td>\n",
       "      <td>37.85</td>\n",
       "      <td>52.0</td>\n",
       "      <td>1274.0</td>\n",
       "      <td>235.0</td>\n",
       "      <td>558.0</td>\n",
       "      <td>219.0</td>\n",
       "      <td>5.6431</td>\n",
       "      <td>341300.0</td>\n",
       "      <td>NEAR BAY</td>\n",
       "    </tr>\n",
       "    <tr>\n",
       "      <th>4</th>\n",
       "      <td>-122.25</td>\n",
       "      <td>37.85</td>\n",
       "      <td>52.0</td>\n",
       "      <td>1627.0</td>\n",
       "      <td>280.0</td>\n",
       "      <td>565.0</td>\n",
       "      <td>259.0</td>\n",
       "      <td>3.8462</td>\n",
       "      <td>342200.0</td>\n",
       "      <td>NEAR BAY</td>\n",
       "    </tr>\n",
       "  </tbody>\n",
       "</table>\n",
       "</div>"
      ],
      "text/plain": [
       "   longitude  latitude  housing_median_age  total_rooms  total_bedrooms  \\\n",
       "0    -122.23     37.88                41.0        880.0           129.0   \n",
       "1    -122.22     37.86                21.0       7099.0          1106.0   \n",
       "2    -122.24     37.85                52.0       1467.0           190.0   \n",
       "3    -122.25     37.85                52.0       1274.0           235.0   \n",
       "4    -122.25     37.85                52.0       1627.0           280.0   \n",
       "\n",
       "   population  households  median_income  median_house_value ocean_proximity  \n",
       "0       322.0       126.0         8.3252            452600.0        NEAR BAY  \n",
       "1      2401.0      1138.0         8.3014            358500.0        NEAR BAY  \n",
       "2       496.0       177.0         7.2574            352100.0        NEAR BAY  \n",
       "3       558.0       219.0         5.6431            341300.0        NEAR BAY  \n",
       "4       565.0       259.0         3.8462            342200.0        NEAR BAY  "
      ]
     },
     "execution_count": 4,
     "metadata": {},
     "output_type": "execute_result"
    }
   ],
   "source": [
    "# Using .head() function to view the first few observations (i.e. rows/records) of the dataset \n",
    "housing_df.head()"
   ]
  },
  {
   "cell_type": "code",
   "execution_count": 5,
   "id": "5940a3d5-7356-498b-95d4-6b7d4873216f",
   "metadata": {},
   "outputs": [
    {
     "data": {
      "text/html": [
       "<div>\n",
       "<style scoped>\n",
       "    .dataframe tbody tr th:only-of-type {\n",
       "        vertical-align: middle;\n",
       "    }\n",
       "\n",
       "    .dataframe tbody tr th {\n",
       "        vertical-align: top;\n",
       "    }\n",
       "\n",
       "    .dataframe thead th {\n",
       "        text-align: right;\n",
       "    }\n",
       "</style>\n",
       "<table border=\"1\" class=\"dataframe\">\n",
       "  <thead>\n",
       "    <tr style=\"text-align: right;\">\n",
       "      <th></th>\n",
       "      <th>longitude</th>\n",
       "      <th>latitude</th>\n",
       "      <th>housing_median_age</th>\n",
       "      <th>total_rooms</th>\n",
       "      <th>total_bedrooms</th>\n",
       "      <th>population</th>\n",
       "      <th>households</th>\n",
       "      <th>median_income</th>\n",
       "      <th>median_house_value</th>\n",
       "      <th>ocean_proximity</th>\n",
       "    </tr>\n",
       "  </thead>\n",
       "  <tbody>\n",
       "    <tr>\n",
       "      <th>20635</th>\n",
       "      <td>-121.09</td>\n",
       "      <td>39.48</td>\n",
       "      <td>25.0</td>\n",
       "      <td>1665.0</td>\n",
       "      <td>374.0</td>\n",
       "      <td>845.0</td>\n",
       "      <td>330.0</td>\n",
       "      <td>1.5603</td>\n",
       "      <td>78100.0</td>\n",
       "      <td>INLAND</td>\n",
       "    </tr>\n",
       "    <tr>\n",
       "      <th>20636</th>\n",
       "      <td>-121.21</td>\n",
       "      <td>39.49</td>\n",
       "      <td>18.0</td>\n",
       "      <td>697.0</td>\n",
       "      <td>150.0</td>\n",
       "      <td>356.0</td>\n",
       "      <td>114.0</td>\n",
       "      <td>2.5568</td>\n",
       "      <td>77100.0</td>\n",
       "      <td>INLAND</td>\n",
       "    </tr>\n",
       "    <tr>\n",
       "      <th>20637</th>\n",
       "      <td>-121.22</td>\n",
       "      <td>39.43</td>\n",
       "      <td>17.0</td>\n",
       "      <td>2254.0</td>\n",
       "      <td>485.0</td>\n",
       "      <td>1007.0</td>\n",
       "      <td>433.0</td>\n",
       "      <td>1.7000</td>\n",
       "      <td>92300.0</td>\n",
       "      <td>INLAND</td>\n",
       "    </tr>\n",
       "    <tr>\n",
       "      <th>20638</th>\n",
       "      <td>-121.32</td>\n",
       "      <td>39.43</td>\n",
       "      <td>18.0</td>\n",
       "      <td>1860.0</td>\n",
       "      <td>409.0</td>\n",
       "      <td>741.0</td>\n",
       "      <td>349.0</td>\n",
       "      <td>1.8672</td>\n",
       "      <td>84700.0</td>\n",
       "      <td>INLAND</td>\n",
       "    </tr>\n",
       "    <tr>\n",
       "      <th>20639</th>\n",
       "      <td>-121.24</td>\n",
       "      <td>39.37</td>\n",
       "      <td>16.0</td>\n",
       "      <td>2785.0</td>\n",
       "      <td>616.0</td>\n",
       "      <td>1387.0</td>\n",
       "      <td>530.0</td>\n",
       "      <td>2.3886</td>\n",
       "      <td>89400.0</td>\n",
       "      <td>INLAND</td>\n",
       "    </tr>\n",
       "  </tbody>\n",
       "</table>\n",
       "</div>"
      ],
      "text/plain": [
       "       longitude  latitude  housing_median_age  total_rooms  total_bedrooms  \\\n",
       "20635    -121.09     39.48                25.0       1665.0           374.0   \n",
       "20636    -121.21     39.49                18.0        697.0           150.0   \n",
       "20637    -121.22     39.43                17.0       2254.0           485.0   \n",
       "20638    -121.32     39.43                18.0       1860.0           409.0   \n",
       "20639    -121.24     39.37                16.0       2785.0           616.0   \n",
       "\n",
       "       population  households  median_income  median_house_value  \\\n",
       "20635       845.0       330.0         1.5603             78100.0   \n",
       "20636       356.0       114.0         2.5568             77100.0   \n",
       "20637      1007.0       433.0         1.7000             92300.0   \n",
       "20638       741.0       349.0         1.8672             84700.0   \n",
       "20639      1387.0       530.0         2.3886             89400.0   \n",
       "\n",
       "      ocean_proximity  \n",
       "20635          INLAND  \n",
       "20636          INLAND  \n",
       "20637          INLAND  \n",
       "20638          INLAND  \n",
       "20639          INLAND  "
      ]
     },
     "execution_count": 5,
     "metadata": {},
     "output_type": "execute_result"
    }
   ],
   "source": [
    "# Using .tail() function to view the last few observations (i.e. records) of the dataset \n",
    "housing_df.tail()"
   ]
  },
  {
   "cell_type": "code",
   "execution_count": 6,
   "id": "c24ac416-9b05-4ae5-89b2-3b51d42c21f3",
   "metadata": {},
   "outputs": [
    {
     "data": {
      "text/html": [
       "<div>\n",
       "<style scoped>\n",
       "    .dataframe tbody tr th:only-of-type {\n",
       "        vertical-align: middle;\n",
       "    }\n",
       "\n",
       "    .dataframe tbody tr th {\n",
       "        vertical-align: top;\n",
       "    }\n",
       "\n",
       "    .dataframe thead th {\n",
       "        text-align: right;\n",
       "    }\n",
       "</style>\n",
       "<table border=\"1\" class=\"dataframe\">\n",
       "  <thead>\n",
       "    <tr style=\"text-align: right;\">\n",
       "      <th></th>\n",
       "      <th>longitude</th>\n",
       "      <th>latitude</th>\n",
       "      <th>housing_median_age</th>\n",
       "      <th>total_rooms</th>\n",
       "      <th>total_bedrooms</th>\n",
       "      <th>population</th>\n",
       "      <th>households</th>\n",
       "      <th>median_income</th>\n",
       "      <th>median_house_value</th>\n",
       "    </tr>\n",
       "  </thead>\n",
       "  <tbody>\n",
       "    <tr>\n",
       "      <th>count</th>\n",
       "      <td>20640.000000</td>\n",
       "      <td>20640.000000</td>\n",
       "      <td>20640.000000</td>\n",
       "      <td>20640.000000</td>\n",
       "      <td>20433.000000</td>\n",
       "      <td>20640.000000</td>\n",
       "      <td>20640.000000</td>\n",
       "      <td>20640.000000</td>\n",
       "      <td>20640.000000</td>\n",
       "    </tr>\n",
       "    <tr>\n",
       "      <th>mean</th>\n",
       "      <td>-119.569704</td>\n",
       "      <td>35.631861</td>\n",
       "      <td>28.639486</td>\n",
       "      <td>2635.763081</td>\n",
       "      <td>537.870553</td>\n",
       "      <td>1425.476744</td>\n",
       "      <td>499.539680</td>\n",
       "      <td>3.870671</td>\n",
       "      <td>206855.816909</td>\n",
       "    </tr>\n",
       "    <tr>\n",
       "      <th>std</th>\n",
       "      <td>2.003532</td>\n",
       "      <td>2.135952</td>\n",
       "      <td>12.585558</td>\n",
       "      <td>2181.615252</td>\n",
       "      <td>421.385070</td>\n",
       "      <td>1132.462122</td>\n",
       "      <td>382.329753</td>\n",
       "      <td>1.899822</td>\n",
       "      <td>115395.615874</td>\n",
       "    </tr>\n",
       "    <tr>\n",
       "      <th>min</th>\n",
       "      <td>-124.350000</td>\n",
       "      <td>32.540000</td>\n",
       "      <td>1.000000</td>\n",
       "      <td>2.000000</td>\n",
       "      <td>1.000000</td>\n",
       "      <td>3.000000</td>\n",
       "      <td>1.000000</td>\n",
       "      <td>0.499900</td>\n",
       "      <td>14999.000000</td>\n",
       "    </tr>\n",
       "    <tr>\n",
       "      <th>25%</th>\n",
       "      <td>-121.800000</td>\n",
       "      <td>33.930000</td>\n",
       "      <td>18.000000</td>\n",
       "      <td>1447.750000</td>\n",
       "      <td>296.000000</td>\n",
       "      <td>787.000000</td>\n",
       "      <td>280.000000</td>\n",
       "      <td>2.563400</td>\n",
       "      <td>119600.000000</td>\n",
       "    </tr>\n",
       "    <tr>\n",
       "      <th>50%</th>\n",
       "      <td>-118.490000</td>\n",
       "      <td>34.260000</td>\n",
       "      <td>29.000000</td>\n",
       "      <td>2127.000000</td>\n",
       "      <td>435.000000</td>\n",
       "      <td>1166.000000</td>\n",
       "      <td>409.000000</td>\n",
       "      <td>3.534800</td>\n",
       "      <td>179700.000000</td>\n",
       "    </tr>\n",
       "    <tr>\n",
       "      <th>75%</th>\n",
       "      <td>-118.010000</td>\n",
       "      <td>37.710000</td>\n",
       "      <td>37.000000</td>\n",
       "      <td>3148.000000</td>\n",
       "      <td>647.000000</td>\n",
       "      <td>1725.000000</td>\n",
       "      <td>605.000000</td>\n",
       "      <td>4.743250</td>\n",
       "      <td>264725.000000</td>\n",
       "    </tr>\n",
       "    <tr>\n",
       "      <th>max</th>\n",
       "      <td>-114.310000</td>\n",
       "      <td>41.950000</td>\n",
       "      <td>52.000000</td>\n",
       "      <td>39320.000000</td>\n",
       "      <td>6445.000000</td>\n",
       "      <td>35682.000000</td>\n",
       "      <td>6082.000000</td>\n",
       "      <td>15.000100</td>\n",
       "      <td>500001.000000</td>\n",
       "    </tr>\n",
       "  </tbody>\n",
       "</table>\n",
       "</div>"
      ],
      "text/plain": [
       "          longitude      latitude  housing_median_age   total_rooms  \\\n",
       "count  20640.000000  20640.000000        20640.000000  20640.000000   \n",
       "mean    -119.569704     35.631861           28.639486   2635.763081   \n",
       "std        2.003532      2.135952           12.585558   2181.615252   \n",
       "min     -124.350000     32.540000            1.000000      2.000000   \n",
       "25%     -121.800000     33.930000           18.000000   1447.750000   \n",
       "50%     -118.490000     34.260000           29.000000   2127.000000   \n",
       "75%     -118.010000     37.710000           37.000000   3148.000000   \n",
       "max     -114.310000     41.950000           52.000000  39320.000000   \n",
       "\n",
       "       total_bedrooms    population    households  median_income  \\\n",
       "count    20433.000000  20640.000000  20640.000000   20640.000000   \n",
       "mean       537.870553   1425.476744    499.539680       3.870671   \n",
       "std        421.385070   1132.462122    382.329753       1.899822   \n",
       "min          1.000000      3.000000      1.000000       0.499900   \n",
       "25%        296.000000    787.000000    280.000000       2.563400   \n",
       "50%        435.000000   1166.000000    409.000000       3.534800   \n",
       "75%        647.000000   1725.000000    605.000000       4.743250   \n",
       "max       6445.000000  35682.000000   6082.000000      15.000100   \n",
       "\n",
       "       median_house_value  \n",
       "count        20640.000000  \n",
       "mean        206855.816909  \n",
       "std         115395.615874  \n",
       "min          14999.000000  \n",
       "25%         119600.000000  \n",
       "50%         179700.000000  \n",
       "75%         264725.000000  \n",
       "max         500001.000000  "
      ]
     },
     "execution_count": 6,
     "metadata": {},
     "output_type": "execute_result"
    }
   ],
   "source": [
    "# Use .describe() to see metrics about the dataset (count, mean, std, min, 25%, 50%, 75%, max)\n",
    "# Count is the count of non-null observations (i.e. rows)\n",
    "# Mean is the average of values for the given column\n",
    "# Std is standard deviation - how far off from the mean the values are\n",
    "# Min is the minimum amount of the value\n",
    "# 25% is the 25th percentile \n",
    "# 50% is the 50th percentile\n",
    "# 75% is the 75th percentile\n",
    "# max is the maximum amount of the value\n",
    "housing_df.describe()"
   ]
  },
  {
   "cell_type": "markdown",
   "id": "3bda11c2-53cc-43df-bbe5-ce2f8a6317fb",
   "metadata": {},
   "source": [
    "# Prepare & Preprocess Data"
   ]
  },
  {
   "cell_type": "markdown",
   "id": "cad16fb8-f682-422f-b352-fe36073ad10d",
   "metadata": {},
   "source": [
    "### Understand missing data that could skew the model"
   ]
  },
  {
   "cell_type": "code",
   "execution_count": 7,
   "id": "70f8e8c1-e2dd-4935-a182-51699db1602a",
   "metadata": {},
   "outputs": [
    {
     "data": {
      "text/plain": [
       "longitude               0\n",
       "latitude                0\n",
       "housing_median_age      0\n",
       "total_rooms             0\n",
       "total_bedrooms        207\n",
       "population              0\n",
       "households              0\n",
       "median_income           0\n",
       "median_house_value      0\n",
       "ocean_proximity         0\n",
       "dtype: int64"
      ]
     },
     "execution_count": 7,
     "metadata": {},
     "output_type": "execute_result"
    }
   ],
   "source": [
    "# Verify which features have missing values\n",
    "housing_df.isnull().sum()"
   ]
  },
  {
   "cell_type": "code",
   "execution_count": 8,
   "id": "f9d4bac9-f30f-4e54-8ac5-97df8ba8355b",
   "metadata": {},
   "outputs": [
    {
     "data": {
      "text/plain": [
       "1.002906976744186"
      ]
     },
     "execution_count": 8,
     "metadata": {},
     "output_type": "execute_result"
    }
   ],
   "source": [
    "# Calculate the % of missing data\n",
    "housing_df['total_bedrooms'].isnull().sum()/housing_df.shape[0] * 100"
   ]
  },
  {
   "cell_type": "markdown",
   "id": "9e1f4a76-514f-4e6b-a5c4-7a8a7f173738",
   "metadata": {},
   "source": [
    "### Use imputation to handle missing data"
   ]
  },
  {
   "cell_type": "code",
   "execution_count": 9,
   "id": "1272f885-3e7e-4e86-961a-c95152a5df7a",
   "metadata": {},
   "outputs": [
    {
     "name": "stdout",
     "output_type": "stream",
     "text": [
      "['longitude', 'latitude', 'housing_median_age', 'total_rooms', 'total_bedrooms', 'population', 'households', 'median_income', 'median_house_value']\n",
      "['total_bedrooms']\n",
      "       total_bedrooms\n",
      "0               129.0\n",
      "1              1106.0\n",
      "2               190.0\n",
      "3               235.0\n",
      "4               280.0\n",
      "...               ...\n",
      "20635           374.0\n",
      "20636           150.0\n",
      "20637           485.0\n",
      "20638           409.0\n",
      "20639           616.0\n",
      "\n",
      "[20640 rows x 1 columns]\n"
     ]
    }
   ],
   "source": [
    "from sklearn.impute import KNNImputer\n",
    "\n",
    "# create a temporary copy of the dataset\n",
    "housing_df_temp = housing_df.copy()\n",
    "\n",
    "# retrieve columns with numerical data; will exclude the ocean_proximity column since the datatype is object; other columns are float64\n",
    "columns_list = [col for col in housing_df_temp.columns if housing_df_temp[col].dtype != 'object']\n",
    "print(columns_list)\n",
    "\n",
    "# extract columns that contain at least one missing value\n",
    "new_column_list = [col for col in housing_df_temp.loc[:, housing_df_temp.isnull().any()]]\n",
    "print(new_column_list)\n",
    "\n",
    "# update temp dataframe with numeric columns that have empty values\n",
    "housing_df_temp = housing_df_temp[new_column_list]\n",
    "print(housing_df_temp)"
   ]
  },
  {
   "cell_type": "markdown",
   "id": "fd13d34f-4e41-4503-ad52-434da406e465",
   "metadata": {},
   "source": [
    "### Impute missing data using machine learning"
   ]
  },
  {
   "cell_type": "code",
   "execution_count": 10,
   "id": "aa1639dd-86e4-4f99-9cb9-f3f0bb70f6cb",
   "metadata": {},
   "outputs": [],
   "source": [
    "# initialize KNNImputer to impute missing data using machine learning\n",
    "knn = KNNImputer(n_neighbors = 3)\n",
    "\n",
    "# fit function trains the model \n",
    "knn.fit(housing_df_temp)\n",
    "\n",
    "# transform the data using the model\n",
    "# applies the transformation model (ie knn) to data\n",
    "array_Values = knn.transform(housing_df_temp)\n",
    "\n",
    "# convert the array values to a dataframe with the appropriate column names\n",
    "housing_df_temp = pd.DataFrame(array_Values, columns = new_column_list)"
   ]
  },
  {
   "cell_type": "code",
   "execution_count": 11,
   "id": "1085f8cf-e223-4c29-b2aa-668cfaa2ab4e",
   "metadata": {},
   "outputs": [
    {
     "data": {
      "text/plain": [
       "total_bedrooms    0\n",
       "dtype: int64"
      ]
     },
     "execution_count": 11,
     "metadata": {},
     "output_type": "execute_result"
    }
   ],
   "source": [
    "# confirm there are no columns with missing values\n",
    "housing_df_temp.isnull().sum()"
   ]
  },
  {
   "cell_type": "code",
   "execution_count": 12,
   "id": "564ace1f-133e-41db-8836-8b845b95952c",
   "metadata": {},
   "outputs": [
    {
     "data": {
      "text/plain": [
       "longitude             0\n",
       "latitude              0\n",
       "housing_median_age    0\n",
       "total_rooms           0\n",
       "total_bedrooms        0\n",
       "population            0\n",
       "households            0\n",
       "median_income         0\n",
       "median_house_value    0\n",
       "ocean_proximity       0\n",
       "dtype: int64"
      ]
     },
     "execution_count": 12,
     "metadata": {},
     "output_type": "execute_result"
    }
   ],
   "source": [
    "# overlay the imputed column over the old column with missing values\n",
    "\n",
    "# loop through the list of columns and overlay each one\n",
    "for column_name in new_column_list:\n",
    "    housing_df[column_name] = housing_df_temp.replace(housing_df[column_name],housing_df[column_name])\n",
    "\n",
    "# confirm columns no longer contain null data\n",
    "housing_df.isnull().sum()"
   ]
  },
  {
   "cell_type": "markdown",
   "id": "174efa66-67ff-49aa-ac71-952384605392",
   "metadata": {},
   "source": [
    "## Use visualizations to understand the relationship of the target variable with other features"
   ]
  },
  {
   "cell_type": "markdown",
   "id": "d2e9be11-9745-481a-b5bb-eab30d327edb",
   "metadata": {},
   "source": [
    "#### Histograms"
   ]
  },
  {
   "cell_type": "code",
   "execution_count": 13,
   "id": "74ce420d-9933-4faa-b3ae-3ff99f527b28",
   "metadata": {},
   "outputs": [
    {
     "data": {
      "text/plain": [
       "Text(0.5, 0, 'House Values')"
      ]
     },
     "execution_count": 13,
     "metadata": {},
     "output_type": "execute_result"
    },
    {
     "data": {
      "image/png": "[encoded data removed]",
      "text/plain": [
       "<Figure size 640x480 with 1 Axes>"
      ]
     },
     "metadata": {},
     "output_type": "display_data"
    }
   ],
   "source": [
    "# Plot the distribution of the target variable (median_house_value) using a histogram\n",
    "\n",
    "# bins->amount of columns\n",
    "plt.hist(housing_df['median_house_value'], bins=80)\n",
    "plt.xlabel(\"House Values\")\n",
    "\n",
    "\n",
    "# We can see from the plot that the values of Median House Value are distributed normally with few outliers. \n",
    "# Most of the house are around 100,000-200,000 range"
   ]
  },
  {
   "cell_type": "code",
   "execution_count": 14,
   "id": "af1bc3b7-9d15-46ac-a796-c0c1275a8b17",
   "metadata": {},
   "outputs": [
    {
     "data": {
      "text/plain": [
       "array([[<Axes: title={'center': 'longitude'}>,\n",
       "        <Axes: title={'center': 'latitude'}>,\n",
       "        <Axes: title={'center': 'housing_median_age'}>],\n",
       "       [<Axes: title={'center': 'total_rooms'}>,\n",
       "        <Axes: title={'center': 'total_bedrooms'}>,\n",
       "        <Axes: title={'center': 'population'}>],\n",
       "       [<Axes: title={'center': 'households'}>,\n",
       "        <Axes: title={'center': 'median_income'}>,\n",
       "        <Axes: title={'center': 'median_house_value'}>]], dtype=object)"
      ]
     },
     "execution_count": 14,
     "metadata": {},
     "output_type": "execute_result"
    },
    {
     "data": {
      "image/png": "[encoded data removed]",
      "text/plain": [
       "<Figure size 2000x1500 with 9 Axes>"
      ]
     },
     "metadata": {},
     "output_type": "display_data"
    }
   ],
   "source": [
    "# let's do histograms for the all the features to understand the data distributions\n",
    "# using housing_df as to not plot the encoded values for OCEAN_PROXIMITY \n",
    "housing_df.hist(bins=50, figsize=(20,15))"
   ]
  },
  {
   "cell_type": "markdown",
   "id": "83ae2f7f-477a-4160-9bbb-66f2c20e0fb0",
   "metadata": {},
   "source": [
    "#### Use a heatmap to show correlation"
   ]
  },
  {
   "cell_type": "code",
   "execution_count": 15,
   "id": "94a06cae-8e05-48db-a20f-78e9a74af526",
   "metadata": {},
   "outputs": [
    {
     "ename": "ValueError",
     "evalue": "could not convert string to float: 'NEAR BAY'",
     "output_type": "error",
     "traceback": [
      "\u001b[1;31m---------------------------------------------------------------------------\u001b[0m",
      "\u001b[1;31mValueError\u001b[0m                                Traceback (most recent call last)",
      "Cell \u001b[1;32mIn[15], line 2\u001b[0m\n\u001b[0;32m      1\u001b[0m \u001b[38;5;66;03m# Plot a graphical correlation matrix for each pair of columns in the dataframe\u001b[39;00m\n\u001b[1;32m----> 2\u001b[0m corr \u001b[38;5;241m=\u001b[39m \u001b[43mhousing_df\u001b[49m\u001b[38;5;241;43m.\u001b[39;49m\u001b[43mcorr\u001b[49m\u001b[43m(\u001b[49m\u001b[43m)\u001b[49m \u001b[38;5;66;03m# data frame correlation function\u001b[39;00m\n\u001b[0;32m      3\u001b[0m \u001b[38;5;28mprint\u001b[39m(corr)\n",
      "File \u001b[1;32m~\\AppData\\Roaming\\Python\\Python311\\site-packages\\pandas\\core\\frame.py:10054\u001b[0m, in \u001b[0;36mDataFrame.corr\u001b[1;34m(self, method, min_periods, numeric_only)\u001b[0m\n\u001b[0;32m  10052\u001b[0m cols \u001b[38;5;241m=\u001b[39m data\u001b[38;5;241m.\u001b[39mcolumns\n\u001b[0;32m  10053\u001b[0m idx \u001b[38;5;241m=\u001b[39m cols\u001b[38;5;241m.\u001b[39mcopy()\n\u001b[1;32m> 10054\u001b[0m mat \u001b[38;5;241m=\u001b[39m \u001b[43mdata\u001b[49m\u001b[38;5;241;43m.\u001b[39;49m\u001b[43mto_numpy\u001b[49m\u001b[43m(\u001b[49m\u001b[43mdtype\u001b[49m\u001b[38;5;241;43m=\u001b[39;49m\u001b[38;5;28;43mfloat\u001b[39;49m\u001b[43m,\u001b[49m\u001b[43m \u001b[49m\u001b[43mna_value\u001b[49m\u001b[38;5;241;43m=\u001b[39;49m\u001b[43mnp\u001b[49m\u001b[38;5;241;43m.\u001b[39;49m\u001b[43mnan\u001b[49m\u001b[43m,\u001b[49m\u001b[43m \u001b[49m\u001b[43mcopy\u001b[49m\u001b[38;5;241;43m=\u001b[39;49m\u001b[38;5;28;43;01mFalse\u001b[39;49;00m\u001b[43m)\u001b[49m\n\u001b[0;32m  10056\u001b[0m \u001b[38;5;28;01mif\u001b[39;00m method \u001b[38;5;241m==\u001b[39m \u001b[38;5;124m\"\u001b[39m\u001b[38;5;124mpearson\u001b[39m\u001b[38;5;124m\"\u001b[39m:\n\u001b[0;32m  10057\u001b[0m     correl \u001b[38;5;241m=\u001b[39m libalgos\u001b[38;5;241m.\u001b[39mnancorr(mat, minp\u001b[38;5;241m=\u001b[39mmin_periods)\n",
      "File \u001b[1;32m~\\AppData\\Roaming\\Python\\Python311\\site-packages\\pandas\\core\\frame.py:1838\u001b[0m, in \u001b[0;36mDataFrame.to_numpy\u001b[1;34m(self, dtype, copy, na_value)\u001b[0m\n\u001b[0;32m   1836\u001b[0m \u001b[38;5;28;01mif\u001b[39;00m dtype \u001b[38;5;129;01mis\u001b[39;00m \u001b[38;5;129;01mnot\u001b[39;00m \u001b[38;5;28;01mNone\u001b[39;00m:\n\u001b[0;32m   1837\u001b[0m     dtype \u001b[38;5;241m=\u001b[39m np\u001b[38;5;241m.\u001b[39mdtype(dtype)\n\u001b[1;32m-> 1838\u001b[0m result \u001b[38;5;241m=\u001b[39m \u001b[38;5;28;43mself\u001b[39;49m\u001b[38;5;241;43m.\u001b[39;49m\u001b[43m_mgr\u001b[49m\u001b[38;5;241;43m.\u001b[39;49m\u001b[43mas_array\u001b[49m\u001b[43m(\u001b[49m\u001b[43mdtype\u001b[49m\u001b[38;5;241;43m=\u001b[39;49m\u001b[43mdtype\u001b[49m\u001b[43m,\u001b[49m\u001b[43m \u001b[49m\u001b[43mcopy\u001b[49m\u001b[38;5;241;43m=\u001b[39;49m\u001b[43mcopy\u001b[49m\u001b[43m,\u001b[49m\u001b[43m \u001b[49m\u001b[43mna_value\u001b[49m\u001b[38;5;241;43m=\u001b[39;49m\u001b[43mna_value\u001b[49m\u001b[43m)\u001b[49m\n\u001b[0;32m   1839\u001b[0m \u001b[38;5;28;01mif\u001b[39;00m result\u001b[38;5;241m.\u001b[39mdtype \u001b[38;5;129;01mis\u001b[39;00m \u001b[38;5;129;01mnot\u001b[39;00m dtype:\n\u001b[0;32m   1840\u001b[0m     result \u001b[38;5;241m=\u001b[39m np\u001b[38;5;241m.\u001b[39marray(result, dtype\u001b[38;5;241m=\u001b[39mdtype, copy\u001b[38;5;241m=\u001b[39m\u001b[38;5;28;01mFalse\u001b[39;00m)\n",
      "File \u001b[1;32m~\\AppData\\Roaming\\Python\\Python311\\site-packages\\pandas\\core\\internals\\managers.py:1732\u001b[0m, in \u001b[0;36mBlockManager.as_array\u001b[1;34m(self, dtype, copy, na_value)\u001b[0m\n\u001b[0;32m   1730\u001b[0m         arr\u001b[38;5;241m.\u001b[39mflags\u001b[38;5;241m.\u001b[39mwriteable \u001b[38;5;241m=\u001b[39m \u001b[38;5;28;01mFalse\u001b[39;00m\n\u001b[0;32m   1731\u001b[0m \u001b[38;5;28;01melse\u001b[39;00m:\n\u001b[1;32m-> 1732\u001b[0m     arr \u001b[38;5;241m=\u001b[39m \u001b[38;5;28;43mself\u001b[39;49m\u001b[38;5;241;43m.\u001b[39;49m\u001b[43m_interleave\u001b[49m\u001b[43m(\u001b[49m\u001b[43mdtype\u001b[49m\u001b[38;5;241;43m=\u001b[39;49m\u001b[43mdtype\u001b[49m\u001b[43m,\u001b[49m\u001b[43m \u001b[49m\u001b[43mna_value\u001b[49m\u001b[38;5;241;43m=\u001b[39;49m\u001b[43mna_value\u001b[49m\u001b[43m)\u001b[49m\n\u001b[0;32m   1733\u001b[0m     \u001b[38;5;66;03m# The underlying data was copied within _interleave, so no need\u001b[39;00m\n\u001b[0;32m   1734\u001b[0m     \u001b[38;5;66;03m# to further copy if copy=True or setting na_value\u001b[39;00m\n\u001b[0;32m   1736\u001b[0m \u001b[38;5;28;01mif\u001b[39;00m na_value \u001b[38;5;129;01mis\u001b[39;00m \u001b[38;5;129;01mnot\u001b[39;00m lib\u001b[38;5;241m.\u001b[39mno_default:\n",
      "File \u001b[1;32m~\\AppData\\Roaming\\Python\\Python311\\site-packages\\pandas\\core\\internals\\managers.py:1794\u001b[0m, in \u001b[0;36mBlockManager._interleave\u001b[1;34m(self, dtype, na_value)\u001b[0m\n\u001b[0;32m   1792\u001b[0m     \u001b[38;5;28;01melse\u001b[39;00m:\n\u001b[0;32m   1793\u001b[0m         arr \u001b[38;5;241m=\u001b[39m blk\u001b[38;5;241m.\u001b[39mget_values(dtype)\n\u001b[1;32m-> 1794\u001b[0m     \u001b[43mresult\u001b[49m\u001b[43m[\u001b[49m\u001b[43mrl\u001b[49m\u001b[38;5;241;43m.\u001b[39;49m\u001b[43mindexer\u001b[49m\u001b[43m]\u001b[49m \u001b[38;5;241m=\u001b[39m arr\n\u001b[0;32m   1795\u001b[0m     itemmask[rl\u001b[38;5;241m.\u001b[39mindexer] \u001b[38;5;241m=\u001b[39m \u001b[38;5;241m1\u001b[39m\n\u001b[0;32m   1797\u001b[0m \u001b[38;5;28;01mif\u001b[39;00m \u001b[38;5;129;01mnot\u001b[39;00m itemmask\u001b[38;5;241m.\u001b[39mall():\n",
      "\u001b[1;31mValueError\u001b[0m: could not convert string to float: 'NEAR BAY'"
     ]
    }
   ],
   "source": [
    "# Plot a graphical correlation matrix for each pair of columns in the dataframe\n",
    "corr = housing_df.corr() # data frame correlation function\n",
    "print(corr)"
   ]
  },
  {
   "cell_type": "code",
   "execution_count": null,
   "id": "3ac2ed86-90fd-43ab-b18f-ae99d2d1341d",
   "metadata": {},
   "outputs": [],
   "source": [
    "# make the heatmap larger in size\n",
    "plt.figure(figsize = (8,8))\n",
    "\n",
    "sns.heatmap(corr, annot=True)\n",
    "plt.show()"
   ]
  },
  {
   "cell_type": "markdown",
   "id": "7ef111a5-f2f7-4db5-9a74-16776813b6e0",
   "metadata": {},
   "source": [
    "##### Feature Engineering"
   ]
  },
  {
   "cell_type": "code",
   "execution_count": null,
   "id": "b1c4dde8-d8e6-4621-aeb6-7b7c039dc0f3",
   "metadata": {},
   "outputs": [],
   "source": [
    "# Additionally we noted that several features (total_rooms,total_bedrooms,population,households) have very high correlation to one another, \n",
    "# so it's interesting to find out if a removal of a few of them would have any affect on the model performance\n",
    "\n",
    "#  a new feature that is a ratio of the total rooms to households\n",
    "housing_df['rooms_per_household'] = housing_df['total_rooms']/housing_df['households']\n",
    "\n",
    "# a new feature that is a ratio of the total bedrooms to the total rooms \n",
    "housing_df['bedrooms_per_room'] = housing_df['total_bedrooms']/housing_df['total_rooms']\n",
    "\n",
    "# a new feature that is a ratio of the population to the households \n",
    "housing_df['population_per_household']= housing_df['population']/housing_df['households']\n",
    "\n",
    "# let's combine the latitude and longitude into 1\n",
    "housing_df['coords'] = housing_df['longitude']/housing_df['latitude']\n",
    "\n",
    "housing_df.info()"
   ]
  },
  {
   "cell_type": "code",
   "execution_count": null,
   "id": "9f94582a-901f-4729-9e5b-d8fa027b8e74",
   "metadata": {},
   "outputs": [],
   "source": [
    "# remove total_rooms, households, total bedrooms, popluation, longitude, latitude\n",
    "housing_df = housing_df.drop('total_rooms', axis=1)\n",
    "housing_df = housing_df.drop('households', axis=1)\n",
    "housing_df = housing_df.drop('total_bedrooms', axis=1)\n",
    "housing_df = housing_df.drop('population', axis=1)\n",
    "housing_df = housing_df.drop('longitude', axis=1)\n",
    "housing_df = housing_df.drop('latitude', axis=1)\n",
    "\n",
    "housing_df.info()"
   ]
  },
  {
   "cell_type": "markdown",
   "id": "d6f5d86a-289d-46e3-b12b-1f87c4fe2314",
   "metadata": {},
   "source": [
    "##### Heatmap after removing correlation"
   ]
  },
  {
   "cell_type": "code",
   "execution_count": null,
   "id": "a2638134-616c-4ad2-8884-76961aeae59e",
   "metadata": {},
   "outputs": [],
   "source": [
    "corr = housing_df.corr() \n",
    "\n",
    "#make the heatmap larger in size\n",
    "plt.figure(figsize = (7,7))\n",
    "\n",
    "sns.heatmap(corr, annot=True)\n",
    "plt.show()"
   ]
  },
  {
   "cell_type": "markdown",
   "id": "f4137895-007b-4fb1-8728-8792928f53cf",
   "metadata": {},
   "source": [
    "## Encode categorical data"
   ]
  },
  {
   "cell_type": "code",
   "execution_count": null,
   "id": "3a712bde-01c2-4f43-90fb-b1aabb67f3d4",
   "metadata": {},
   "outputs": [],
   "source": [
    "# Most ML algorithms can only learn from numeric data (it's all Math) so categorical data must be encoded (i.e. converted) to numeric data\n",
    "\n",
    "# Let's review our data types again; showing that ocean_proximity is the only categorical data\n",
    "housing_df.info()"
   ]
  },
  {
   "cell_type": "code",
   "execution_count": null,
   "id": "df289acf-5df4-4ae2-a809-ac84983d0fe6",
   "metadata": {},
   "outputs": [],
   "source": [
    "# let's see the unique categories for OCEAN_PROXIMITY\n",
    "housing_df.ocean_proximity.unique()"
   ]
  },
  {
   "cell_type": "code",
   "execution_count": null,
   "id": "e9b33eb2-c363-4993-97fc-81b9273c0720",
   "metadata": {},
   "outputs": [],
   "source": [
    "# let's count\n",
    "housing_df[\"ocean_proximity\"].value_counts()"
   ]
  },
  {
   "cell_type": "markdown",
   "id": "0aa7f116-8d10-4cc2-8279-322bbd99d4c5",
   "metadata": {},
   "source": [
    "### One-Hot Encoding"
   ]
  },
  {
   "cell_type": "code",
   "execution_count": null,
   "id": "85cda782-10c2-4c1f-bc1a-1bd88ffb9e80",
   "metadata": {},
   "outputs": [],
   "source": [
    "# Let's see how the Panda's get_dummies() function works\n",
    "print(pd.get_dummies(housing_df['ocean_proximity']))"
   ]
  },
  {
   "cell_type": "code",
   "execution_count": null,
   "id": "3fdbad69",
   "metadata": {},
   "outputs": [],
   "source": [
    "# let's replace the OCEAN_PROXIMITY column using get_dummies()\n",
    "housing_df_encoded = pd.get_dummies(data=housing_df, columns=['ocean_proximity'])\n",
    "\n",
    "# print the first few observations; notice the old OCEAN_PROXIMITY column is gone\n",
    "housing_df_encoded.head()"
   ]
  },
  {
   "cell_type": "markdown",
   "id": "a37ea4cc-ca9c-4819-bdf5-83fcb2413385",
   "metadata": {},
   "source": [
    "## Train the model"
   ]
  },
  {
   "cell_type": "code",
   "execution_count": null,
   "id": "b988badf-4961-40e2-8d22-9fda6fcc44ef",
   "metadata": {},
   "outputs": [],
   "source": [
    "import sklearn\n",
    "from sklearn.model_selection import train_test_split\n",
    "\n",
    "# remove spaces from column names and convert all to lowercase and remove special characters as it could cause issues in the future\n",
    "housing_df_encoded.columns = [c.lower().replace(' ', '_').replace('<', '_') for c in housing_df_encoded.columns]\n",
    "\n",
    "# Split target variable and feature variables\n",
    "X = housing_df_encoded[['housing_median_age', 'median_income','bedrooms_per_room','population_per_household','coords','ocean_proximity__1h_ocean',\n",
    "                        'ocean_proximity_inland','ocean_proximity_island','ocean_proximity_near_bay','ocean_proximity_near_ocean']]\n",
    "y = housing_df_encoded['median_house_value']\n",
    "\n",
    "print(X)"
   ]
  },
  {
   "cell_type": "markdown",
   "id": "03aed0f6-6014-49e5-a36d-7216c02bc28a",
   "metadata": {},
   "source": [
    "### Split training & test data"
   ]
  },
  {
   "cell_type": "code",
   "execution_count": null,
   "id": "88db92d2-e9b3-4651-8602-cc18619ff409",
   "metadata": {},
   "outputs": [],
   "source": [
    "# Splitting the data into training and testing sets in numpy arrays\n",
    "# We train the model with 70% of the samples and test with the remaining 30%\n",
    "# X -> array with the inputs; y -> array of the outputs\n",
    "X_train, X_test, y_train, y_test = train_test_split(X, y, random_state=42, shuffle=True, test_size=0.3)\n",
    "\n",
    "# Confirm how the data was split\n",
    "print(X_train.shape)\n",
    "print(X_test.shape)\n",
    "print(y_train.shape)\n",
    "print(y_test.shape)"
   ]
  },
  {
   "cell_type": "markdown",
   "id": "b607798f-076f-4696-8cc5-5281103e8247",
   "metadata": {},
   "source": [
    "## Linear Regression - Model Training"
   ]
  },
  {
   "cell_type": "code",
   "execution_count": null,
   "id": "098f04c4-b616-4be8-8f97-db0715f25226",
   "metadata": {
    "scrolled": true
   },
   "outputs": [],
   "source": [
    "# Use scikit-learn’s LinearRegression to train the model on both the training and evaluate it on the test sets\n",
    "from sklearn.linear_model import LinearRegression\n",
    "\n",
    "# Create a Linear regressor using all the feature variables\n",
    "reg_model = LinearRegression()\n",
    "\n",
    "# Train the model using the training sets\n",
    "reg_model.fit(X_train, y_train)"
   ]
  },
  {
   "cell_type": "markdown",
   "id": "93d08eaf-ee43-478e-8ec4-baab001eb262",
   "metadata": {},
   "source": [
    "## Run the predictions"
   ]
  },
  {
   "cell_type": "code",
   "execution_count": null,
   "id": "4cf2303e-5928-43b2-985e-ec86a6095413",
   "metadata": {},
   "outputs": [],
   "source": [
    "#run the predictions on the training and testing data\n",
    "y_pred_test = reg_model.predict(X_test)"
   ]
  },
  {
   "cell_type": "markdown",
   "id": "138bcdf9-7535-4ba9-8e13-09a7c53b73bc",
   "metadata": {},
   "source": [
    "## Evaluate the model"
   ]
  },
  {
   "cell_type": "code",
   "execution_count": null,
   "id": "d96200b1-6570-45ef-bccf-bb0d27b3de4c",
   "metadata": {},
   "outputs": [],
   "source": [
    "#compare the actual values (ie, target) with the values predicted by the model\n",
    "pred_test_df = pd.DataFrame({'Actual': y_test, 'Predicted': y_pred_test})\n",
    "    \n",
    "pred_test_df"
   ]
  },
  {
   "cell_type": "markdown",
   "id": "282b54bc-e7bd-4342-aab0-8e94f5f9d538",
   "metadata": {},
   "source": [
    "### Evaluate the model using the 𝑅^2 metric"
   ]
  },
  {
   "cell_type": "code",
   "execution_count": null,
   "id": "ec03d269-e46c-43db-b729-7555215a097f",
   "metadata": {},
   "outputs": [],
   "source": [
    "# Determine accuracy uisng 𝑅^2\n",
    "# 𝑅^2 : R squared is another way to evaluate the performance of a regression model.\n",
    "# 1, means that the model is perfect and 0 means the the model will perform poorly.\n",
    "r2_reg_model_test = round(reg_model.score(X_test, y_test),2)\n",
    "\n",
    "print(\"R^2 Test: {}\".format(r2_reg_model_test))"
   ]
  },
  {
   "cell_type": "markdown",
   "id": "cbcf91ce-3c4c-458d-881c-33fdad5feb11",
   "metadata": {},
   "source": [
    "##  RandomForestRegressor - Model Training"
   ]
  },
  {
   "cell_type": "code",
   "execution_count": null,
   "id": "b80e8e93-156e-442c-b465-d647a582469e",
   "metadata": {},
   "outputs": [],
   "source": [
    "# try another machine learning algorithm : Randorm Forest\n",
    "# Use scikit-learn’s Randorm Forest to train the model on both the training and evaluate it on the test sets\n",
    "from sklearn.ensemble import RandomForestRegressor\n",
    "\n",
    "# Create a  regressor using all the feature variables\n",
    "rf_model = RandomForestRegressor(n_estimators=10,random_state=10)\n",
    "\n",
    "# Train the model using the training sets\n",
    "rf_model.fit(X_train, y_train)"
   ]
  },
  {
   "cell_type": "markdown",
   "id": "35eab0b8-9fe9-403f-88a1-50d91c7bb1cb",
   "metadata": {},
   "source": [
    "## Run the predictions"
   ]
  },
  {
   "cell_type": "code",
   "execution_count": null,
   "id": "35564066-85b0-46a5-961b-a9b39d95e971",
   "metadata": {},
   "outputs": [],
   "source": [
    "#run the predictions on the training and testing data\n",
    "y_rf_pred_test = rf_model.predict(X_test)"
   ]
  },
  {
   "cell_type": "markdown",
   "id": "1bc16242-1fdd-4870-9e9b-27942452595b",
   "metadata": {},
   "source": [
    "## Evaluate the model"
   ]
  },
  {
   "cell_type": "code",
   "execution_count": 17,
   "id": "7b80d01e-0538-41a7-8139-a24a6cc0d309",
   "metadata": {},
   "outputs": [
    {
     "ename": "NameError",
     "evalue": "name 'y_test' is not defined",
     "output_type": "error",
     "traceback": [
      "\u001b[1;31m---------------------------------------------------------------------------\u001b[0m",
      "\u001b[1;31mNameError\u001b[0m                                 Traceback (most recent call last)",
      "Cell \u001b[1;32mIn[17], line 2\u001b[0m\n\u001b[0;32m      1\u001b[0m \u001b[38;5;66;03m#compare the actual values (ie, target) with the values predicted by the model\u001b[39;00m\n\u001b[1;32m----> 2\u001b[0m rf_pred_test_df \u001b[38;5;241m=\u001b[39m pd\u001b[38;5;241m.\u001b[39mDataFrame({\u001b[38;5;124m'\u001b[39m\u001b[38;5;124mActual\u001b[39m\u001b[38;5;124m'\u001b[39m: \u001b[43my_test\u001b[49m, \u001b[38;5;124m'\u001b[39m\u001b[38;5;124mPredicted\u001b[39m\u001b[38;5;124m'\u001b[39m: y_rf_pred_test})\n\u001b[0;32m      4\u001b[0m rf_pred_test_df\n",
      "\u001b[1;31mNameError\u001b[0m: name 'y_test' is not defined"
     ]
    }
   ],
   "source": [
    "#compare the actual values (ie, target) with the values predicted by the model\n",
    "rf_pred_test_df = pd.DataFrame({'Actual': y_test, 'Predicted': y_rf_pred_test})\n",
    "\n",
    "rf_pred_test_df"
   ]
  },
  {
   "cell_type": "code",
   "execution_count": 16,
   "id": "494ee151-d0bc-4599-bb56-4f3465793fb3",
   "metadata": {},
   "outputs": [
    {
     "ename": "NameError",
     "evalue": "name 'y_test' is not defined",
     "output_type": "error",
     "traceback": [
      "\u001b[1;31m---------------------------------------------------------------------------\u001b[0m",
      "\u001b[1;31mNameError\u001b[0m                                 Traceback (most recent call last)",
      "Cell \u001b[1;32mIn[16], line 4\u001b[0m\n\u001b[0;32m      1\u001b[0m \u001b[38;5;66;03m# Determine accuracy uisng 𝑅^2\u001b[39;00m\n\u001b[0;32m      2\u001b[0m \u001b[38;5;28;01mfrom\u001b[39;00m \u001b[38;5;21;01msklearn\u001b[39;00m\u001b[38;5;21;01m.\u001b[39;00m\u001b[38;5;21;01mmetrics\u001b[39;00m \u001b[38;5;28;01mimport\u001b[39;00m r2_score, mean_squared_error\n\u001b[1;32m----> 4\u001b[0m score \u001b[38;5;241m=\u001b[39m r2_score(\u001b[43my_test\u001b[49m, y_rf_pred_test)\n\u001b[0;32m      6\u001b[0m \u001b[38;5;28mprint\u001b[39m(\u001b[38;5;124m\"\u001b[39m\u001b[38;5;124mR^2 - \u001b[39m\u001b[38;5;132;01m{}\u001b[39;00m\u001b[38;5;124m%\u001b[39m\u001b[38;5;124m\"\u001b[39m\u001b[38;5;241m.\u001b[39mformat(\u001b[38;5;28mround\u001b[39m(score, \u001b[38;5;241m2\u001b[39m) \u001b[38;5;241m*\u001b[39m\u001b[38;5;241m100\u001b[39m))\n",
      "\u001b[1;31mNameError\u001b[0m: name 'y_test' is not defined"
     ]
    }
   ],
   "source": [
    "# Determine accuracy uisng 𝑅^2\n",
    "from sklearn.metrics import r2_score, mean_squared_error\n",
    "\n",
    "score = r2_score(y_test, y_rf_pred_test)\n",
    "\n",
    "print(\"R^2 - {}%\".format(round(score, 2) *100))"
   ]
  },
  {
   "cell_type": "code",
   "execution_count": null,
   "id": "57599279-d2a2-4e08-b2c9-f68f8f63fee5",
   "metadata": {},
   "outputs": [],
   "source": [
    "# Determine RMSE - Root Mean Squared Error on the test data\n",
    "print('RMSE on test data: ',  mean_squared_error(y_test, y_rf_pred_test)**(0.5))"
   ]
  },
  {
   "cell_type": "markdown",
   "id": "d30e865e-e072-4212-8735-b8d503dea5cc",
   "metadata": {},
   "source": [
    "# Determine Feature Importance"
   ]
  },
  {
   "cell_type": "code",
   "execution_count": null,
   "id": "ad910ca1-383d-4502-9ef2-5e87366c22cd",
   "metadata": {},
   "outputs": [],
   "source": [
    "# Determine feature importance - random forest algorithm is that it gives you the ‘feature importance’ for all the variables in the data\n",
    "# plot the 6 most important features \n",
    "plt.figure(figsize=(10,6))\n",
    "feat_importances = pd.Series(rf_model.feature_importances_, index = X_train.columns)\n",
    "feat_importances.nlargest(6).plot(kind='barh');"
   ]
  },
  {
   "cell_type": "markdown",
   "id": "3c2d7b27-b193-47eb-91e0-19ed7a6737bf",
   "metadata": {},
   "source": [
    "Now, we are going to train the same random forest model using these 6 features only and observe the change in RMSE values for the train and the validation set."
   ]
  },
  {
   "cell_type": "code",
   "execution_count": null,
   "id": "e2fb7168-d51b-47c0-9e00-552c2fbbf769",
   "metadata": {},
   "outputs": [],
   "source": [
    "# training data with 5 most important features\n",
    "train_x_if = X_train[['bedrooms_per_room', 'housing_median_age', 'coords', 'ocean_proximity_inland','population_per_household','median_income']]\n",
    "test_x_if = X_test[['bedrooms_per_room', 'housing_median_age', 'coords', 'ocean_proximity_inland','population_per_household','median_income']]\n",
    "\n",
    "# create an object of the RandfomForestRegressor Model\n",
    "rf_model_if = RandomForestRegressor(n_estimators=10,random_state=10)\n",
    "\n",
    "# fit the model with the training data\n",
    "rf_model_if.fit(train_x_if, y_train)\n",
    "\n",
    "# predict the target on the test data\n",
    "predict_test_with_if = rf_model_if.predict(test_x_if)"
   ]
  },
  {
   "cell_type": "code",
   "execution_count": null,
   "id": "e79b953b-9a31-41a4-844d-9ec9b31a9d5f",
   "metadata": {},
   "outputs": [],
   "source": [
    "# Root Mean Squared Error on the train and test data\n",
    "print('RMSE on test data: ',  mean_squared_error(y_test, predict_test_with_if)**(0.5))"
   ]
  },
  {
   "cell_type": "markdown",
   "id": "0260ed49-babd-4e83-8e31-2fb2262d087c",
   "metadata": {},
   "source": [
    "## XGBoost - Model Training"
   ]
  },
  {
   "cell_type": "markdown",
   "id": "97a7db38-81ac-470c-89ed-21897abb673a",
   "metadata": {},
   "source": [
    "**A few things to note:**\n",
    "\n",
    "- You'll need to install the various libraries before importing them ```(i.e. %pip install xgboost)```\n",
    "- You may need to restart the kernel to use updated packages."
   ]
  },
  {
   "cell_type": "code",
   "execution_count": null,
   "id": "c02f7f22-f10e-4240-8329-c788872b96fb",
   "metadata": {},
   "outputs": [],
   "source": [
    "# Extreme Gradient Boosting (XGBoost) is an open-source library that provides an efficient and effective implementation of the gradient boosting algorithm.\n",
    "# Use the scikit-learn wrapper classes: XGBRegressor and XGBClassifier. \n",
    "\n",
    "# try another machine learning algorithm : XGBoost\n",
    "from xgboost import XGBRegressor\n",
    "\n",
    "xgb_model = XGBRegressor()"
   ]
  },
  {
   "cell_type": "code",
   "execution_count": null,
   "id": "6117c6c3-9da1-449b-9c43-b99b96c706ba",
   "metadata": {
    "scrolled": true,
    "tags": []
   },
   "outputs": [],
   "source": [
    "# Train the model using the training sets\n",
    "xgb_model.fit(X_train, y_train)"
   ]
  },
  {
   "cell_type": "markdown",
   "id": "cf6aa487-bd9a-44b0-8fae-234bcaf868da",
   "metadata": {},
   "source": [
    "## Run the predictions"
   ]
  },
  {
   "cell_type": "code",
   "execution_count": null,
   "id": "032ccd75-8fcf-442a-9d98-e7d0f44193e8",
   "metadata": {},
   "outputs": [],
   "source": [
    "#run the predictions on the training and testing data\n",
    "y_xgb_pred_test = xgb_model.predict(X_test)"
   ]
  },
  {
   "cell_type": "markdown",
   "id": "d215cd90-ba15-4019-a88d-c4d2c3af31f3",
   "metadata": {},
   "source": [
    "## Evaluate the model"
   ]
  },
  {
   "cell_type": "code",
   "execution_count": null,
   "id": "79ede4fb-b359-457c-906a-2364382b26b3",
   "metadata": {},
   "outputs": [],
   "source": [
    "#compare the actual values (ie, target) with the values predicted by the model\n",
    "xgb_pred_test_df = pd.DataFrame({'Actual': y_test, 'Predicted': y_xgb_pred_test})\n",
    "\n",
    "xgb_pred_test_df"
   ]
  },
  {
   "cell_type": "code",
   "execution_count": null,
   "id": "75dfbbd9-e49b-4979-86dd-ef9b22740317",
   "metadata": {},
   "outputs": [],
   "source": [
    "fig= plt.figure(figsize=(8,8))\n",
    "xgb_pred_test_df = xgb_pred_test_df.reset_index()\n",
    "xgb_pred_test_df = xgb_pred_test_df.drop(['index'],axis=1)\n",
    "plt.plot(xgb_pred_test_df[:50])\n",
    "plt.legend(['Actual value','Predicted value'])"
   ]
  },
  {
   "cell_type": "code",
   "execution_count": null,
   "id": "218027a7-d038-4b1a-9fea-7543e7d8c8d9",
   "metadata": {},
   "outputs": [],
   "source": [
    "from sklearn.metrics import r2_score\n",
    "\n",
    "score = r2_score(y_test, y_xgb_pred_test)\n",
    "\n",
    "print(\"R^2 - {}%\".format(round(score, 2) *100))"
   ]
  },
  {
   "cell_type": "code",
   "execution_count": null,
   "id": "e0c3845e-f9cc-46bf-96b5-b651d614ed24",
   "metadata": {},
   "outputs": [],
   "source": [
    "# Determine mean square error and root mean square error\n",
    "from sklearn.metrics import mean_squared_error\n",
    "import math\n",
    "\n",
    "mse = mean_squared_error(y_test, y_xgb_pred_test)\n",
    "rmse = math.sqrt(mean_squared_error(y_test, y_xgb_pred_test))\n",
    "\n",
    "print(mse)\n",
    "print(rmse)"
   ]
  },
  {
   "cell_type": "code",
   "execution_count": null,
   "id": "7f07f27e-e46e-4dfd-ab65-a30601af1d16",
   "metadata": {},
   "outputs": [],
   "source": [
    "# Calculate mean absolute error\n",
    "from sklearn.metrics import mean_absolute_error\n",
    "\n",
    "print(mean_absolute_error(y_test, y_xgb_pred_test))"
   ]
  },
  {
   "cell_type": "markdown",
   "id": "49706f5e-3140-400b-b31e-307c73398238",
   "metadata": {},
   "source": [
    "## Cross Validation\n"
   ]
  },
  {
   "cell_type": "code",
   "execution_count": null,
   "id": "de609af5-6f83-4a8b-9691-db81dc7e1117",
   "metadata": {},
   "outputs": [],
   "source": [
    "# We can build and score a model on multiple folds using cross-validation\n",
    "from sklearn.model_selection import RepeatedKFold\n",
    "from sklearn.model_selection import cross_val_score\n",
    "\n",
    "\n",
    "# define model evaluation method\n",
    "cv = RepeatedKFold(n_splits=10, n_repeats=3, random_state=1)\n",
    "\n",
    "scores = cross_val_score(xgb_model, X, y, scoring='r2', error_score='raise', cv=cv, n_jobs=-1, verbose=1)\n",
    "\n",
    "#average of all the r2 scores across runs\n",
    "print(scores.mean())"
   ]
  },
  {
   "cell_type": "markdown",
   "id": "47f8bf03-cead-43b8-a5cf-a599ab161546",
   "metadata": {},
   "source": [
    "## Hyperparameter Tuning\n",
    "\n",
    "Good hyperparameter values can be found by trial and error for a given dataset, or systematic experimentation such as using a grid \n",
    "search across a range of values."
   ]
  },
  {
   "cell_type": "code",
   "execution_count": null,
   "id": "99db52c9-dda9-4b62-a475-23817784e68a",
   "metadata": {},
   "outputs": [],
   "source": [
    "# determine hyperparameter available for tuning\n",
    "xgb_model.get_params()"
   ]
  },
  {
   "cell_type": "code",
   "execution_count": null,
   "id": "e499df15-36fd-4b65-b628-f8f3bd27e2c8",
   "metadata": {
    "scrolled": true,
    "tags": []
   },
   "outputs": [],
   "source": [
    "xgb_model_2 = XGBRegressor(\n",
    "    gamma=0.05,\n",
    "    learning_rate=0.01,\n",
    "    max_depth=6,\n",
    "    n_estimators=1000,\n",
    "    n_jobs=16,\n",
    "    objective='reg:squarederror',\n",
    "    subsample=0.8,\n",
    "    scale_pos_weight=0,\n",
    "    reg_alpha=0,\n",
    "    reg_lambda=1,\n",
    "    verbosity=1)\n",
    "\n",
    "xgb_model_2.fit(X_train, y_train)\n",
    "\n",
    "\n",
    "#run the predictions on the training and testing data\n",
    "y_xgb_2_pred_test = xgb_model_2.predict(X_test)"
   ]
  },
  {
   "cell_type": "code",
   "execution_count": null,
   "id": "b73c9f33-7a65-46c3-a8b0-47f50079b8cc",
   "metadata": {},
   "outputs": [],
   "source": [
    "# compare the actual values (ie, target) with the values predicted by the model\n",
    "xgb_2_pred_test_df = pd.DataFrame({'Actual': y_test, 'Predicted': y_xgb_2_pred_test})\n",
    "\n",
    "xgb_2_pred_test_df"
   ]
  },
  {
   "cell_type": "code",
   "execution_count": null,
   "id": "835ec23d-271d-4246-a688-e93b34c49581",
   "metadata": {},
   "outputs": [],
   "source": [
    "fig= plt.figure(figsize=(8,8))\n",
    "xgb_2_pred_test_df = xgb_2_pred_test_df.reset_index()\n",
    "xgb_2_pred_test_df = xgb_2_pred_test_df.drop(['index'],axis=1)\n",
    "plt.plot(xgb_2_pred_test_df[:50])\n",
    "plt.legend(['Actual value','Predicted value'])"
   ]
  },
  {
   "cell_type": "code",
   "execution_count": null,
   "id": "2daa6e3b-a504-4b10-9d05-0bb752369953",
   "metadata": {},
   "outputs": [],
   "source": [
    "from sklearn.metrics import mean_squared_error\n",
    "\n",
    "mse = np.sqrt(mean_squared_error(y_test, y_xgb_2_pred_test))\n",
    "print(\"RMSE: %.2f\" % (mse**(1/2.0)))"
   ]
  },
  {
   "cell_type": "code",
   "execution_count": null,
   "id": "9a0e6c8c-8253-4a94-990b-47e8f60c226f",
   "metadata": {},
   "outputs": [],
   "source": [
    "# Determine accuracy uisng 𝑅^2\n",
    "r2_xgb_model_2_test = round(xgb_model_2.score(X_test, y_test),2)\n",
    "\n",
    "print(\"R^2 Test: {}\".format(r2_xgb_model_2_test))"
   ]
  }
 ],
 "metadata": {
  "instance_type": "ml.t3.medium",
  "kernelspec": {
   "display_name": "Python 3 (ipykernel)",
   "language": "python",
   "name": "python3"
  },
  "language_info": {
   "codemirror_mode": {
    "name": "ipython",
    "version": 3
   },
   "file_extension": ".py",
   "mimetype": "text/x-python",
   "name": "python",
   "nbconvert_exporter": "python",
   "pygments_lexer": "ipython3",
   "version": "3.11.4"
  },
  "vscode": {
   "interpreter": {
    "hash": "31f2aee4e71d21fbe5cf8b01ff0e069b9275f58929596ceb00d14d90e3e16cd6"
   }
  }
 },
 "nbformat": 4,
 "nbformat_minor": 5
}
