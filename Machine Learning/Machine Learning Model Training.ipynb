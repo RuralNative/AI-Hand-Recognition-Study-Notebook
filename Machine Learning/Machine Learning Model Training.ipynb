{
 "cells": [
  {
   "cell_type": "markdown",
   "id": "89c23c1c",
   "metadata": {},
   "source": [
    "# Machine Learning Model Training"
   ]
  },
  {
   "cell_type": "markdown",
   "id": "883ed322",
   "metadata": {},
   "source": [
    "## Introductory Concepts"
   ]
  },
  {
   "cell_type": "markdown",
   "id": "6996139f",
   "metadata": {},
   "source": [
    "A **machine learning algorithm** or **learning algorithm** studies data for *trends* and *patterns* during the training process."
   ]
  },
  {
   "cell_type": "markdown",
   "id": "a254ee75",
   "metadata": {},
   "source": [
    "An **epoch** is a *pass/iteration* the computer makes as it uses the *chosen machine learning algorithm* to study the training data."
   ]
  },
  {
   "cell_type": "markdown",
   "id": "1f2ea2cd",
   "metadata": {},
   "source": [
    "A **mathematical model** or **model** is the *mathematical 'storage'* containing the trends and patterns uncovered by the machine learning algorithm. "
   ]
  },
  {
   "cell_type": "markdown",
   "id": "0c5b79ea",
   "metadata": {},
   "source": [
    "A **hyperparameter** is a critical parameter during the training process that determines the *number of epochs* to run over our training data, which results in an effective model."
   ]
  },
  {
   "cell_type": "markdown",
   "id": "6349956a",
   "metadata": {},
   "source": [
    "## Model Development (Training/Evaluation)"
   ]
  },
  {
   "cell_type": "markdown",
   "id": "fa14f8ba",
   "metadata": {},
   "source": [
    "Usually, **80%** of our data is used for the training process, while the remaining **20%** is used for evaluation."
   ]
  },
  {
   "cell_type": "markdown",
   "id": "9eb32d22",
   "metadata": {},
   "source": [
    "During the training process, **loss functions** are used to *assess the model's predictive ability*, such as accuracy, by measuring how far an *estimated value derived* from the model from the *actual value of the data*. These are used to optimize the training process. "
   ]
  },
  {
   "cell_type": "markdown",
   "id": "da69eb93",
   "metadata": {},
   "source": [
    "During the evaluation process, the model is judged on the evaluation data it has not seen before using the **loss functions evaluation metrics** derived from the *training process' loss functions*. Below are the standard evaluation metrics usually found in such metrics:\n",
    "* Mean Square Error (MSE)\n",
    "* Accuracy\n",
    "* F1 Score\n",
    "* AUC\n",
    "* R^2"
   ]
  },
  {
   "cell_type": "markdown",
   "id": "078c738d",
   "metadata": {},
   "source": [
    "The results of the evaluation process can then be used to tweak our *hyperparameters* to improve the model's performance."
   ]
  },
  {
   "cell_type": "markdown",
   "id": "4094b5c9",
   "metadata": {},
   "source": [
    "## Introduction to Learning Algorithms"
   ]
  },
  {
   "cell_type": "markdown",
   "id": "3edbd05c",
   "metadata": {},
   "source": [
    "**Linear Regression** is used to *solve regression problems* and is used to *predict numeric values*. This is achieved using **linear equations** that establishes the *relationships between independent and dependent variables or features by fitting it to a regression line*."
   ]
  },
  {
   "cell_type": "markdown",
   "id": "7c3b2bd5",
   "metadata": {},
   "source": [
    "**Logistic Regression** is used for *classification problems* and is used to *predict probability using binary values* based on a set of independent variables."
   ]
  },
  {
   "cell_type": "markdown",
   "id": "07bb81e6",
   "metadata": {},
   "source": [
    "**Decision trees** are used for *classification and regression problems*. This is achieved by following a process wherein the algorithm **(1)** segredate data based on features, **(2)** uncover a flow that produces the best results/prediction, and **(3)** remove irrelevant branches. *Hyperparameters* are used to configure the decision tree depth."
   ]
  },
  {
   "cell_type": "markdown",
   "id": "8369c21f",
   "metadata": {},
   "source": [
    "**Random trees** is a *set of decision trees* wherein each tree is created/instantiated from a different sample of rows, and *each tree making its own prediction*. All results are averaged to create the *final result*."
   ]
  },
  {
   "cell_type": "markdown",
   "id": "9db8076f",
   "metadata": {},
   "source": []
  },
  {
   "cell_type": "markdown",
   "id": "9fa0ada7",
   "metadata": {},
   "source": []
  },
  {
   "cell_type": "markdown",
   "id": "3826ac4e",
   "metadata": {},
   "source": []
  }
 ],
 "metadata": {
  "kernelspec": {
   "display_name": "Python 3 (ipykernel)",
   "language": "python",
   "name": "python3"
  },
  "language_info": {
   "codemirror_mode": {
    "name": "ipython",
    "version": 3
   },
   "file_extension": ".py",
   "mimetype": "text/x-python",
   "name": "python",
   "nbconvert_exporter": "python",
   "pygments_lexer": "ipython3",
   "version": "3.11.4"
  }
 },
 "nbformat": 4,
 "nbformat_minor": 5
}
