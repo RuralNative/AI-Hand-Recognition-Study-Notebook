{
 "cells": [
  {
   "cell_type": "markdown",
   "id": "968c97f5",
   "metadata": {},
   "source": [
    "# Machine Learning Model Training"
   ]
  },
  {
   "cell_type": "markdown",
   "id": "2f2b790e",
   "metadata": {},
   "source": [
    "## Introductory Concepts"
   ]
  },
  {
   "cell_type": "markdown",
   "id": "29bdf374",
   "metadata": {},
   "source": [
    "A **machine learning algorithm** or **learning algorithm** studies data for *trends* and *patterns* during the training process."
   ]
  },
  {
   "cell_type": "markdown",
   "id": "7df8e18c",
   "metadata": {},
   "source": [
    "An **epoch** is a *pass/iteration* the computer makes as it uses the *chosen machine learning algorithm* to study the training data."
   ]
  },
  {
   "cell_type": "markdown",
   "id": "985a142c",
   "metadata": {},
   "source": [
    "A **mathematical model** or **model** is the *mathematical 'storage'* containing the trends and patterns uncovered by the machine learning algorithm. "
   ]
  },
  {
   "cell_type": "markdown",
   "id": "e96c596a",
   "metadata": {},
   "source": [
    "A **hyperparameter** is a critical parameter during the training process that determines the *number of epochs* to run over our training data, which results in an effective model."
   ]
  },
  {
   "cell_type": "markdown",
   "id": "c90c78e8",
   "metadata": {},
   "source": [
    "## Model Development (Training/Evaluation)"
   ]
  },
  {
   "cell_type": "markdown",
   "id": "268640e4",
   "metadata": {},
   "source": [
    "Usually, **80%** of our data is used for the training process, while the remaining **20%** is used for evaluation."
   ]
  },
  {
   "cell_type": "markdown",
   "id": "07512cee",
   "metadata": {},
   "source": [
    "During the training process, **loss functions** are used to *assess the model's predictive ability*, such as accuracy, by measuring how far an *estimated value derived* from the model from the *actual value of the data*. These are used to optimize the training process. "
   ]
  },
  {
   "cell_type": "markdown",
   "id": "786acb4b",
   "metadata": {},
   "source": [
    "During the evaluation process, the model is judged on the evaluation data it has not seen before using the **loss functions evaluation metrics** derived from the *training process' loss functions*. Below are the standard evaluation metrics usually found in such metrics:\n",
    "* Mean Square Error (MSE)\n",
    "* Accuracy\n",
    "* F1 Score\n",
    "* AUC\n",
    "* R^2"
   ]
  },
  {
   "cell_type": "markdown",
   "id": "3d55af7c",
   "metadata": {},
   "source": [
    "The results of the evaluation process can then be used to tweak our *hyperparameters* to improve the model's performance."
   ]
  },
  {
   "cell_type": "markdown",
   "id": "26a3fc83",
   "metadata": {},
   "source": [
    "## Introduction to Learning Algorithms"
   ]
  },
  {
   "cell_type": "markdown",
   "id": "3b450594",
   "metadata": {},
   "source": [
    "**Linear Regression** is used to *solve regression problems* and is used to *predict numeric values*. This is achieved using **linear equations** that establishes the *relationships between independent and dependent variables or features by fitting it to a regression line*."
   ]
  },
  {
   "cell_type": "markdown",
   "id": "67f7f899",
   "metadata": {},
   "source": [
    "**Logistic Regression** is used for *classification problems* and is used to *predict probability using binary values* based on a set of independent variables."
   ]
  },
  {
   "cell_type": "markdown",
   "id": "072cf976",
   "metadata": {},
   "source": [
    "**Decision trees** are used for *classification and regression problems*. This is achieved by following a process wherein the algorithm **(1)** segredate data based on features, **(2)** uncover a flow that produces the best results/prediction, and **(3)** remove irrelevant branches. *Hyperparameters* are used to configure the decision tree depth."
   ]
  },
  {
   "cell_type": "markdown",
   "id": "e07634b2",
   "metadata": {},
   "source": [
    "**Random trees** is a *set of decision trees* wherein each tree is created/instantiated from a different sample of rows, and *each tree making its own prediction*. All results are averaged to create the *final result*."
   ]
  }
 ],
 "metadata": {
  "kernelspec": {
   "display_name": "Python 3 (ipykernel)",
   "language": "python",
   "name": "python3"
  },
  "language_info": {
   "codemirror_mode": {
    "name": "ipython",
    "version": 3
   },
   "file_extension": ".py",
   "mimetype": "text/x-python",
   "name": "python",
   "nbconvert_exporter": "python",
   "pygments_lexer": "ipython3",
   "version": "3.11.4"
  }
 },
 "nbformat": 4,
 "nbformat_minor": 5
}
